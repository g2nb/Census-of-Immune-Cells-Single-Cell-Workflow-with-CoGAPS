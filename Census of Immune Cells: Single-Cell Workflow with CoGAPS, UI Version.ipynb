{
 "cells": [
  {
   "cell_type": "markdown",
   "metadata": {},
   "source": [
    "# Census of Immune Cells: Single-Cell Workflow with CoGAPS"
   ]
  },
  {
   "cell_type": "markdown",
   "metadata": {},
   "source": [
    "# Authors\n",
    "Tom Sherman - <tomsherman159@gmail.com>  \n",
    "Ted Liefeld - <jliefeld@cloud.ucsd.edu>  \n",
    "Emily Davis - <edavis71@jhu.edu>  \n",
    "Genevieve Stein-O'Brien - <gsteinobrien@jhmi.edu>  \n",
    "Michael Reich - <mmreich@cloud.ucsd.edu>  \n",
    "Elana Fertig - <ejfertig@jhmi.edu>  "
   ]
  },
  {
   "cell_type": "markdown",
   "metadata": {},
   "source": [
    "# Table of Contents\n",
    "<a href=#Introduction>Introduction</a>  \n",
    "<a href=#Login>Login to GenePattern</a>  \n",
    "<a href=#Prerequisites>Prerequisites</a>  \n",
    "<a href=#Download-Raw-Data>Download Raw Data</a>  \n",
    "<a href=#Add-Preliminary-Annotations>Add Preliminary Annotations</a>  \n",
    "&nbsp;&nbsp;&nbsp;&nbsp;<a href=#Experimental-Conditions>Experimental Conditions</a>  \n",
    "&nbsp;&nbsp;&nbsp;&nbsp;<a href=#Count-Information>Count Information</a>  \n",
    "<a href=#Filter-Low-Quality-Samples>Filter Low Quality Samples</a>  \n",
    "&nbsp;&nbsp;&nbsp;&nbsp;<a href=#Visualize-Overall-Distribution>Visualize Overall Distribution</a>  \n",
    "&nbsp;&nbsp;&nbsp;&nbsp;<a href=#Cell-Filter----Count-Threshold>Cell Filter - Count Threshold</a>  \n",
    "&nbsp;&nbsp;&nbsp;&nbsp;<a href=#Cell-Filter---Gene-Threshold>Cell Filter - Gene Threshold</a>  \n",
    "&nbsp;&nbsp;&nbsp;&nbsp;<a href=#Remaining-Cells>Remaining Cells</a>  \n",
    "&nbsp;&nbsp;&nbsp;&nbsp;<a href=#Use-the-ScanpyUtilities-Module-to-Filter>Use the ScanpyUtilities Module to Filter</a>  \n",
    "&nbsp;&nbsp;&nbsp;&nbsp;<a href=#Subset-Data-for-Further-Analysis>Subset Data for Further Analysis</a>  \n",
    "<a href=#Cell-Type-Identification>Cell Type Identification</a>  \n",
    "<a href=#Final-Pre-Processing-Steps>Final Pre-Processing Steps</a>  \n",
    "<a href=#Visualization>Visualization</a>  \n",
    "<a href=#CoGAPS-Analysis>CoGAPS Analysis</a>  \n",
    "&nbsp;&nbsp;&nbsp;&nbsp;<a href=#Setting-up-a-CoGAPS-Run>Setting up a CoGAPS Run</a>  \n",
    "&nbsp;&nbsp;&nbsp;&nbsp;<a href=#Processing-the-CoGAPS-Result>Processing the CoGAPS Result</a>  \n",
    "&nbsp;&nbsp;&nbsp;&nbsp;<a href=#Visualizing-Patterns>Visualizing Patterns</a>  \n",
    "&nbsp;&nbsp;&nbsp;&nbsp;<a href=#Analyzing-Patterns>Analyzing Patterns</a>  \n",
    "&nbsp;&nbsp;&nbsp;&nbsp;&nbsp;&nbsp;&nbsp;&nbsp;<a href=#Known-Phenotypes>Known Phenotypes</a>  \n",
    "&nbsp;&nbsp;&nbsp;&nbsp;&nbsp;&nbsp;&nbsp;&nbsp;<a href=#Cell-Type-Identification-with-CoGAPS>Cell Type Identification with CoGAPS</a>  \n",
    "&nbsp;&nbsp;&nbsp;&nbsp;&nbsp;&nbsp;&nbsp;&nbsp;<a href=#Exploring-the-Patterns>Exploring the Patterns</a>  \n",
    "<a href=#References>References</a>  "
   ]
  },
  {
   "cell_type": "markdown",
   "metadata": {},
   "source": [
    "# Introduction\n",
    "<a href=#Table-of-Contents>back to top</a>  \n",
    "\n",
    "It is not uncommon to find single-cell data sets with hundreds of thousands, or even millions, of cells. The size of these data sets presents a challenge for most analysis pipelines, often requiring an external server to run. Working in this way can provide an unfamiliar environment for many researchers and can hinder their ability to focus on the actual analysis. In this notebook we walk through a common preprocessing workflow on a RNA-seq data set with 250,000 cells. Furthermore, we run a computationally intensive matrix factorization algorithm, **CoGAPS** [2,6], completely from the interface provided in the notebook. We demonstrate how the GenePattern notebook environment combines the user friendliness of a Jupyter notebook with the compute power of a large cluster.\n",
    "\n",
    "The data set used in this analysis is one of the Human Cell Atlas [preview datasets](https://preview.data.humancellatlas.org/) [1]. We will be looking at the subset of umbilical cord blood cells from the Census of Immune Cells dataset. There are roughly 250,000 cells in the cord blood subset, taken from 8 donors. For each donor there were 8 independent 10x channels prepared, with the top 6000 cells (according to **CellRanger**) from each channel included in the data set. For more information about this data and how it was generated, refer to the documention at the preview link and the press release [here](https://www.broadinstitute.org/news/researchers-post-genetic-profiles-half-million-human-immune-cells-human-cell-atlas-online).\n",
    "\n",
    "In this workflow we will roughly follow a standard preprocessing pipeline outlined [here](https://github.com/theislab/single-cell-tutorial/) with one notable exception. Rather than \"manually\" labeling cell types, we will use the R package **garnett** [4] to automatically label the cell types based on a list of provided marker genes. Most of the preprocessing steps are done with the python package **scanpy** [8]. This will be the default package used for visualization and recording all the information learned from our analysis. Once the data has been preprocessed we will apply a matrix factorization algorithm, CoGAPS, to further analyze the structure present in this data set as a function of learned cell types and individuals.\n",
    "\n",
    "Both **scanpy** and **CoGAPS** will require compute power that is not available in the notebook locally. This is mainly due to the large memory requirements of analyzing a data set of this size. To handle this, we will use GenePattern modules which wrap up standard Python/R functionality and allow us to submit jobs to a server through the notebook environment. When our job finishes we receive a notification and go about working interactively in the notebook. We will make use of two modules in particular, *ScanpyUtilities* and *CoGAPS*. The *CoGAPS* module provides a wrapper around the **CoGAPS** R package and the *ScanpyUtilities* module wraps several commonly used functions when preprocessing data with **scanpy**. The *ScanpyUtilities* module also wraps a normalization pipeline with the R package **scran** [3] and a cell type identification pipeline with the R package **garnett**. These pipelines still work with the native file format for the **scanpy** package, so they will integrate seemlessly with the full analysis pipeline."
   ]
  },
  {
   "cell_type": "markdown",
   "metadata": {},
   "source": [
    "<div class=\"alert alert-info\">\n",
    "Follow instructions that look like this in order to reproduce the original analysis done in this notebook.\n",
    "</div>"
   ]
  },
  {
   "cell_type": "markdown",
   "metadata": {},
   "source": [
    "# Login\n",
    "<a href=#Table-of-Contents>back to top</a>  "
   ]
  },
  {
   "cell_type": "markdown",
   "metadata": {},
   "source": [
    "Make sure to login here before proceeding any farther in the notebook. The module output won't appear until you are logged in."
   ]
  },
  {
   "cell_type": "code",
   "execution_count": 1,
   "metadata": {
    "genepattern": {
     "name": "Login",
     "server": "https://cloud.genepattern.org/gp",
     "type": "auth"
    }
   },
   "outputs": [
    {
     "data": {
      "application/vnd.jupyter.widget-view+json": {
       "model_id": "a5ab626b0d944d18b3b09f8777b1668b",
       "version_major": 2,
       "version_minor": 0
      },
      "text/plain": [
       "GPAuthWidget()"
      ]
     },
     "metadata": {},
     "output_type": "display_data"
    }
   ],
   "source": [
    "# Requires GenePattern Notebook: pip install genepattern-notebook\n",
    "import gp\n",
    "import genepattern\n",
    "\n",
    "# Username and password removed for security reasons.\n",
    "genepattern.display(genepattern.session.register(\"https://cloud.genepattern.org/gp\", \"\", \"\"))"
   ]
  },
  {
   "cell_type": "markdown",
   "metadata": {},
   "source": [
    "# Prerequisites\n",
    "<a href=#Table-of-Contents>back to top</a>  "
   ]
  },
  {
   "cell_type": "markdown",
   "metadata": {},
   "source": [
    "We first have to make sure all dependences are installed and all package versions are correct. If you run the following cells, these checks will be performed automatically."
   ]
  },
  {
   "cell_type": "code",
   "execution_count": 8,
   "metadata": {
    "nbtools": {
     "description": "Check that the current Python version is sufficient to run the notebook.",
     "name": "CheckPythonVersion",
     "param_values": {
      "output_var": ""
     },
     "show_code": false,
     "type": "uibuilder"
    }
   },
   "outputs": [
    {
     "data": {
      "application/vnd.jupyter.widget-view+json": {
       "model_id": "9fb3596094424066b51aef5bafd6c33e",
       "version_major": 2,
       "version_minor": 0
      },
      "text/plain": [
       "UIBuilder(description='Check that the current Python version is sufficient to run the notebook.', function_imp…"
      ]
     },
     "metadata": {},
     "output_type": "display_data"
    }
   ],
   "source": [
    "## this notebook requires Python 3.7\n",
    "import sys\n",
    "def CheckPythonVersion():\n",
    "    assert sys.version_info >= (3, 7)\n",
    "    print(\"Notebook is compatible with Python version\")\n",
    "\n",
    "genepattern.GPUIBuilder(CheckPythonVersion, \n",
    "                        description=\"Check that the current Python version is sufficient to run the notebook.\",\n",
    "                        parameters={\"output_var\": {\"hide\": True}})"
   ]
  },
  {
   "cell_type": "code",
   "execution_count": 9,
   "metadata": {
    "nbtools": {
     "description": "Loads all neccesary Python packages and makes sure versions are up to date.",
     "name": "SetupPythonEnvironment",
     "param_values": {
      "output_var": ""
     },
     "show_code": false,
     "type": "uibuilder"
    }
   },
   "outputs": [
    {
     "data": {
      "application/vnd.jupyter.widget-view+json": {
       "model_id": "a54035187bfa43049bfa873daf792506",
       "version_major": 2,
       "version_minor": 0
      },
      "text/plain": [
       "UIBuilder(description='Loads all neccesary Python packages and makes sure versions are up to date.', function_…"
      ]
     },
     "metadata": {},
     "output_type": "display_data"
    }
   ],
   "source": [
    "## this cell loads all the neccesary python packages and checks to see that the versions are sufficient\n",
    "## it also initializes the R/python environment needed for using %%R to run R code\n",
    "\n",
    "import scanpy.api as sc\n",
    "import numpy as np\n",
    "import pandas as pd\n",
    "import anndata\n",
    "import h5py\n",
    "import random\n",
    "from scipy import sparse, io\n",
    "import scipy.stats as ss\n",
    "\n",
    "import urllib.request\n",
    "import os\n",
    "import sys\n",
    "\n",
    "import matplotlib\n",
    "import seaborn as sb\n",
    "import matplotlib.pyplot as plt\n",
    "\n",
    "import gp\n",
    "import genepattern\n",
    "\n",
    "import tzlocal\n",
    "import reprlib\n",
    "import re\n",
    "\n",
    "# function that checks that the pacakge version is greater or equal to the target\n",
    "def checkVersion(pkg, targetVersion):\n",
    "    pkgVersion = [int(i) for i in pkg.__version__.split('.')]\n",
    "    while len(targetVersion) < len(pkgVersion):\n",
    "        targetVersion += (0,)\n",
    "    while len(pkgVersion) < len(targetVersion):\n",
    "        pkgVersion += (0,)\n",
    "    return tuple(pkgVersion) >= targetVersion\n",
    "\n",
    "def SetupPythonEnvironment():\n",
    "    assert(checkVersion(sc, (1,4)))\n",
    "    print(\"scanpy package is up to date\")\n",
    "    assert(checkVersion(anndata, (0,6,18)))\n",
    "    print(\"anndata package is up to date\")\n",
    "    print(\"python setup successful\")\n",
    "\n",
    "genepattern.GPUIBuilder(SetupPythonEnvironment, \n",
    "                        description=\"Loads all neccesary Python packages and makes sure versions are up to date.\",\n",
    "                        parameters={\"output_var\": {\"hide\": True}})"
   ]
  },
  {
   "cell_type": "markdown",
   "metadata": {},
   "source": [
    "When you run the next cell for the first time, it may take a while (~30 minutes) since there are several R packages that need be installed locally before you can use this notebook. Don't be alarmed if this next cell produces a lot of warnings. Most of them are just standard output messages from the installation process that are mistakenly interpreted as warnings."
   ]
  },
  {
   "cell_type": "code",
   "execution_count": 10,
   "metadata": {
    "nbtools": {
     "description": "Installs and loads all neccesary R packages and makes sure versions are up to date.",
     "name": "SetupREnvironment",
     "param_values": {
      "output_var": ""
     },
     "show_code": false,
     "type": "uibuilder"
    }
   },
   "outputs": [
    {
     "data": {
      "application/vnd.jupyter.widget-view+json": {
       "model_id": "9087862ebe7e4231b55ef4a131b684e9",
       "version_major": 2,
       "version_minor": 0
      },
      "text/plain": [
       "UIBuilder(description='Installs and loads all neccesary R packages and makes sure versions are up to date.', f…"
      ]
     },
     "metadata": {},
     "output_type": "display_data"
    }
   ],
   "source": [
    "def SetupREnvironment():\n",
    "    ## this sets up the directory for any installed R packages\n",
    "    !mkdir -p ~/Rpackages\n",
    "    !echo R_LIBS=~/Rpackages > ~/.Renviron\n",
    "    \n",
    "    # allows R code to be run from python\n",
    "    %load_ext rpy2.ipython\n",
    "    \n",
    "    # function to check if package is installed without loading it\n",
    "    %R packageInstalled <- function(pkgName) return(pkgName %in% rownames(installed.packages()))\n",
    "\n",
    "    # check for installation tools\n",
    "    %R if (!packageInstalled(\"BiocManager\")) install.packages(\"BiocManager\", lib=\"~/Rpackages\")\n",
    "    %R if (!packageInstalled(\"Matrix\")) BiocManager::install(\"Matrix\", ask=FALSE, update=FALSE, lib=\"~/Rpackages\")\n",
    "    %R if (!packageInstalled(\"rhdf5\")) BiocManager::install(\"rhdf5\", ask=FALSE, update=FALSE, lib=\"~/Rpackages\")\n",
    "    %R if (!packageInstalled(\"dunn.test\")) BiocManager::install(\"dunn.test\", ask=FALSE, update=FALSE, lib=\"~/Rpackages\")\n",
    "\n",
    "    # install most recent version of CoGAPS\n",
    "    %R if (!packageInstalled(\"CoGAPS\")) BiocManager::install(\"CoGAPS\", ask=FALSE, update=FALSE, lib=\"~/Rpackages\")\n",
    "    %R print(paste(\"CoGAPS version:\", packageVersion(\"CoGAPS\")))\n",
    "    \n",
    "    %R print(ifelse(all(packageInstalled(c(\"BiocManager\", \"Matrix\", \"rhdf5\", \"dunn.test\", \"CoGAPS\"))), \"R setup successful\", \"R setup failed\"))\n",
    "\n",
    "genepattern.GPUIBuilder(SetupREnvironment, \n",
    "                        description=\"Installs and loads all neccesary R packages and makes sure versions are up to date.\",\n",
    "                        parameters={\"output_var\": {\"hide\": True}})"
   ]
  },
  {
   "cell_type": "code",
   "execution_count": null,
   "metadata": {},
   "outputs": [],
   "source": []
  },
  {
   "cell_type": "markdown",
   "metadata": {},
   "source": [
    "This next cell will load all the functions that support the UI cells you see throughout the notebook. "
   ]
  },
  {
   "cell_type": "code",
   "execution_count": 11,
   "metadata": {
    "nbtools": {
     "description": "Loads all functions used in this notebook.",
     "name": "LoadFunctions",
     "param_values": {
      "output_var": ""
     },
     "show_code": false,
     "type": "uibuilder"
    }
   },
   "outputs": [
    {
     "data": {
      "application/vnd.jupyter.widget-view+json": {
       "model_id": "f557bb10313f4f9aa8fb409d5c4ab096",
       "version_major": 2,
       "version_minor": 0
      },
      "text/plain": [
       "UIBuilder(description='Loads all functions used in this notebook.', function_import='LoadFunctions', name='Loa…"
      ]
     },
     "metadata": {},
     "output_type": "display_data"
    }
   ],
   "source": [
    "#### Running this cell actually does nothing, the functions are loaded when the UI cell is created.\n",
    "#### But if the user is able to hit the \"run\" button then the UI cell must have already been created\n",
    "#### so we know the functions are loaded.\n",
    "\n",
    "# global variable used to define a Which_Axis parameter, used to distinguish between samples and features\n",
    "which_axis_param = {\"default\": \"samples\", \"type\": \"choice\", \"choices\": {\"samples\": \"samples\", \"features\": \"features\"}}    \n",
    "vis_coordinates_param = {\"default\": \"tsne\", \"type\": \"choice\", \"choices\": {\"T-SNE\": \"TSNE\", \"UMAP\": \"UMAP\"}}\n",
    "bool_param = {\"default\": \"FALSE\", \"type\": \"choice\", \"choices\": {\"FALSE\": False, \"TRUE\": True}}\n",
    "\n",
    "#### Helper Functions ####\n",
    "\n",
    "def printAndFlush(str):\n",
    "    print(str)\n",
    "    sys.stdout.flush()\n",
    "    \n",
    "#### CreateDirectory ####\n",
    "\n",
    "CreateDirectory_description = \"Create a new directory.\"\n",
    "CreateDirectory_parameters = {\"output_var\": {\"hide\": True}}\n",
    "\n",
    "def CreateDirectory(Directory_Name):\n",
    "    !test -d {Directory_Name} && echo \"Directory already exists!\" || echo \"Creating directory\"\n",
    "    !mkdir -p {Directory_Name}\n",
    "\n",
    "#### DownloadFile ####\n",
    "\n",
    "DownloadFile_description = \"Download a file from the given URL.\"\n",
    "DownloadFile_parameters = {\"output_var\": {\"hide\": True}}\n",
    "\n",
    "def DownloadFile(URL, File_Name):\n",
    "    if not os.path.isfile(File_Name):\n",
    "        print(\"downloading file...\")\n",
    "        urllib.request.urlretrieve(URL, File_Name)\n",
    "        print(\"done\")\n",
    "    else:\n",
    "        print(\"File already downloaded\")\n",
    "        \n",
    "#### DownloadJobResultFile ####\n",
    "\n",
    "# Notes: write a job result file to a local directory, this function\n",
    "# reads the file in chunks so it is memory efficient\n",
    "\n",
    "DownloadJobResultFile_description = \"Download file from a GenePattern module job result.\"\n",
    "DownloadJobResultFile_parameters = {\"Job_File_Url\": {\"type\": \"file\", \"kinds\": [\"h5ad\", \"rds\"]}, \"output_var\": {\"hide\": True}}   \n",
    "        \n",
    "def DownloadJobResultFile(Job_File_Url, File_Name):\n",
    "    if os.path.isfile(File_Name):\n",
    "        print(\"file already exists!\")\n",
    "        return\n",
    "\n",
    "    # extract job number and file name from url\n",
    "    job_num = Job_File_Url.split(\"/\")[-2]\n",
    "    remote_file_name = Job_File_Url.split(\"/\")[-1]\n",
    "    \n",
    "    # get the job based on the job number passed as the second argument\n",
    "    job = gp.GPJob(genepattern.get_session(0), job_num)\n",
    "\n",
    "    # fetch a specific file from the job\n",
    "    remote_file = job.get_file(remote_file_name)\n",
    "    \n",
    "    printAndFlush(\"downloading file...\")\n",
    "    response = remote_file.open()\n",
    "    CHUNK = 16 * 1024\n",
    "    with open(File_Name, 'wb') as f:\n",
    "        while True:\n",
    "            chunk = response.read(CHUNK)\n",
    "            if not chunk:\n",
    "                break\n",
    "            f.write(chunk)\n",
    "    printAndFlush(\"done!\")\n",
    "\n",
    "#### InspectHDF5 ####\n",
    "\n",
    "InspectHDF5_description = \"List the contents of an HDF5 file.\"\n",
    "InspectHDF5_parameters = {\"output_var\": {\"hide\": True}}    \n",
    "    \n",
    "def InspectHDF5(File_Name):\n",
    "    %R -i File_Name -o h5_dir h5_dir <- rhdf5::h5ls(File_Name)\n",
    "    return h5_dir\n",
    "\n",
    "#### View RandomSubset ####\n",
    "\n",
    "ViewRandomSubset_description =  \"View a random subset of the AnnData object.\"\n",
    "ViewRandomSubset_parameters = {\"Which_Axis\": which_axis_param, \"output_var\": {\"hide\": True}}\n",
    "\n",
    "def ViewRandomSubset(AnnData_File, Num_Values, Which_Axis):\n",
    "    adata = sc.read(AnnData_File, backed='r+')\n",
    "    df = adata.obs if Which_Axis == 'samples' else adata.var\n",
    "    ndx = random.sample(range(len(df.index)), Num_Values)\n",
    "    if df.empty:\n",
    "        print(\"DataFrame is empty\")\n",
    "        print(\"Variable names:\", df.index[ndx])\n",
    "        return\n",
    "    print(df.iloc[ndx,:])\n",
    "\n",
    "#### SwapIndexAndColumn ####\n",
    "\n",
    "SwapIndexAndColumn_description = \"Create a new index for the data using an existing column.\"\n",
    "SwapIndexAndColumn_parameters = {\"Which_Axis\": which_axis_param, \"output_var\": {\"hide\": True}}\n",
    "\n",
    "def SwapIndexAndColumn(AnnData_File, Index_Column, New_Column_Name, Which_Axis):\n",
    "    adata = sc.read(AnnData_File, backed='r+')\n",
    "    if Which_Axis == 'samples':\n",
    "        df = adata.obs\n",
    "    else:\n",
    "        df = adata.var\n",
    "        \n",
    "    if Index_Column not in df.keys():\n",
    "        print(\"ERROR: can't find index column\")\n",
    "        return\n",
    "    if New_Column_Name in df.keys():\n",
    "        print(\"ERROR: new column name already exists\")\n",
    "        return\n",
    "    df[New_Column_Name] = df.index\n",
    "    df.index = pd.Index(df[Index_Column])\n",
    "    df.index.name = 'index'\n",
    "    df.drop(Index_Column, 1, inplace=True)\n",
    "    adata.write(compression='gzip', compression_opts=1, force_dense=False)\n",
    "\n",
    "#### View ####\n",
    "    \n",
    "View_description = \"View contents of variable.\"\n",
    "View_parameters = {\"output_var\": {\"hide\": True}}\n",
    "\n",
    "def View(Variable_Name):\n",
    "    print(reprlib.repr(Variable_Name))\n",
    "\n",
    "#### RegexVariableNames ####\n",
    "\n",
    "RegexVariableNames_description = \"Parse AnnData column using regex pattern.\"\n",
    "RegexVariableNames_parameters = {\"Which_Axis\": which_axis_param,\n",
    "                                 \"output_var\": {\"name\": \"variable name for regex output\", \"hide\": False}}\n",
    "    \n",
    "def RegexVariableNames(AnnData_File, Pattern, Which_Axis):\n",
    "    adata = sc.read(AnnData_File, backed='r+')\n",
    "    if Which_Axis == 'samples':\n",
    "        return [re.search(Pattern, x).group(0) for x in adata.obs_names]\n",
    "    else:\n",
    "        return [re.search(Pattern, x).group(0) for x in adata.var_names]\n",
    "    \n",
    "#### AddColumnToData ####\n",
    "\n",
    "AddColumnToData_description = \"Adds a column to an AnnData object.\"\n",
    "AddColumnToData_parameters = {\"Which_Axis\": which_axis_param, \"output_var\": {\"hide\": True}}\n",
    "\n",
    "def AddColumnToData(AnnData_File, Column_Name, Values, Which_Axis):\n",
    "    adata = sc.read(AnnData_File, backed='r+')\n",
    "    df = adata.obs if Which_Axis == 'samples' else adata.var\n",
    "    if Column_Name in df.keys():\n",
    "        print(\"Error: column already exists\")\n",
    "        return\n",
    "    df[Column_Name] = Values\n",
    "    adata.write(compression='gzip', compression_opts=1, force_dense=False)\n",
    "\n",
    "#### UploadFileToGenePatternServer ####\n",
    "\n",
    "UploadFileToGenePatternServer_description = \"Upload the local file onto the GenePattern server.\"\n",
    "UploadFileToGenePatternServer_parameters = {\"output_var\": {\"name\": \"variable name for url\", \"hide\": False}}\n",
    "\n",
    "def UploadFileToGenePatternServer(Local_File, Remote_File_Name):\n",
    "    uploaded = genepattern.get_session(0).upload_file(Remote_File_Name, Local_File)\n",
    "    print(uploaded.get_url())\n",
    "    return uploaded.get_url()\n",
    "\n",
    "#### ViolinPlot ####\n",
    "\n",
    "ViolinPlot_description = \"Create a violin plot from an AnnData object stored in a file.\"\n",
    "ViolinPlot_parameters = {\"output_var\": {\"hide\": True}}\n",
    "\n",
    "def ViolinPlot(AnnData_File, Plot_Variable, Group_Variable):\n",
    "    adata = sc.read(AnnData_File, backed='r+')\n",
    "    print(\"Creating Plot...\")\n",
    "    sc.pl.violin(adata, keys=Plot_Variable, groupby=Group_Variable, log=True, size=2, cut=0)\n",
    "\n",
    "#### Histogram ####\n",
    "\n",
    "Histogram_description = \"Create a histogram of an AnnData object.\"\n",
    "Histogram_parameters = {\"Which_Axis\": which_axis_param,\n",
    "                        \"Lower_Bound\": {\"type\": \"number\", \"optional\": True},\n",
    "                        \"Upper_Bound\": {\"type\": \"number\", \"optional\": True},\n",
    "                        \"output_var\": {\"hide\": True}}\n",
    "\n",
    "def Histogram(AnnData_File, Plot_Variable, Which_Axis, Lower_Bound, Upper_Bound):\n",
    "    adata = sc.read(AnnData_File, backed='r+')\n",
    "    print(\"Creating histogram of\", Plot_Variable, \"for the\", Which_Axis)\n",
    "    plot_data = adata.obs if Which_Axis == 'samples' else adata.var\n",
    "    ndx = pd.Series([True for x in range(len(plot_data.index))])\n",
    "    ndx.index = plot_data.index\n",
    "    if Lower_Bound != '':\n",
    "        print(\"Using lower bound of:\", Lower_Bound)\n",
    "        ndx = plot_data[Plot_Variable] >= Lower_Bound\n",
    "    if Upper_Bound != '':\n",
    "        print(\"Using upper bound of:\", Upper_Bound)\n",
    "        ndx = ndx & (plot_data[Plot_Variable] <= Upper_Bound)\n",
    "    sb.distplot(plot_data[Plot_Variable][ndx], kde=False, bins=60)\n",
    "    \n",
    "#### CellScatterPlot ####\n",
    "\n",
    "CellScatterPlot_description = \"Create a scatter plot of cell features.\"\n",
    "CellScatterPlot_parameters = {\"output_var\": {\"hide\": True}}\n",
    "\n",
    "def CellScatterPlot(AnnData_File, x_variable, y_variable):\n",
    "    adata = sc.read(AnnData_File, backed='r+')\n",
    "    print(\"Creating scatter plot of\", x_variable, \"vs\", y_variable)\n",
    "    sc.pl.scatter(adata, x_variable, y_variable)\n",
    "    \n",
    "#### CountCellsByGroup ####\n",
    "\n",
    "CountCellsByGroup_description = \"Get cell counts split by group.\"\n",
    "CountCellsByGroup_parmeters = {\"output_var\": {\"hide\": True}}\n",
    "\n",
    "def CountCellsByGroup(AnnData_File, Group_Variable):\n",
    "    adata = sc.read(AnnData_File, backed='r+')\n",
    "    for g in adata.obs[Group_Variable].unique():\n",
    "        print(Group_Variable, g, \"- number of cells:\", sum(adata.obs[Group_Variable] == g))\n",
    "    \n",
    "#### SubsetData ####\n",
    "\n",
    "SubsetData_description = \"Subset a data set to only cells of a certain group.\"\n",
    "SubsetData_parameters = {\"output_var\": {\"hide\": True}}\n",
    "\n",
    "def SubsetData(AnnData_File, Output_File, Group_Variable, Group_Value):\n",
    "    printAndFlush(\"reading data...\")\n",
    "    adata = sc.read(AnnData_File)\n",
    "    printAndFlush(\"subsetting data...\")\n",
    "    adata = adata[adata.obs[Group_Variable] == Group_Value]\n",
    "    printAndFlush(\"re-filtering lowly expressed genes...\")\n",
    "    sc.pp.filter_genes(adata, min_cells=20)\n",
    "    printAndFlush(\"writing data...\")\n",
    "    adata.write(Output_File, compression='gzip', compression_opts=1, force_dense=False)\n",
    "    del adata\n",
    "    printAndFlush(\"done\")\n",
    "\n",
    "#### GenerateTextFile ####\n",
    "\n",
    "GenerateTextFile_description = \"Create a text file.\"\n",
    "GenerateTextFile_parameters = {\"output_var\": {\"hide\": True}}\n",
    "\n",
    "def GenerateTextFile(Text, File_Name):\n",
    "    file = open(File_Name,\"w\")\n",
    "    file.write(Text)\n",
    "    file.close()\n",
    "    print(\"File Created:\", File_Name)\n",
    "    !cat {File_Name}\n",
    "    \n",
    "#### TsnePlot ####\n",
    "\n",
    "TsnePlot_description = \"Create a t-sne plot of an AnnData object.\"\n",
    "TsnePlot_parameters = {\"Variable_Subset\": {\"optional\": True}, \"output_var\": {\"hide\": True}}\n",
    "\n",
    "def TsnePlot(AnnData_File, Variable, Variable_Subset):\n",
    "    print(\"Creating Plot...\")\n",
    "    if Variable_Subset:\n",
    "        adata = sc.read(AnnData_File)\n",
    "        ndx = [i for i,e in enumerate(adata.obs[Variable]) if e in Variable_Subset]\n",
    "        sc.pl.tsne(adata[ndx], color=Variable, use_raw=False)\n",
    "    else:\n",
    "        adata = sc.read(AnnData_File, backed='r+')\n",
    "        sc.pl.tsne(adata, color=Variable, use_raw=False)    \n",
    "\n",
    "#### UmapPlot ####\n",
    "\n",
    "UmapPlot_description = \"Create a UMAP plot of an AnnData object.\"\n",
    "UmapPlot_parameters = {\"Variable_Subset\": {\"optional\": True}, \"output_var\": {\"hide\": True}}\n",
    "\n",
    "def UmapPlot(AnnData_File, Variable, Variable_Subset):\n",
    "    print(\"Creating Plot...\")\n",
    "    if Variable_Subset:\n",
    "        adata = sc.read(AnnData_File)\n",
    "        ndx = [i for i,e in enumerate(adata.obs[Variable]) if e in Variable_Subset]\n",
    "        sc.pl.umap(adata[ndx], color=Variable, use_raw=False)\n",
    "    else:\n",
    "        adata = sc.read(AnnData_File, backed='r+')\n",
    "        sc.pl.umap(adata, color=Variable, use_raw=False)\n",
    "        \n",
    "#### GetDataSize ####\n",
    "\n",
    "GetDataSize_description = \"Display number of features/samples in a data set.\"\n",
    "GetDataSize_parameters = {\"output_var\": {\"hide\": True}}\n",
    "\n",
    "def GetDataSize(AnnData_File):\n",
    "    adata = sc.read(AnnData_File, backed='r+')\n",
    "    print(\"Number of samples:\", adata.shape[0])\n",
    "    print(\"Number of features:\", adata.shape[1])\n",
    "\n",
    "#### GetDataSparsity ####\n",
    "\n",
    "GetDataSparsity_description = \"Display percentage of data that is zero.\"\n",
    "GetDataSparsity_parameters = {\"output_var\": {\"hide\": True}}\n",
    "\n",
    "def GetDataSparsity(AnnData_File):\n",
    "    adata = sc.read(AnnData_File)\n",
    "    sparsity = 1 - adata.X.getnnz() / (adata.shape[0] * adata.shape[1])\n",
    "    print(\"Sparsity (percent zero) of\", AnnData_File, \":\", round(sparsity, 2))\n",
    "\n",
    "#### CreateCogapsParameters ####\n",
    "\n",
    "CreateCogapsParameters_description = \"Create a CoGAPS parameters object and save it to a file.\"\n",
    "CreateCogapsParameters_parameters = {\"Single_Cell_Data\": bool_param,\n",
    "                                     \"Enable_Sparse_Optimization\": bool_param,\n",
    "                                     \"output_var\": {\"hide\": True}}\n",
    "\n",
    "def CreateCogapsParameters(Output_File_Name, Number_Of_Patterns, Number_Of_Iterations, Random_Seed, Single_Cell_Data, Enable_Sparse_Optimization, Feature_Names, Sample_Names, Distributed_Method, Number_Of_Sets):\n",
    "    %R -i Output_File_Name -i Number_Of_Patterns -i Number_Of_Iterations -i Random_Seed -i Single_Cell_Data -i Enable_Sparse_Optimization -i Feature_Names -i Sample_Names -i Distributed_Method -i Number_Of_Sets \n",
    "    %R library(CoGAPS)\n",
    "    %R params <- CogapsParams(nPatterns=Number_Of_Patterns, nIterations=Number_Of_Iterations, seed=Random_Seed, singleCell=Single_Cell_Data, sparseOptimization=Enable_Sparse_Optimization, distributed=Distributed_Method, geneNames=Feature_Names, sampleNames=Sample_Names)\n",
    "    %R params <- setDistributedParams(params, nSets=Number_Of_Sets)\n",
    "    %R print(params)\n",
    "    %R saveRDS(params, file=paste(Output_File_Name, \"rds\", sep=\".\"))\n",
    "    %R print(paste(\"successfully created file:\", paste(Output_File_Name, \"rds\", sep=\".\")))\n",
    "\n",
    "#### ConvertToMtx ####\n",
    "\n",
    "ConvertToMtx_description = \"Convert AnnData file to mtx.\"\n",
    "ConvertToMtx_parameters = {\"output_var\": {\"hide\": True}}\n",
    "\n",
    "def ConvertToMtx(AnnData_File, Mtx_File):\n",
    "    if os.path.isfile(Mtx_File):\n",
    "        print(\"can't write: mtx file already exists!\")\n",
    "        return\n",
    "    %R suppressMessages(library(Matrix))\n",
    "    %R suppressMessages(library(rhdf5))\n",
    "    %R h5disableFileLocking()\n",
    "    %R -i AnnData_File\n",
    "    %R raw_data <- as.numeric(h5read(AnnData_File, \"/X/data\"))\n",
    "    %R indices <- as.integer(h5read(AnnData_File, \"/X/indices\"))\n",
    "    %R indptr <- as.integer(h5read(AnnData_File, \"/X/indptr\"))\n",
    "    %R counts <- sparseMatrix(i=indices+1, p=indptr, x=raw_data)\n",
    "    printAndFlush(\"writing mtx file...\")\n",
    "    %R print(paste(\"rows:\", nrow(counts), \"columns:\", ncol(counts)))\n",
    "    %R -i Mtx_File writeMM(counts, file=Mtx_File)\n",
    "    printAndFlush(\"done\")\n",
    "    \n",
    "#### ViewCogapsResult ####\n",
    "\n",
    "ViewCogapsResult_description = \"View the properties of a Cogaps result file.\"\n",
    "ViewCogapsResult_parameters = {\"output_var\": {\"hide\": True}}\n",
    "\n",
    "def ViewCogapsResult(Result_File):\n",
    "    %R library(CoGAPS)\n",
    "    %R -i Result_File\n",
    "    %R cogapsResult <- readRDS(Result_File)\n",
    "    %R print(cogapsResult)\n",
    "    %R print(getOriginalParameters(cogapsResult))\n",
    "    %R print(paste(\"Created with CoGAPS version\", getVersion(cogapsResult)))\n",
    "    \n",
    "#### MergeCogapsResultWithAnnData ####\n",
    "\n",
    "MergeCogapsResultWithAnnData_description = \"Adds the patterns from the Cogaps result to the AnnData file.\"\n",
    "MergeCogapsResultWithAnnData_parameters = {\"output_var\": {\"hide\": True}}\n",
    "\n",
    "def MergeCogapsResultWithAnnData(AnnData_File, Cogaps_Result_File, Output_File):\n",
    "    if os.path.isfile(Output_File):\n",
    "        print(\"can't write: output file already exists!\")\n",
    "        return\n",
    "    \n",
    "    %R library(CoGAPS)\n",
    "    %R -i Cogaps_Result_File\n",
    "    %R cogapsResult <- readRDS(Cogaps_Result_File)\n",
    "    %R samplePatterns <- getSampleFactors(cogapsResult)\n",
    "    %R sampleNames <- rownames(samplePatterns)\n",
    "    %R featurePatterns <- getFeatureLoadings(cogapsResult)\n",
    "    %R featureNames <- rownames(featurePatterns)\n",
    "    %R pm <- patternMarkers(cogapsResult)\n",
    "    %R patternRanks <- pm$PatternRanks\n",
    "    %R -o samplePatterns -o sampleNames -o featurePatterns -o featureNames -o patternRanks\n",
    "    \n",
    "    adata = sc.read(AnnData_File)\n",
    "    if not all(sampleNames == adata.obs.index):\n",
    "        print(\"Error: mismatch in order of samples\")\n",
    "        return\n",
    "    if not all(featureNames == adata.var.index):\n",
    "        print(\"Error: mismatch in order of features\")\n",
    "        return\n",
    "    nPatterns = samplePatterns.shape[1]\n",
    "    adata.uns['nPatterns'] = nPatterns\n",
    "    for i in range(nPatterns):\n",
    "        adata.obs['cogaps.pattern.' + str(i+1)] = samplePatterns[:,i]\n",
    "    for i in range(nPatterns):\n",
    "        adata.var['cogaps.pattern.' + str(i+1)] = featurePatterns[:,i]\n",
    "        adata.var['cogaps.pattern.rank.' + str(i+1)] = patternRanks[:,i].astype(int)\n",
    "    adata.write(Output_File, compression='gzip', compression_opts=1, force_dense=False)\n",
    "\n",
    "#### PlotCogapsPatterns ####\n",
    "\n",
    "PlotCogapsPatterns_description = \"Plots patterns overlaid on either a UMAP or TSNE plot of the original data.\"\n",
    "PlotCogapsPatterns_parameters = {\"Patterns\": {\"optional\": True},\n",
    "                                 \"Phenotype\": {\"optional\": True},\n",
    "                                 \"Phenotype_Values\": {\"optional\": True},\n",
    "                                 \"Width\": {\"type\": \"number\", \"default\": 4, \"optional\": True},\n",
    "                                 \"Subset\": bool_param,\n",
    "                                 \"Visualization_Coordinates\": vis_coordinates_param,\n",
    "                                 \"output_var\": {\"hide\": True}}\n",
    "\n",
    "def PlotCogapsPatterns(AnnData_File, Visualization_Coordinates, Patterns, Phenotype, Phenotype_Values, Subset, Width):\n",
    "    # check that a cogaps result file has been merged into this AnnData object\n",
    "    adata = sc.read(AnnData_File)\n",
    "    if 'nPatterns' not in adata.uns.keys():\n",
    "        print(\"Error: not cogaps patterns found\")\n",
    "        return\n",
    "\n",
    "    # process Patterns argument\n",
    "    if Patterns == '':\n",
    "        Patterns = [str(i+1) for i in range(adata.uns['nPatterns'])]\n",
    "    else:\n",
    "        Patterns = str(Patterns).split(',')\n",
    "        Patterns = [x.strip() for x in Patterns]\n",
    "\n",
    "    # process Phenotype_Values argument\n",
    "    if Phenotype_Values == '':\n",
    "        Phenotype_Values = []\n",
    "    else:\n",
    "        Phenotype_Values = str(Phenotype_Values).split(',')\n",
    "        Phenotype_Values = [x.strip() for x in Phenotype_Values]\n",
    "    \n",
    "    # check if we are subsetting to the given phenotype values\n",
    "    if Subset and Phenotype == '':\n",
    "        print(\"Must provide Phenotype argument when subsetting\")\n",
    "        return\n",
    "    if Subset and len(Phenotype_Values) == 0:\n",
    "        print(\"Must provide Phenotype_Values when subsetting\")\n",
    "        return\n",
    "    if Subset:\n",
    "        index = adata.obs[Phenotype] == Phenotype_Values[0]\n",
    "        for pheno_val in Phenotype_Values:\n",
    "            index |= adata.obs[Phenotype] == pheno_val\n",
    "        adata = adata[index]\n",
    "       \n",
    "    # create list of each plot we are making\n",
    "    colors = ['cogaps.pattern.' + p for p in Patterns]\n",
    "    if Phenotype != '' and len(Phenotype_Values) == 0:\n",
    "        colors += [Phenotype] # plot entire phenotype if no specific values requested\n",
    "    \n",
    "    # create a plot highligthing each phenotype value\n",
    "    if (Subset and len(Phenotype_Values) > 1) or (not Subset and len(Phenotype_Values) > 0):\n",
    "        all_phenotypes = [str(x) for x in list(sorted(set(adata.obs[Phenotype])))]\n",
    "        for pheno_val in Phenotype_Values:\n",
    "            name = Phenotype + \": \" + str(pheno_val)\n",
    "            adata.obs[name] = adata.obs[Phenotype]\n",
    "            adata.uns[name + \"_colors\"] = ['gray' for x in all_phenotypes]\n",
    "            if pheno_val not in all_phenotypes:\n",
    "                print(\"Error:\", str(pheno_val), \" - phenotype value not found\")\n",
    "                return\n",
    "            adata.uns[name + \"_colors\"][all_phenotypes.index(str(pheno_val))] = 'red'\n",
    "            colors += [name]\n",
    "        \n",
    "    # create plot\n",
    "    if Visualization_Coordinates == 'UMAP':\n",
    "        sc.pl.umap(adata, color=colors, palette=None, ncols=Width)\n",
    "    else:\n",
    "        sc.pl.tsne(adata, color=colors, palette=None, ncols=Width)\n",
    "\n",
    "#### KruskalWallisPatternTest ####\n",
    "        \n",
    "KruskalWallisPatternTest_description = \"Runs a Kruskal-Wallis test for a categorical phenotype across all patterns.\"\n",
    "KruskalWallisPatternTest_parameters = {\"output_var\": {\"hide\": True}}\n",
    "\n",
    "def KruskalWallisPatternTest(AnnData_File, Phenotype):\n",
    "    adata = sc.read(AnnData_File)\n",
    "\n",
    "    # make a list of the indices for each value of the phenotype\n",
    "    ndx = []\n",
    "    for val in set(adata.obs[Phenotype]):\n",
    "        ndx.append([i for i, x in enumerate(adata.obs[Phenotype]) if x == val])\n",
    "\n",
    "    # for each pattern, split up values based on the associated cell phenotype and run KW\n",
    "    stats = []\n",
    "    for i in range(adata.uns['nPatterns']):\n",
    "        patternByPhenotype = []\n",
    "        for indices in ndx:\n",
    "            patternByPhenotype.append(adata.obs['cogaps.pattern.' + str(i+1)][indices])\n",
    "        kw_test = ss.kruskal(*patternByPhenotype)\n",
    "        stats.append([i+1, kw_test.statistic, kw_test.pvalue])\n",
    "\n",
    "    # sort, print, and plot the results of the test\n",
    "    stats.sort(key= lambda x: x[1], reverse=True)\n",
    "    print(pd.DataFrame(stats, columns=['pattern', 'Kruskal-Wallis Statistic', 'p-value']))\n",
    "    plt.boxplot([s[1] for s in stats])\n",
    "    plt.show()\n",
    "    \n",
    "#### DunnTest ####\n",
    "    \n",
    "DunnTest_description = \"Runs a Dunn test for a categorical phenotype on a specific pattern.\"\n",
    "DunnTest_parameters = {\"output_var\": {\"hide\": True}}\n",
    "\n",
    "def DunnTest(AnnData_File, Pattern, Phenotype):\n",
    "    adata = sc.read(AnnData_File)\n",
    "    pattern_values = adata.obs['cogaps.pattern.' + str(Pattern)]\n",
    "    ndx = []\n",
    "    for val in sorted(set(adata.obs[Phenotype])):\n",
    "        ndx.append([i for i, x in enumerate(adata.obs[Phenotype]) if x == val])\n",
    "    %R library(dunn.test)\n",
    "    %R -i ndx ndx <- lapply(ndx, unlist)\n",
    "    %R -i pattern_values patternByPhenotype <- lapply(ndx, function(n) pattern_values[n])\n",
    "    %R dunn.test(patternByPhenotype, kw=TRUE, wrap=TRUE)\n",
    "            \n",
    "#### PlotCellTypePatternCorrelation ####\n",
    "        \n",
    "PlotCellTypePatternCorrelation_description = \"Plot a heatmap of corrlation between cell types and patterns.\"\n",
    "PlotCellTypePatternCorrelation_parameters = {\"output_var\":{\"hide\": True,},}\n",
    "\n",
    "def PlotCellTypePatternCorrelation(AnnData_File):\n",
    "    adata = sc.read(AnnData_File)\n",
    "    cell_types = adata.obs['cell_type'].unique()\n",
    "    cell_types = [x for x in cell_types if x != 'Unknown']\n",
    "    cell_type_index = {}\n",
    "    for ct in cell_types:\n",
    "        cell_type_index[ct] = adata.obs['cell_type'] == ct\n",
    "        \n",
    "    # find the correlation for each cell type and each pattern\n",
    "    known = adata.obs['cell_type'] != 'Unknown'\n",
    "    cell_type_pattern_corr = []\n",
    "    for ct in cell_types:\n",
    "        corr = []\n",
    "        for i in range(adata.uns['nPatterns']):\n",
    "            corr.append(ss.pointbiserialr(cell_type_index[ct][known], adata.obs['cogaps.pattern.' + str(i+1)][known]).correlation)\n",
    "        cell_type_pattern_corr.append(corr)\n",
    "    \n",
    "    # form a heatmap of the correlations\n",
    "    cell_type_pattern_corr = np.array(cell_type_pattern_corr)\n",
    "    ax = sb.heatmap(cell_type_pattern_corr, linewidth=1, yticklabels=cell_types, xticklabels=['pattern '+str(i+1) for i in range(adata.uns['nPatterns'])])\n",
    "    plt.show()\n",
    "\n",
    "#### CogapsCellTypeIdentification ####\n",
    "    \n",
    "CogapsCellTypeIdentification_description = \"Run cell type identification with Cogaps patterns.\"\n",
    "CogapsCellTypeIdentification_parameters = {\"output_var\": {\"hide\": True}}\n",
    "\n",
    "def CogapsCellTypeIdentification(AnnData_File, Marker_Genes_File):\n",
    "    adata = sc.read(AnnData_File)\n",
    "    \n",
    "    # read marker file\n",
    "    cell_types = []\n",
    "    marker_genes = []\n",
    "    with open(Marker_Genes_File) as f:\n",
    "        for line in f:\n",
    "            if line[0] == '>':\n",
    "                cell_types.append(line[1:].split('\\n')[0])\n",
    "            if 'expressed:' in line:\n",
    "                stripped = line.split('expressed:')[1].split('\\n')[0]\n",
    "                stripped = stripped.replace(' ', '')\n",
    "                marker_genes.append(stripped.split(','))\n",
    "    if len(cell_types) != len(marker_genes):\n",
    "        print(\"Error: invalid marker file\")\n",
    "        return         \n",
    "        \n",
    "    # create marker dictionary\n",
    "    markers = {}\n",
    "    for n in range(len(cell_types)):\n",
    "        markers[cell_types[n]] = marker_genes[n]\n",
    "        \n",
    "    # print top 3 patterns by rank for each marker gene\n",
    "    for ct in markers.keys():\n",
    "        ndx = [i for i, x in enumerate(adata.var['gene_short_name']) if x in markers[ct]]\n",
    "        print(\"\\nmarker genes found for\", ct)\n",
    "        for n in ndx:\n",
    "            gene_name = adata.var['gene_short_name'][n]\n",
    "            ranks = [adata.var[k][n] for k in adata.var_keys() if 'rank' in k] # get pattern ranks\n",
    "            ranks = np.array(ranks)\n",
    "            top3 = np.argsort(ranks)[:3]\n",
    "            print(gene_name, \"\\ttop 3 patterns:\", top3 + 1, \"\\tranks:\", ranks[top3])\n",
    "    \n",
    "#### Code for this UI Cell ####\n",
    "\n",
    "def LoadFunctions():\n",
    "    print(\"Functions Loaded\")\n",
    "\n",
    "genepattern.GPUIBuilder(LoadFunctions,\n",
    "                        description=\"Loads all functions used in this notebook.\",\n",
    "                        parameters={\"output_var\":{\"hide\": True}})"
   ]
  },
  {
   "cell_type": "code",
   "execution_count": null,
   "metadata": {},
   "outputs": [],
   "source": []
  },
  {
   "cell_type": "markdown",
   "metadata": {},
   "source": [
    "# Download Raw Data\n",
    "<a href=#Table-of-Contents>back to top</a>  "
   ]
  },
  {
   "cell_type": "markdown",
   "metadata": {},
   "source": [
    "The first thing we must do is download the raw data. We'll also want to create a directory to store the data and all of our work in this notebook. The next cell creates a directory called \"ica_cord_blood\". For the rest of the notebook, all the files we create will be stored here."
   ]
  },
  {
   "cell_type": "markdown",
   "metadata": {},
   "source": [
    "<div class=\"alert alert-info\">\n",
    "<b style=\"font-size:120%;\">CreateDirectory</b><br>    \n",
    "<b>Directory Name</b> ica_cord_blood\n",
    "</div>"
   ]
  },
  {
   "cell_type": "code",
   "execution_count": 12,
   "metadata": {
    "nbtools": {
     "description": "Create a new directory.",
     "name": "CreateDirectory",
     "param_values": {
      "Directory_Name": "ica_cord_blood",
      "dir_name": "",
      "directory_name": "ica_cord_blood",
      "output_var": ""
     },
     "show_code": false,
     "type": "uibuilder"
    }
   },
   "outputs": [
    {
     "data": {
      "application/vnd.jupyter.widget-view+json": {
       "model_id": "07d7b74dcce3493cbb6a42ebde900436",
       "version_major": 2,
       "version_minor": 0
      },
      "text/plain": [
       "UIBuilder(description='Create a new directory.', function_import='CreateDirectory', name='CreateDirectory', pa…"
      ]
     },
     "metadata": {},
     "output_type": "display_data"
    }
   ],
   "source": [
    "genepattern.GPUIBuilder(CreateDirectory,\n",
    "                        description=CreateDirectory_description,\n",
    "                        parameters=CreateDirectory_parameters)"
   ]
  },
  {
   "cell_type": "markdown",
   "metadata": {},
   "source": [
    "We are studying the umbilical cord blood subset of the Census of Immune Cells dataset, provided as a [preview data set](https://preview.data.humancellatlas.org/) from the Human Cell Atlas project. We will first download the raw file ([download link](https://s3.amazonaws.com/preview-ica-expression-data/ica_cord_blood_h5.h5)) so that we can preview the contents."
   ]
  },
  {
   "cell_type": "markdown",
   "metadata": {},
   "source": [
    "<div class=\"alert alert-info\">\n",
    "<b style=\"font-size:120%;\">DownloadFile</b><br>    \n",
    "<b>URL</b> https://s3.amazonaws.com/preview-ica-expression-data/ica_cord_blood_h5.h5<br>\n",
    "<b>File Name</b> ica_cord_blood/ica_cord_blood_h5.h5\n",
    "</div>"
   ]
  },
  {
   "cell_type": "code",
   "execution_count": 13,
   "metadata": {
    "nbtools": {
     "description": "Download a file from the given URL.",
     "name": "DownloadFile",
     "param_values": {
      "File_Name": "ica_cord_blood/ica_cord_blood_h5.h5",
      "URL": "https://s3.amazonaws.com/preview-ica-expression-data/ica_cord_blood_h5.h5",
      "file_name": "ica_cord_blood/ica_cord_blood_h5.h5",
      "output_var": "",
      "url": "https://s3.amazonaws.com/preview-ica-expression-data/ica_cord_blood_h5.h5"
     },
     "show_code": false,
     "type": "uibuilder"
    }
   },
   "outputs": [
    {
     "data": {
      "application/vnd.jupyter.widget-view+json": {
       "model_id": "c300477848c4437dacaa1d653d6c5197",
       "version_major": 2,
       "version_minor": 0
      },
      "text/plain": [
       "UIBuilder(description='Download a file from the given URL.', function_import='DownloadFile', name='DownloadFil…"
      ]
     },
     "metadata": {},
     "output_type": "display_data"
    }
   ],
   "source": [
    "genepattern.GPUIBuilder(DownloadFile,\n",
    "                        description=DownloadFile_description,\n",
    "                        parameters=DownloadFile_parameters)"
   ]
  },
  {
   "cell_type": "markdown",
   "metadata": {},
   "source": [
    "The downloaded file is in an HDF5 format, which is a commonly used format for single-cell data. The next cell allows us to see the contents of this file."
   ]
  },
  {
   "cell_type": "markdown",
   "metadata": {},
   "source": [
    "<div class=\"alert alert-info\">\n",
    "<b style=\"font-size:120%;\">InspectHDF5</b><br>    \n",
    "<b>File Name</b> ica_cord_blood/ica_cord_blood_h5.h5\n",
    "</div>"
   ]
  },
  {
   "cell_type": "code",
   "execution_count": 14,
   "metadata": {
    "nbtools": {
     "description": "List the contents of an HDF5 file.",
     "name": "InspectHDF5",
     "param_values": {
      "File_Name": "ica_cord_blood/ica_cord_blood_h5.h5",
      "file_name": "\"ica_cord_blood/ica_cord_blood_h5.h5\"",
      "output_var": ""
     },
     "show_code": false,
     "type": "uibuilder"
    },
    "scrolled": true
   },
   "outputs": [
    {
     "data": {
      "application/vnd.jupyter.widget-view+json": {
       "model_id": "4b94ac6835e34cbfa4f2a51450367922",
       "version_major": 2,
       "version_minor": 0
      },
      "text/plain": [
       "UIBuilder(description='List the contents of an HDF5 file.', function_import='InspectHDF5', name='InspectHDF5',…"
      ]
     },
     "metadata": {},
     "output_type": "display_data"
    }
   ],
   "source": [
    "genepattern.GPUIBuilder(InspectHDF5,\n",
    "                        description=InspectHDF5_description,\n",
    "                        parameters=InspectHDF5_parameters)"
   ]
  },
  {
   "cell_type": "code",
   "execution_count": 15,
   "metadata": {
    "nbtools": {
     "description": "List the contents of an HDF5 file.",
     "name": "InspectHDF5",
     "param_values": {
      "File_Name": "ica_cord_blood/",
      "file_name": "\"ica_cord_blood/ica_cord_blood_h5.h5\"",
      "output_var": ""
     },
     "show_code": false,
     "type": "uibuilder"
    },
    "scrolled": true
   },
   "outputs": [
    {
     "data": {
      "application/vnd.jupyter.widget-view+json": {
       "model_id": "8ffc80cb0a054a239edb1ac8aa9ac57a",
       "version_major": 2,
       "version_minor": 0
      },
      "text/plain": [
       "UIBuilder(description='List the contents of an HDF5 file.', function_import='InspectHDF5', name='InspectHDF5',…"
      ]
     },
     "metadata": {},
     "output_type": "display_data"
    }
   ],
   "source": [
    "genepattern.GPUIBuilder(InspectHDF5,\n",
    "                        description=InspectHDF5_description,\n",
    "                        parameters=InspectHDF5_parameters)"
   ]
  },
  {
   "cell_type": "code",
   "execution_count": null,
   "metadata": {},
   "outputs": [],
   "source": [
    "ica_cord_blood/"
   ]
  },
  {
   "cell_type": "markdown",
   "metadata": {},
   "source": [
    "<div class=\"well well-sm\">\n",
    "<div class=\"alert alert-info\">\n",
    "<h3 style=\"margin-top: 0;\"> Instructions <i class=\"fa fa-info-circle\"></i></h3>\n",
    "Edit this cell to insert your text here.\n",
    "</div>\n",
    "</div>"
   ]
  },
  {
   "cell_type": "markdown",
   "metadata": {},
   "source": [
    "This file is stored in the [10x HDF5 format](https://support.10xgenomics.com/single-cell-gene-expression/software/pipelines/latest/advanced/h5_matrices). Before we get started on the analysis, we'll want to convert this to a more friendly file format. We'll be using the Python package **scanpy** throughout this analysis and so it would make sense to store our data in the **AnnData** format, \".h5ad\". This format will work automatically with all of **scanpy**'s functionality. This file format is important since we'll need to outsource a lot of the analysis done in the notebook to GenePattern modules. These modules run on an external server and so we need a file that we can upload. The general workflow will be to make some changes to an \".h5ad\" file in the notebook, send it to a module for some more heavy duty computation, and then pull it back in the notebook for more analysis. Since we repeat this so much, it makes sense to have a file format that's easy to work with."
   ]
  },
  {
   "cell_type": "markdown",
   "metadata": {},
   "source": [
    "We can use the *ScanpyUtilities* module to convert a 10x formatted HDF5 file to the **AnnData** format. We'll need to pass the name of the dataset, which we can see from the \"InspectHDF5\" cell is \"GRCh38\". Follow the instructions below to download and convert the raw data."
   ]
  },
  {
   "cell_type": "markdown",
   "metadata": {},
   "source": [
    "<div class=\"alert alert-info\">\n",
    "<h3 style=\"margin-top: 0;\"> ScanpyUtilities Module Instructions - Converting to h5ad <i class=\"fa fa-info-circle\"></i></h3>\n",
    "<ol>\n",
    "    <li>Under \"Input and Output\" set <b>data file</b> to <a href=\"data\" target=\"_blank\">\"https://s3.amazonaws.com/preview-ica-expression-data/ica_cord_blood_h5.h5\"</a> </li>\n",
    "    <li>Under \"Input and Output\" set <b>output basename</b> to \"full_data\"</li>\n",
    "    <li>Under \"Input and Output\" set <b>genome</b> to \"GRCh38\"</li>\n",
    "    <li>Everything else should be set to it's default (either blank or \"no\")</li>\n",
    "</ol>\n",
    "Note: do not include the quotes when setting parameters\n",
    "</div>"
   ]
  },
  {
   "cell_type": "code",
   "execution_count": 2,
   "metadata": {
    "genepattern": {
     "description": "Scanpy preprocessing of an h5 single cell RNASeq dataset",
     "name": "ScanpyUtilities",
     "param_values": {
      "annotate": null,
      "cell.type.marker.file": null,
      "cells.max.counts": null,
      "cells.max.genes": null,
      "cells.min.counts": null,
      "cells.min.genes": null,
      "compute.tsne": null,
      "compute.umap": null,
      "data.file": null,
      "gene.annotation.database": null,
      "genes.max.cells": null,
      "genes.max.counts": null,
      "genes.min.cells": null,
      "genes.min.counts": null,
      "genome": null,
      "job.cpuCount": null,
      "job.memory": null,
      "job.queue": null,
      "job.walltime": null,
      "n.high.variance.genes": null,
      "normalize": null,
      "output.basename": null
     },
     "show_code": false,
     "type": "task"
    },
    "scrolled": false
   },
   "outputs": [
    {
     "data": {
      "application/vnd.jupyter.widget-view+json": {
       "model_id": "457d54d227c7469db1d7115843f86fd0",
       "version_major": 2,
       "version_minor": 0
      },
      "text/plain": [
       "GPTaskWidget(lsid='urn:lsid:broad.mit.edu:cancer.software.genepattern.module.analysis:00382')"
      ]
     },
     "metadata": {},
     "output_type": "display_data"
    },
    {
     "data": {
      "application/vnd.jupyter.widget-view+json": {
       "model_id": "da96159bd725454bb046ef075f1c2072",
       "version_major": 2,
       "version_minor": 0
      },
      "text/plain": [
       "GPJobWidget(job_number=99219)"
      ]
     },
     "metadata": {},
     "output_type": "display_data"
    }
   ],
   "source": [
    "scanpyutilities_task = gp.GPTask(genepattern.session.get(0), 'urn:lsid:broad.mit.edu:cancer.software.genepattern.module.analysis:00382')\n",
    "scanpyutilities_job_spec = scanpyutilities_task.make_job_spec()\n",
    "scanpyutilities_job_spec.set_parameter(\"data.file\", \"https://s3.amazonaws.com/preview-ica-expression-data/ica_cord_blood_h5.h5\")\n",
    "scanpyutilities_job_spec.set_parameter(\"output.basename\", \"full_data\")\n",
    "scanpyutilities_job_spec.set_parameter(\"annotate\", \"0\")\n",
    "scanpyutilities_job_spec.set_parameter(\"cells.min.counts\", \"\")\n",
    "scanpyutilities_job_spec.set_parameter(\"cells.max.counts\", \"\")\n",
    "scanpyutilities_job_spec.set_parameter(\"cells.min.genes\", \"\")\n",
    "scanpyutilities_job_spec.set_parameter(\"cells.max.genes\", \"\")\n",
    "scanpyutilities_job_spec.set_parameter(\"genes.min.counts\", \"\")\n",
    "scanpyutilities_job_spec.set_parameter(\"genes.max.counts\", \"\")\n",
    "scanpyutilities_job_spec.set_parameter(\"genes.min.cells\", \"\")\n",
    "scanpyutilities_job_spec.set_parameter(\"genes.max.cells\", \"\")\n",
    "scanpyutilities_job_spec.set_parameter(\"normalize\", \"0\")\n",
    "scanpyutilities_job_spec.set_parameter(\"n.high.variance.genes\", \"\")\n",
    "scanpyutilities_job_spec.set_parameter(\"compute.umap\", \"0\")\n",
    "scanpyutilities_job_spec.set_parameter(\"compute.tsne\", \"0\")\n",
    "scanpyutilities_job_spec.set_parameter(\"genome\", \"GRCh38\")\n",
    "scanpyutilities_job_spec.set_parameter(\"job.memory\", \"512Gb\")\n",
    "scanpyutilities_job_spec.set_parameter(\"job.queue\", \"gpbeta-default\")\n",
    "scanpyutilities_job_spec.set_parameter(\"job.cpuCount\", \"16\")\n",
    "scanpyutilities_job_spec.set_parameter(\"job.walltime\", \"24:00:00\")\n",
    "genepattern.display(scanpyutilities_task)\n",
    "\n",
    "job99219 = gp.GPJob(genepattern.session.get(0), 99219)\n",
    "genepattern.display(job99219)"
   ]
  },
  {
   "cell_type": "markdown",
   "metadata": {},
   "source": [
    "Once the module is finished, we'll see that it has created \"full_data.h5ad\" which is our converted data set. In order to work with this file, we first need to download it back to the notebook."
   ]
  },
  {
   "cell_type": "markdown",
   "metadata": {},
   "source": [
    "<div class=\"alert alert-info\">\n",
    "<b style=\"font-size:120%;\">DownloadJobResultFile</b><br>    \n",
    "<b>Job File Url</b> Select \"full_data.h5ad\" from the dropdown menu.<br>\n",
    "<b>File Name</b> ica_cord_blood/full_data.h5ad\n",
    "</div>"
   ]
  },
  {
   "cell_type": "code",
   "execution_count": 16,
   "metadata": {
    "nbtools": {
     "description": "Download file from a GenePattern module job result.",
     "name": "DownloadJobResultFile",
     "param_values": {
      "File_Name": "ica_cord_blood/full_data.h5ad",
      "Job_File_Url": [
       "https://cloud.genepattern.org/gp/jobResults/99219/full_data.h5ad"
      ],
      "file_name": "ica_cord_blood/full_data.h5ad",
      "job_file_url": [
       "https://cloud.genepattern.org/gp/jobResults/99219/full_data.h5ad"
      ],
      "output_var": ""
     },
     "show_code": false,
     "type": "uibuilder"
    },
    "scrolled": false
   },
   "outputs": [
    {
     "data": {
      "application/vnd.jupyter.widget-view+json": {
       "model_id": "613f631771af4208b3722c83f42ccc75",
       "version_major": 2,
       "version_minor": 0
      },
      "text/plain": [
       "UIBuilder(description='Download file from a GenePattern module job result.', function_import='DownloadJobResul…"
      ]
     },
     "metadata": {},
     "output_type": "display_data"
    }
   ],
   "source": [
    "genepattern.GPUIBuilder(DownloadJobResultFile,\n",
    "                        description=DownloadJobResultFile_description,\n",
    "                        parameters=DownloadJobResultFile_parameters)"
   ]
  },
  {
   "cell_type": "markdown",
   "metadata": {},
   "source": [
    "# Add Preliminary Annotations\n",
    "<a href=#Table-of-Contents>back to top</a>  "
   ]
  },
  {
   "cell_type": "markdown",
   "metadata": {},
   "source": [
    "In this section we add some preliminary annotations to the data. These are things like which donor a sample comes from and how many expressed genes it has. These annotations will prove useful for filtering out bad samples and doing some preliminary visualizations of the data. Some of these annotations we can make without referring to the actual count data, but some  things, such as number of expressed genes per sample, require accessing the full data. This is something we can't do without exceeding the memory capacity of the notebook. We will use the *ScanpyUtilities* module for making these annotations."
   ]
  },
  {
   "cell_type": "markdown",
   "metadata": {},
   "source": [
    "## Examining Data\n",
    "<a href=#Table-of-Contents>back to top</a>  "
   ]
  },
  {
   "cell_type": "markdown",
   "metadata": {
    "collapsed": true
   },
   "source": [
    "Before we can get started addding annotations to the data, we first need to take a look at what information we have. These next cells print some information from a random sample of genes (features) and cells (samples)."
   ]
  },
  {
   "cell_type": "markdown",
   "metadata": {},
   "source": [
    "<div class=\"alert alert-info\">\n",
    "<b style=\"font-size:120%;\">ViewRandomSubset</b><br>    \n",
    "<b>AnnData File</b> ica_cord_blood/full_data.h5ad<br>\n",
    "<b>Num Values</b> 10<br>\n",
    "<b>Which Axis</b> samples\n",
    "</div>"
   ]
  },
  {
   "cell_type": "code",
   "execution_count": 17,
   "metadata": {
    "nbtools": {
     "description": "View a random subset of the AnnData object.",
     "name": "ViewRandomSubset",
     "param_values": {
      "AnnData_File": "ica_cord_blood/full_data.h5ad",
      "File_Name": "ica_cord_blood/full_data.h5ad",
      "Num_Values": "10",
      "Which_Axis": "samples",
      "num_values": "10",
      "output_var": "",
      "which_axis": "features"
     },
     "show_code": false,
     "type": "uibuilder"
    },
    "scrolled": false
   },
   "outputs": [
    {
     "data": {
      "application/vnd.jupyter.widget-view+json": {
       "model_id": "17e25339893b4728b67897d1b37da95d",
       "version_major": 2,
       "version_minor": 0
      },
      "text/plain": [
       "UIBuilder(description='View a random subset of the AnnData object.', function_import='ViewRandomSubset', name=…"
      ]
     },
     "metadata": {},
     "output_type": "display_data"
    }
   ],
   "source": [
    "genepattern.GPUIBuilder(ViewRandomSubset,\n",
    "                        description=ViewRandomSubset_description,\n",
    "                        parameters=ViewRandomSubset_parameters)"
   ]
  },
  {
   "cell_type": "markdown",
   "metadata": {},
   "source": [
    "<div class=\"alert alert-info\">\n",
    "<b style=\"font-size:120%;\">ViewRandomSubset</b><br>\n",
    "<b>AnnData File</b> ica_cord_blood/full_data.h5ad<br>\n",
    "<b>Num Values</b> 10<br>\n",
    "<b>Which Axis</b> features\n",
    "</div>"
   ]
  },
  {
   "cell_type": "code",
   "execution_count": 18,
   "metadata": {
    "nbtools": {
     "description": "View a random subset of the AnnData object.",
     "name": "ViewRandomSubset",
     "param_values": {
      "AnnData_File": "ica_cord_blood/full_data.h5ad",
      "File_Name": "ica_cord_blood/full_data.h5ad",
      "Num_Values": "10",
      "Which_Axis": "features",
      "num_values": "10",
      "output_var": "",
      "which_axis": "features"
     },
     "show_code": false,
     "type": "uibuilder"
    },
    "scrolled": false
   },
   "outputs": [
    {
     "data": {
      "application/vnd.jupyter.widget-view+json": {
       "model_id": "b522fe4f6e684e2ab34791febfe178dd",
       "version_major": 2,
       "version_minor": 0
      },
      "text/plain": [
       "UIBuilder(description='View a random subset of the AnnData object.', function_import='ViewRandomSubset', name=…"
      ]
     },
     "metadata": {},
     "output_type": "display_data"
    }
   ],
   "source": [
    "genepattern.GPUIBuilder(ViewRandomSubset,\n",
    "                        description=ViewRandomSubset_description,\n",
    "                        parameters=ViewRandomSubset_parameters)"
   ]
  },
  {
   "cell_type": "markdown",
   "metadata": {},
   "source": [
    "So it looks like we have barcodes for each cell and gene names/ids for each gene. Notice that we are also getting a warning about variable names not being unique. This is because the index for the genes is the gene name, which appartently has some repeats. It would be a good idea to use the ids for the index instead since those are unique. Also for some of the analysis later on, we will require a column named \"gene_short_name\" to contain the names of each gene. We can accomplish both of these tasks with the following cell."
   ]
  },
  {
   "cell_type": "markdown",
   "metadata": {},
   "source": [
    "<div class=\"alert alert-info\">\n",
    "<b style=\"font-size:120%;\">SwapIndexAndColumn</b><br>\n",
    "<b>AnnData File</b> ica_cord_blood/full_data.h5ad<br>\n",
    "<b>Index Column</b> gene_ids<br>\n",
    "<b>New Column Name</b> gene_short_name<br>\n",
    "<b>Which Axis</b> features\n",
    "</div>"
   ]
  },
  {
   "cell_type": "code",
   "execution_count": 19,
   "metadata": {
    "nbtools": {
     "description": "Create a new index for the data using an existing column.",
     "name": "SwapIndexAndColumn",
     "param_values": {
      "AnnData_File": "ica_cord_blood/full_data.h5ad",
      "File_Name": "ica_cord_blood/full_data.h5ad",
      "Index_Column": "gene_ids",
      "New_Column_Name": "gene_short_name",
      "Which_Axis": "features",
      "index_column": "gene_ids",
      "new_column_name": "gene_short_name",
      "output_var": "",
      "which_axis": "features"
     },
     "show_code": false,
     "type": "uibuilder"
    },
    "scrolled": false
   },
   "outputs": [
    {
     "data": {
      "application/vnd.jupyter.widget-view+json": {
       "model_id": "883891addb3848dab72abf4c130a0c6f",
       "version_major": 2,
       "version_minor": 0
      },
      "text/plain": [
       "UIBuilder(description='Create a new index for the data using an existing column.', function_import='SwapIndexA…"
      ]
     },
     "metadata": {},
     "output_type": "display_data"
    }
   ],
   "source": [
    "genepattern.GPUIBuilder(SwapIndexAndColumn,\n",
    "                        description=SwapIndexAndColumn_description,\n",
    "                        parameters=SwapIndexAndColumn_parameters)"
   ]
  },
  {
   "cell_type": "markdown",
   "metadata": {},
   "source": [
    "The next cell shows the new and improved layout for the gene data - this time with no warnings."
   ]
  },
  {
   "cell_type": "markdown",
   "metadata": {},
   "source": [
    "<div class=\"alert alert-info\">\n",
    "<b style=\"font-size:120%;\">ViewRandomSubset</b><br>\n",
    "<b>AnnData File</b> ica_cord_blood/full_data.h5ad<br>\n",
    "<b>Num Values</b> 10<br>\n",
    "<b>Which Axis</b> features\n",
    "</div>"
   ]
  },
  {
   "cell_type": "code",
   "execution_count": 20,
   "metadata": {
    "nbtools": {
     "description": "View a random subset of the AnnData object.",
     "name": "ViewRandomSubset",
     "param_values": {
      "AnnData_File": "ica_cord_blood/full_data.h5ad",
      "File_Name": "ica_cord_blood/full_data.h5ad",
      "Num_Values": "10",
      "Which_Axis": "features",
      "num_values": "10",
      "output_var": "",
      "which_axis": "features"
     },
     "show_code": false,
     "type": "uibuilder"
    },
    "scrolled": true
   },
   "outputs": [
    {
     "data": {
      "application/vnd.jupyter.widget-view+json": {
       "model_id": "ed6603ac840741859abb2c4d2f4e77a4",
       "version_major": 2,
       "version_minor": 0
      },
      "text/plain": [
       "UIBuilder(description='View a random subset of the AnnData object.', function_import='ViewRandomSubset', name=…"
      ]
     },
     "metadata": {},
     "output_type": "display_data"
    }
   ],
   "source": [
    "genepattern.GPUIBuilder(ViewRandomSubset,\n",
    "                        description=ViewRandomSubset_description,\n",
    "                        parameters=ViewRandomSubset_parameters)"
   ]
  },
  {
   "cell_type": "markdown",
   "metadata": {},
   "source": [
    "## Experimental Conditions\n",
    "<a href=#Table-of-Contents>back to top</a>  "
   ]
  },
  {
   "cell_type": "markdown",
   "metadata": {},
   "source": [
    "We next want to add some information to our cells since right now all we have are the barcodes, embedded in the barcodes are the donor and channel ids, which are going to be important for analysis. If we take a look at a single barcode, e.g. **MantonCB5_HiSeq_7-ACGATACTCACCTTAT-1**, we can see that the donor id (5) is located at the 8th position and the channel id (7) is located at the 16th position. Furthermore, both ids are single digits so this will always be the case. This next cell uses [regular expressions](https://www.regular-expressions.info/) to parse the variable names and return the parsed values as a variable. We can use it to extract the ids in the 8th and 16th position."
   ]
  },
  {
   "cell_type": "markdown",
   "metadata": {},
   "source": [
    "<div class=\"alert alert-info\">\n",
    "<b style=\"font-size:120%;\">RegexVariableNames</b><br>\n",
    "<b>AnnData File</b> ica_cord_blood/full_data.h5ad<br>\n",
    "<b>Pattern</b> '(?<=^.{8}).'<br>\n",
    "<b>Which Axis</b> samples<br>\n",
    "<b>variable name for regex output</b> donor_id\n",
    "</div>"
   ]
  },
  {
   "cell_type": "code",
   "execution_count": 21,
   "metadata": {
    "nbtools": {
     "description": "Parse AnnData column using regex pattern.",
     "name": "RegexVariableNames",
     "param_values": {
      "AnnData_File": "ica_cord_blood/full_data.h5ad",
      "File_Name": "ica_cord_blood/full_data.h5ad",
      "Pattern": "'(?<=^.{8}).'",
      "Which_Axis": "samples",
      "output_var": "",
      "pattern": "'(?<=^.{8}).'",
      "which_axis": "samples"
     },
     "show_code": false,
     "type": "uibuilder"
    },
    "scrolled": false
   },
   "outputs": [
    {
     "data": {
      "application/vnd.jupyter.widget-view+json": {
       "model_id": "27519b9a42034f73992cadf2b3cb862b",
       "version_major": 2,
       "version_minor": 0
      },
      "text/plain": [
       "UIBuilder(description='Parse AnnData column using regex pattern.', function_import='RegexVariableNames', name=…"
      ]
     },
     "metadata": {},
     "output_type": "display_data"
    }
   ],
   "source": [
    "genepattern.GPUIBuilder(RegexVariableNames,\n",
    "                        description=RegexVariableNames_description,\n",
    "                        parameters=RegexVariableNames_parameters)"
   ]
  },
  {
   "cell_type": "markdown",
   "metadata": {},
   "source": [
    "<div class=\"alert alert-info\">\n",
    "<b style=\"font-size:120%;\">View</b><br>\n",
    "<b>Variable Name</b> donor_id\n",
    "</div>"
   ]
  },
  {
   "cell_type": "code",
   "execution_count": 22,
   "metadata": {
    "nbtools": {
     "description": "View contents of variable.",
     "name": "View",
     "param_values": {
      "Variable_Name": "donor_id",
      "output_var": "",
      "x": "donor_id"
     },
     "show_code": false,
     "type": "uibuilder"
    },
    "scrolled": false
   },
   "outputs": [
    {
     "data": {
      "application/vnd.jupyter.widget-view+json": {
       "model_id": "6c6f043ded5140528a3a3df884b97ac9",
       "version_major": 2,
       "version_minor": 0
      },
      "text/plain": [
       "UIBuilder(description='View contents of variable.', function_import='View', name='View', params=[{'name': 'Var…"
      ]
     },
     "metadata": {},
     "output_type": "display_data"
    }
   ],
   "source": [
    "genepattern.GPUIBuilder(View,\n",
    "                        description=View_description,\n",
    "                        parameters=View_parameters)"
   ]
  },
  {
   "cell_type": "markdown",
   "metadata": {},
   "source": [
    "<div class=\"alert alert-info\">\n",
    "<b style=\"font-size:120%;\">RegexVariableNames</b><br>\n",
    "<b>AnnData File</b> ica_cord_blood/full_data.h5ad<br>\n",
    "<b>Pattern</b> '(?<=^.{16}).'<br>\n",
    "<b>Which Axis</b> samples<br>\n",
    "<b>variable name for regex output</b> channel_id\n",
    "</div>"
   ]
  },
  {
   "cell_type": "code",
   "execution_count": 23,
   "metadata": {
    "nbtools": {
     "description": "Parse AnnData column using regex pattern.",
     "name": "RegexVariableNames",
     "param_values": {
      "AnnData_File": "ica_cord_blood/full_data.h5ad",
      "File_Name": "ica_cord_blood/full_data.h5ad",
      "Pattern": "'(?<=^.{16}).'",
      "Which_Axis": "samples",
      "output_var": "",
      "pattern": "'(?<=^.{8}).'",
      "which_axis": "samples"
     },
     "show_code": false,
     "type": "uibuilder"
    },
    "scrolled": true
   },
   "outputs": [
    {
     "data": {
      "application/vnd.jupyter.widget-view+json": {
       "model_id": "828529d39fc8462ea43016342a1b9386",
       "version_major": 2,
       "version_minor": 0
      },
      "text/plain": [
       "UIBuilder(description='Parse AnnData column using regex pattern.', function_import='RegexVariableNames', name=…"
      ]
     },
     "metadata": {},
     "output_type": "display_data"
    }
   ],
   "source": [
    "genepattern.GPUIBuilder(RegexVariableNames,\n",
    "                        description=RegexVariableNames_description,\n",
    "                        parameters=RegexVariableNames_parameters)"
   ]
  },
  {
   "cell_type": "markdown",
   "metadata": {},
   "source": [
    "<div class=\"alert alert-info\">\n",
    "<b style=\"font-size:120%;\">View</b><br>\n",
    "<b>Variable Name</b> channel_id\n",
    "</div>"
   ]
  },
  {
   "cell_type": "code",
   "execution_count": 24,
   "metadata": {
    "nbtools": {
     "description": "View contents of variable.",
     "name": "View",
     "param_values": {
      "Variable_Name": "channel_id",
      "output_var": "",
      "x": "channel_id"
     },
     "show_code": false,
     "type": "uibuilder"
    },
    "scrolled": true
   },
   "outputs": [
    {
     "data": {
      "application/vnd.jupyter.widget-view+json": {
       "model_id": "1b51791f92334663bb7529fca0f727e0",
       "version_major": 2,
       "version_minor": 0
      },
      "text/plain": [
       "UIBuilder(description='View contents of variable.', function_import='View', name='View', params=[{'name': 'Var…"
      ]
     },
     "metadata": {},
     "output_type": "display_data"
    }
   ],
   "source": [
    "genepattern.GPUIBuilder(View,\n",
    "                        description=View_description,\n",
    "                        parameters=View_parameters)"
   ]
  },
  {
   "cell_type": "markdown",
   "metadata": {},
   "source": [
    "Now that we have variables with the donor and channel ids, we want to add them to the cell data. The next cell allows us to create new columns in a **AnnData** object."
   ]
  },
  {
   "cell_type": "markdown",
   "metadata": {},
   "source": [
    "<div class=\"alert alert-info\">\n",
    "<b style=\"font-size:120%;\">AddColumnToData</b><br>\n",
    "<b>AnnData File</b> ica_cord_blood/full_data.h5ad<br>\n",
    "<b>Column Name</b> donor<br>\n",
    "<b>Values</b> donor_id<br>\n",
    "<b>Which Axis</b> samples<br>\n",
    "</div>"
   ]
  },
  {
   "cell_type": "code",
   "execution_count": 25,
   "metadata": {
    "nbtools": {
     "description": "Adds a column to an AnnData object.",
     "name": "AddColumnToData",
     "param_values": {
      "AnnData_File": "ica_cord_blood/full_data.h5ad",
      "Column_Name": "donor",
      "File_Name": "ica_cord_blood/full_data.h5ad",
      "Values": "donor_id",
      "Which_Axis": "samples",
      "column_name": "donor3",
      "output_var": "",
      "values": "donor_id",
      "which_axis": "samples"
     },
     "show_code": false,
     "type": "uibuilder"
    },
    "scrolled": true
   },
   "outputs": [
    {
     "data": {
      "application/vnd.jupyter.widget-view+json": {
       "model_id": "e2bc8123ceca4fb8b0f3835394f1a4a2",
       "version_major": 2,
       "version_minor": 0
      },
      "text/plain": [
       "UIBuilder(description='Adds a column to an AnnData object.', function_import='AddColumnToData', name='AddColum…"
      ]
     },
     "metadata": {},
     "output_type": "display_data"
    }
   ],
   "source": [
    "genepattern.GPUIBuilder(AddColumnToData,\n",
    "                        description=AddColumnToData_description,\n",
    "                        parameters=AddColumnToData_parameters)"
   ]
  },
  {
   "cell_type": "markdown",
   "metadata": {},
   "source": [
    "<div class=\"alert alert-info\">\n",
    "<b style=\"font-size:120%;\">AddColumnToData</b><br>\n",
    "<b>AnnData File</b> ica_cord_blood/full_data.h5ad<br>\n",
    "<b>Column Name</b> channel<br>\n",
    "<b>Values</b> channel_id<br>\n",
    "<b>Which Axis</b> samples<br>\n",
    "</div>"
   ]
  },
  {
   "cell_type": "code",
   "execution_count": 26,
   "metadata": {
    "nbtools": {
     "description": "Adds a column to an AnnData object.",
     "name": "AddColumnToData",
     "param_values": {
      "AnnData_File": "ica_cord_blood/full_data.h5ad",
      "Column_Name": "channel",
      "File_Name": "ica_cord_blood/full_data.h5ad",
      "Values": "channel_id",
      "Which_Axis": "samples",
      "column_name": "donor3",
      "output_var": "",
      "values": "donor_id",
      "which_axis": "samples"
     },
     "show_code": false,
     "type": "uibuilder"
    },
    "scrolled": true
   },
   "outputs": [
    {
     "data": {
      "application/vnd.jupyter.widget-view+json": {
       "model_id": "141263058ca844d685cc97d2a304c7d9",
       "version_major": 2,
       "version_minor": 0
      },
      "text/plain": [
       "UIBuilder(description='Adds a column to an AnnData object.', function_import='AddColumnToData', name='AddColum…"
      ]
     },
     "metadata": {},
     "output_type": "display_data"
    }
   ],
   "source": [
    "genepattern.GPUIBuilder(AddColumnToData,\n",
    "                        description=AddColumnToData_description,\n",
    "                        parameters=AddColumnToData_parameters)"
   ]
  },
  {
   "cell_type": "markdown",
   "metadata": {},
   "source": [
    "Now we can take a look at the new and improved cell data."
   ]
  },
  {
   "cell_type": "markdown",
   "metadata": {},
   "source": [
    "<div class=\"alert alert-info\">\n",
    "<b style=\"font-size:120%;\">ViewRandomSubset</b><br>    \n",
    "<b>AnnData File</b> ica_cord_blood/full_data.h5ad<br>\n",
    "<b>Num Values</b> 10<br>\n",
    "<b>Which Axis</b> samples\n",
    "</div>"
   ]
  },
  {
   "cell_type": "code",
   "execution_count": 27,
   "metadata": {
    "nbtools": {
     "description": "View a random subset of the AnnData object.",
     "name": "ViewRandomSubset",
     "param_values": {
      "AnnData_File": "ica_cord_blood/full_data.h5ad",
      "File_Name": "ica_cord_blood/full_data.h5ad",
      "Num_Values": "10",
      "Which_Axis": "samples",
      "num_values": "10",
      "output_var": "",
      "which_axis": "features"
     },
     "show_code": false,
     "type": "uibuilder"
    },
    "scrolled": true
   },
   "outputs": [
    {
     "data": {
      "application/vnd.jupyter.widget-view+json": {
       "model_id": "3c6a45ea60834deba95b5dbbf173b16e",
       "version_major": 2,
       "version_minor": 0
      },
      "text/plain": [
       "UIBuilder(description='View a random subset of the AnnData object.', function_import='ViewRandomSubset', name=…"
      ]
     },
     "metadata": {},
     "output_type": "display_data"
    }
   ],
   "source": [
    "genepattern.GPUIBuilder(ViewRandomSubset,\n",
    "                        description=ViewRandomSubset_description,\n",
    "                        parameters=ViewRandomSubset_parameters)"
   ]
  },
  {
   "cell_type": "markdown",
   "metadata": {},
   "source": [
    "## Count Information\n",
    "<a href=#Table-of-Contents>back to top</a>  "
   ]
  },
  {
   "cell_type": "markdown",
   "metadata": {},
   "source": [
    "Now we want to add some count information to the data. Specifically the number of counts expressed in each gene and cell, as well as the total number of cells expressed in each gene and vice versa. We will use the *ScanpyUtilities* module for this since we need access to the full data set and there is not enough memory to do that in the notebook. First we need to upload our data set to the GenePattern server so that we can use it as input for the module."
   ]
  },
  {
   "cell_type": "markdown",
   "metadata": {},
   "source": [
    "<div class=\"alert alert-info\">\n",
    "<b style=\"font-size:120%;\">UploadFileToGenePatternServer</b><br>    \n",
    "<b>Local File</b> ica_cord_blood/full_data.h5ad<br>\n",
    "<b>Remote File Name</b> ica_cord_blood_full_data.h5ad<br>\n",
    "<b>variable name for url</b> data_url\n",
    "</div>"
   ]
  },
  {
   "cell_type": "code",
   "execution_count": 28,
   "metadata": {
    "nbtools": {
     "description": "Upload the local file onto the GenePattern server.",
     "name": "UploadFileToGenePatternServer",
     "param_values": {
      "Local_File": "ica_cord_blood/full_data.h5ad",
      "Remote_File_Name": "ica_cord_blood_full_data.h5ad",
      "local_file": "\"ica_cord_blood/full_data.h5ad\"",
      "output_var": "",
      "remote_file_name": "\"ica_cord_blood_full_data.h5ad\""
     },
     "show_code": false,
     "type": "uibuilder"
    },
    "scrolled": true
   },
   "outputs": [
    {
     "data": {
      "application/vnd.jupyter.widget-view+json": {
       "model_id": "553a5d1fe8674703b0a53cde49e2188e",
       "version_major": 2,
       "version_minor": 0
      },
      "text/plain": [
       "UIBuilder(description='Upload the local file onto the GenePattern server.', function_import='UploadFileToGeneP…"
      ]
     },
     "metadata": {},
     "output_type": "display_data"
    }
   ],
   "source": [
    "genepattern.GPUIBuilder(UploadFileToGenePatternServer,\n",
    "                        description=UploadFileToGenePatternServer_description,\n",
    "                        parameters=UploadFileToGenePatternServer_parameters)"
   ]
  },
  {
   "cell_type": "markdown",
   "metadata": {},
   "source": [
    "<div class=\"alert alert-info\">\n",
    "<h3 style=\"margin-top: 0;\"> ScanpyUtilities Module Instructions - Annotating the Data <i class=\"fa fa-info-circle\"></i></h3>\n",
    "<ol>\n",
    "    <li>Under \"Input and Output\" set <b>data file</b> to \"{{ data_url }}\", when using the {{ x }} syntax it will expand the value of the variable as a string</li>\n",
    "    <li>Under \"Input and Output\" set <b>output basename</b> to \"full_data\"</li>\n",
    "    <li>Under \"Annotation\" set <b>annotate</b> to \"yes\"</li>\n",
    "    <li>Everything else should be set to it's default (either blank or \"no\")</li>\n",
    "</ol>\n",
    "Note: do not include the quotes when setting parameters\n",
    "</div>"
   ]
  },
  {
   "cell_type": "code",
   "execution_count": 3,
   "metadata": {
    "genepattern": {
     "description": "Scanpy preprocessing of an h5 single cell RNASeq dataset",
     "name": "ScanpyUtilities",
     "param_values": {
      "annotate": null,
      "cell.type.marker.file": null,
      "cells.max.counts": null,
      "cells.max.genes": null,
      "cells.min.counts": null,
      "cells.min.genes": null,
      "compute.tsne": null,
      "compute.umap": null,
      "data.file": null,
      "gene.annotation.database": null,
      "genes.max.cells": null,
      "genes.max.counts": null,
      "genes.min.cells": null,
      "genes.min.counts": null,
      "genome": null,
      "job.cpuCount": null,
      "job.memory": null,
      "job.queue": null,
      "job.walltime": null,
      "n.high.variance.genes": null,
      "normalize": null,
      "output.basename": null
     },
     "type": "task"
    },
    "scrolled": false
   },
   "outputs": [
    {
     "data": {
      "application/vnd.jupyter.widget-view+json": {
       "model_id": "d923cfce4a0243feb2fc01dca12adec2",
       "version_major": 2,
       "version_minor": 0
      },
      "text/plain": [
       "GPTaskWidget(lsid='urn:lsid:broad.mit.edu:cancer.software.genepattern.module.analysis:00382')"
      ]
     },
     "metadata": {},
     "output_type": "display_data"
    },
    {
     "data": {
      "application/vnd.jupyter.widget-view+json": {
       "model_id": "962f7c5beba54e518146d678656c42bf",
       "version_major": 2,
       "version_minor": 0
      },
      "text/plain": [
       "GPJobWidget(job_number=100233)"
      ]
     },
     "metadata": {},
     "output_type": "display_data"
    }
   ],
   "source": [
    "scanpyutilities_task = gp.GPTask(genepattern.session.get(0), 'urn:lsid:broad.mit.edu:cancer.software.genepattern.module.analysis:00382')\n",
    "scanpyutilities_job_spec = scanpyutilities_task.make_job_spec()\n",
    "scanpyutilities_job_spec.set_parameter(\"data.file\", \"{{ uploaded_url }}\")\n",
    "scanpyutilities_job_spec.set_parameter(\"output.basename\", \"full_data\")\n",
    "scanpyutilities_job_spec.set_parameter(\"annotate\", \"1\")\n",
    "scanpyutilities_job_spec.set_parameter(\"cells.min.counts\", \"\")\n",
    "scanpyutilities_job_spec.set_parameter(\"cells.max.counts\", \"\")\n",
    "scanpyutilities_job_spec.set_parameter(\"cells.min.genes\", \"\")\n",
    "scanpyutilities_job_spec.set_parameter(\"cells.max.genes\", \"\")\n",
    "scanpyutilities_job_spec.set_parameter(\"genes.min.counts\", \"\")\n",
    "scanpyutilities_job_spec.set_parameter(\"genes.max.counts\", \"\")\n",
    "scanpyutilities_job_spec.set_parameter(\"genes.min.cells\", \"\")\n",
    "scanpyutilities_job_spec.set_parameter(\"genes.max.cells\", \"\")\n",
    "scanpyutilities_job_spec.set_parameter(\"normalize\", \"0\")\n",
    "scanpyutilities_job_spec.set_parameter(\"n.high.variance.genes\", \"\")\n",
    "scanpyutilities_job_spec.set_parameter(\"compute.umap\", \"0\")\n",
    "scanpyutilities_job_spec.set_parameter(\"compute.tsne\", \"0\")\n",
    "scanpyutilities_job_spec.set_parameter(\"genome\", \"\")\n",
    "scanpyutilities_job_spec.set_parameter(\"job.memory\", \"32 Gb\")\n",
    "scanpyutilities_job_spec.set_parameter(\"job.queue\", \"gpbeta-default\")\n",
    "scanpyutilities_job_spec.set_parameter(\"job.cpuCount\", \"4\")\n",
    "scanpyutilities_job_spec.set_parameter(\"job.walltime\", \"02:00:00\")\n",
    "genepattern.display(scanpyutilities_task)\n",
    "\n",
    "job100233 = gp.GPJob(genepattern.session.get(0), 100233)\n",
    "genepattern.display(job100233)"
   ]
  },
  {
   "cell_type": "markdown",
   "metadata": {},
   "source": [
    "<div class=\"alert alert-info\">\n",
    "<b style=\"font-size:120%;\">DownloadJobResultFile</b><br>    \n",
    "<b>Job File Url</b> Select \"full_data_annotated.h5ad\" from the dropdown menu.<br>\n",
    "<b>File Name</b> ica_cord_blood/full_data_annotated.h5ad\n",
    "</div>"
   ]
  },
  {
   "cell_type": "code",
   "execution_count": 29,
   "metadata": {
    "nbtools": {
     "description": "Download file from a GenePattern module job result.",
     "name": "DownloadJobResultFile",
     "param_values": {
      "File_Name": "ica_cord_blood/full_data_annotated.h5ad",
      "Job_File_Url": [
       "https://cloud.genepattern.org/gp/jobResults/100233/full_data_annotated.h5ad"
      ],
      "output_var": ""
     },
     "show_code": false,
     "type": "uibuilder"
    }
   },
   "outputs": [
    {
     "data": {
      "application/vnd.jupyter.widget-view+json": {
       "model_id": "10565568b0ee48afa9ce6abdda0c8aaf",
       "version_major": 2,
       "version_minor": 0
      },
      "text/plain": [
       "UIBuilder(description='Download file from a GenePattern module job result.', function_import='DownloadJobResul…"
      ]
     },
     "metadata": {},
     "output_type": "display_data"
    }
   ],
   "source": [
    "genepattern.GPUIBuilder(DownloadJobResultFile,\n",
    "                        description=DownloadJobResultFile_description,\n",
    "                        parameters=DownloadJobResultFile_parameters)"
   ]
  },
  {
   "cell_type": "markdown",
   "metadata": {},
   "source": [
    "# Filter Low Quality Samples\n",
    "<a href=#Table-of-Contents>back to top</a>  "
   ]
  },
  {
   "cell_type": "markdown",
   "metadata": {},
   "source": [
    "In this section we will be filtering out the low quality samples and the lowly expressed genes. This part isn't an exact science so we will be making several plots of our count data in order to get a sense of the distribution. From these plots we can make some decisions about filtering."
   ]
  },
  {
   "cell_type": "markdown",
   "metadata": {},
   "source": [
    "## Cell Filter  - Count Threshold\n",
    "<a href=#Table-of-Contents>back to top</a>  "
   ]
  },
  {
   "cell_type": "markdown",
   "metadata": {},
   "source": [
    "In this section we come up with a minimum and maximum threshold for the number of counts each cell must have to remain in the analysis. We plot the distribution of the total number of counts per sample and zoom in at each tail. From these plots it seems that a reasonable minimum threshold would be 1000 counts since the distribution of cells below 1000 seems artificially dense. For a maximum threshold we choose 20000 since cells that have more counts than this seem to be outliers."
   ]
  },
  {
   "cell_type": "markdown",
   "metadata": {},
   "source": [
    "<div class=\"alert alert-info\">\n",
    "<b style=\"font-size:120%;\">Histogram</b><br>    \n",
    "<b>AnnData File</b> ica_cord_blood/full_data_annotated.h5ad<br>\n",
    "<b>Plot Variable</b> n_counts<br>\n",
    "<b>Which Axis</b> samples<br>\n",
    "<b>Lower Bound</b> -- leave blank --<br>\n",
    "<b>Upper Bound</b> -- leave blank --\n",
    "</div>"
   ]
  },
  {
   "cell_type": "code",
   "execution_count": 30,
   "metadata": {
    "nbtools": {
     "description": "Create a histogram of an AnnData object.",
     "name": "Histogram",
     "param_values": {
      "AnnData_File": "ica_cord_blood/full_data_annotated.h5ad",
      "File_Name": "ica_cord_blood/full_data_annotated.h5ad",
      "Lower_Bound": "",
      "Plot_Variable": "n_counts",
      "Upper_Bound": "",
      "Which_Axis": "samples",
      "features_or_samples": "samples",
      "lower_bound": "",
      "output_var": "",
      "plot_variable": "n_counts",
      "upper_bound": "",
      "which_axis": "samples"
     },
     "show_code": false,
     "type": "uibuilder"
    },
    "scrolled": false
   },
   "outputs": [
    {
     "data": {
      "application/vnd.jupyter.widget-view+json": {
       "model_id": "02db1425b5d944c392ce4f5a74b0e451",
       "version_major": 2,
       "version_minor": 0
      },
      "text/plain": [
       "UIBuilder(description='Create a histogram of an AnnData object.', function_import='Histogram', name='Histogram…"
      ]
     },
     "metadata": {},
     "output_type": "display_data"
    }
   ],
   "source": [
    "genepattern.GPUIBuilder(Histogram,\n",
    "                        description=Histogram_description,\n",
    "                        parameters=Histogram_parameters)"
   ]
  },
  {
   "cell_type": "markdown",
   "metadata": {},
   "source": [
    "<div class=\"alert alert-info\">\n",
    "<b style=\"font-size:120%;\">Histogram</b><br>    \n",
    "<b>AnnData File</b> ica_cord_blood/full_data_annotated.h5ad<br>\n",
    "<b>Plot Variable</b> n_counts<br>\n",
    "<b>Which Axis</b> samples<br>\n",
    "<b>Lower Bound</b> -- leave blank --<br>\n",
    "<b>Upper Bound</b> 2000\n",
    "</div>"
   ]
  },
  {
   "cell_type": "code",
   "execution_count": 31,
   "metadata": {
    "nbtools": {
     "description": "Create a histogram of an AnnData object.",
     "name": "Histogram",
     "param_values": {
      "AnnData_File": "ica_cord_blood/full_data_annotated.h5ad",
      "File_Name": "ica_cord_blood/full_data_annotated.h5ad",
      "Lower_Bound": "",
      "Plot_Variable": "n_counts",
      "Upper_Bound": "2000",
      "Which_Axis": "samples",
      "features_or_samples": "samples",
      "lower_bound": "",
      "output_var": "",
      "plot_variable": "n_counts",
      "upper_bound": "",
      "which_axis": "samples"
     },
     "show_code": false,
     "type": "uibuilder"
    },
    "scrolled": false
   },
   "outputs": [
    {
     "data": {
      "application/vnd.jupyter.widget-view+json": {
       "model_id": "b2b7fc2c12e84a20877cff2ab1bad00d",
       "version_major": 2,
       "version_minor": 0
      },
      "text/plain": [
       "UIBuilder(description='Create a histogram of an AnnData object.', function_import='Histogram', name='Histogram…"
      ]
     },
     "metadata": {},
     "output_type": "display_data"
    }
   ],
   "source": [
    "genepattern.GPUIBuilder(Histogram,\n",
    "                        description=Histogram_description,\n",
    "                        parameters=Histogram_parameters)"
   ]
  },
  {
   "cell_type": "markdown",
   "metadata": {},
   "source": [
    "<div class=\"alert alert-info\">\n",
    "<b style=\"font-size:120%;\">Histogram</b><br>    \n",
    "<b>AnnData File</b> ica_cord_blood/full_data_annotated.h5ad<br>\n",
    "<b>Plot Variable</b> n_counts<br>\n",
    "<b>Which Axis</b> samples<br>\n",
    "<b>Lower Bound</b> 10000<br>\n",
    "<b>Upper Bound</b> -- leave blank --\n",
    "</div>"
   ]
  },
  {
   "cell_type": "code",
   "execution_count": 32,
   "metadata": {
    "nbtools": {
     "description": "Create a histogram of an AnnData object.",
     "name": "Histogram",
     "param_values": {
      "AnnData_File": "ica_cord_blood/full_data_annotated.h5ad",
      "File_Name": "ica_cord_blood/full_data_annotated.h5ad",
      "Lower_Bound": "10000",
      "Plot_Variable": "n_counts",
      "Upper_Bound": "",
      "Which_Axis": "samples",
      "features_or_samples": "samples",
      "lower_bound": "",
      "output_var": "",
      "plot_variable": "n_counts",
      "upper_bound": "",
      "which_axis": "samples"
     },
     "show_code": false,
     "type": "uibuilder"
    },
    "scrolled": false
   },
   "outputs": [
    {
     "data": {
      "application/vnd.jupyter.widget-view+json": {
       "model_id": "94bed31ad50f4340910eefb1dbf9acfd",
       "version_major": 2,
       "version_minor": 0
      },
      "text/plain": [
       "UIBuilder(description='Create a histogram of an AnnData object.', function_import='Histogram', name='Histogram…"
      ]
     },
     "metadata": {},
     "output_type": "display_data"
    }
   ],
   "source": [
    "genepattern.GPUIBuilder(Histogram,\n",
    "                        description=Histogram_description,\n",
    "                        parameters=Histogram_parameters)"
   ]
  },
  {
   "cell_type": "markdown",
   "metadata": {},
   "source": [
    "## Cell Filter - Gene Threshold\n",
    "<a href=#Table-of-Contents>back to top</a>  "
   ]
  },
  {
   "cell_type": "markdown",
   "metadata": {},
   "source": [
    "Using the same approach as above, we can set some thresholds for the number of genes that a cell needs to express to remain in the analysis. We can see that the density of samples with less than 500 genes expressed is artificially dense, so we choose this for a minimum threshold. We don't choose any maximum threshold since there isn't a clear point to make it at."
   ]
  },
  {
   "cell_type": "markdown",
   "metadata": {},
   "source": [
    "<div class=\"alert alert-info\">\n",
    "<b style=\"font-size:120%;\">Histogram</b><br>    \n",
    "<b>AnnData File</b> ica_cord_blood/full_data_annotated.h5ad<br>\n",
    "<b>Plot Variable</b> n_genes<br>\n",
    "<b>Which Axis</b> samples<br>\n",
    "<b>Lower Bound</b> -- leave blank --<br>\n",
    "<b>Upper Bound</b> -- leave blank --\n",
    "</div>"
   ]
  },
  {
   "cell_type": "code",
   "execution_count": 33,
   "metadata": {
    "nbtools": {
     "description": "Create a histogram of an AnnData object.",
     "name": "Histogram",
     "param_values": {
      "AnnData_File": "ica_cord_blood/full_data_annotated.h5ad",
      "File_Name": "ica_cord_blood/full_data_annotated.h5ad",
      "Lower_Bound": "",
      "Plot_Variable": "n_genes",
      "Upper_Bound": "",
      "Which_Axis": "samples",
      "features_or_samples": "samples",
      "lower_bound": "",
      "output_var": "",
      "plot_variable": "n_counts",
      "upper_bound": "",
      "which_axis": "samples"
     },
     "show_code": false,
     "type": "uibuilder"
    },
    "scrolled": true
   },
   "outputs": [
    {
     "data": {
      "application/vnd.jupyter.widget-view+json": {
       "model_id": "b91ceaf3b7eb440cb4685d1ecf622251",
       "version_major": 2,
       "version_minor": 0
      },
      "text/plain": [
       "UIBuilder(description='Create a histogram of an AnnData object.', function_import='Histogram', name='Histogram…"
      ]
     },
     "metadata": {},
     "output_type": "display_data"
    }
   ],
   "source": [
    "genepattern.GPUIBuilder(Histogram,\n",
    "                        description=Histogram_description,\n",
    "                        parameters=Histogram_parameters)"
   ]
  },
  {
   "cell_type": "markdown",
   "metadata": {},
   "source": [
    "<div class=\"alert alert-info\">\n",
    "<b style=\"font-size:120%;\">Histogram</b><br>    \n",
    "<b>AnnData File</b> ica_cord_blood/full_data_annotated.h5ad<br>\n",
    "<b>Plot Variable</b> n_counts<br>\n",
    "<b>Which Axis</b> samples<br>\n",
    "<b>Lower Bound</b> -- leave blank --<br>\n",
    "<b>Upper Bound</b> 1000\n",
    "</div>"
   ]
  },
  {
   "cell_type": "code",
   "execution_count": 34,
   "metadata": {
    "nbtools": {
     "description": "Create a histogram of an AnnData object.",
     "name": "Histogram",
     "param_values": {
      "AnnData_File": "ica_cord_blood/full_data_annotated.h5ad",
      "File_Name": "ica_cord_blood/full_data_annotated.h5ad",
      "Lower_Bound": "",
      "Plot_Variable": "n_genes",
      "Upper_Bound": "1000",
      "Which_Axis": "samples",
      "features_or_samples": "samples",
      "lower_bound": "",
      "output_var": "",
      "plot_variable": "n_counts",
      "upper_bound": "",
      "which_axis": "samples"
     },
     "show_code": false,
     "type": "uibuilder"
    },
    "scrolled": true
   },
   "outputs": [
    {
     "data": {
      "application/vnd.jupyter.widget-view+json": {
       "model_id": "4988182138b8466ea6ebc0b67fce6d85",
       "version_major": 2,
       "version_minor": 0
      },
      "text/plain": [
       "UIBuilder(description='Create a histogram of an AnnData object.', function_import='Histogram', name='Histogram…"
      ]
     },
     "metadata": {},
     "output_type": "display_data"
    }
   ],
   "source": [
    "genepattern.GPUIBuilder(Histogram,\n",
    "                        description=Histogram_description,\n",
    "                        parameters=Histogram_parameters)"
   ]
  },
  {
   "cell_type": "markdown",
   "metadata": {},
   "source": [
    "<div class=\"alert alert-info\">\n",
    "<b style=\"font-size:120%;\">Histogram</b><br>    \n",
    "<b>AnnData File</b> ica_cord_blood/full_data_annotated.h5ad<br>\n",
    "<b>Plot Variable</b> n_genes<br>\n",
    "<b>Which Axis</b> samples<br>\n",
    "<b>Lower Bound</b> 2000<br>\n",
    "<b>Upper Bound</b> -- leave blank --\n",
    "</div>"
   ]
  },
  {
   "cell_type": "code",
   "execution_count": 35,
   "metadata": {
    "nbtools": {
     "description": "Create a histogram of an AnnData object.",
     "name": "Histogram",
     "param_values": {
      "AnnData_File": "ica_cord_blood/full_data_annotated.h5ad",
      "File_Name": "ica_cord_blood/full_data_annotated.h5ad",
      "Lower_Bound": "2000",
      "Plot_Variable": "n_genes",
      "Upper_Bound": "",
      "Which_Axis": "samples",
      "features_or_samples": "samples",
      "lower_bound": "",
      "output_var": "",
      "plot_variable": "n_counts",
      "upper_bound": "",
      "which_axis": "samples"
     },
     "show_code": false,
     "type": "uibuilder"
    },
    "scrolled": true
   },
   "outputs": [
    {
     "data": {
      "application/vnd.jupyter.widget-view+json": {
       "model_id": "cf617ef6247047b6b1d8f635ab380ae4",
       "version_major": 2,
       "version_minor": 0
      },
      "text/plain": [
       "UIBuilder(description='Create a histogram of an AnnData object.', function_import='Histogram', name='Histogram…"
      ]
     },
     "metadata": {},
     "output_type": "display_data"
    }
   ],
   "source": [
    "genepattern.GPUIBuilder(Histogram,\n",
    "                        description=Histogram_description,\n",
    "                        parameters=Histogram_parameters)"
   ]
  },
  {
   "cell_type": "markdown",
   "metadata": {},
   "source": [
    "## Use the ScanpyUtilities Module to Filter\n",
    "<a href=#Table-of-Contents>back to top</a>  "
   ]
  },
  {
   "cell_type": "markdown",
   "metadata": {},
   "source": [
    "Now it's time to apply our proposed filter. Since this requires accessing the full data we will have to use the *ScanpyUtilities* module. Since we haven't modified our data from the previous job, we can actually pass the job result directly to the input of this module instead of uploading our local file. Note here that we also filter out any genes that aren't expressed in at least 20 cells. This is just a minimum baseline for determining relevant genes. This isn't necessarily a critical threshold since most of our downstream analysis will happen on a highly variable subset of genes anyways."
   ]
  },
  {
   "cell_type": "markdown",
   "metadata": {},
   "source": [
    "\n",
    "<div class=\"alert alert-info\">\n",
    "<h3 style=\"margin-top: 0;\"> ScanpyUtilities Module Instructions - Filtering the Data <i class=\"fa fa-info-circle\"></i></h3>\n",
    "<ol>\n",
    "    <li>Under \"Input and Output\" select \"full_data_annotated\" from the <b>data file</b> dropdown</li>\n",
    "    <li>Under \"Input and Output\" set <b>output basename</b> to \"full_data\"</li>\n",
    "    <li>Under \"Cell Filtering\" set <b>cells min counts</b> to 1000</li>\n",
    "    <li>Under \"Cell Filtering\" set <b>cells max counts</b> to 20000</li>\n",
    "    <li>Under \"Cell Filtering\" set <b>cells min genes</b> to 500</li>\n",
    "    <li>Under \"Gene Filtering\" set <b>genes min cells</b> to 20</li>\n",
    "    <li>Everything else should be set to it's default (either blank or \"no\")</li>\n",
    "</ol>\n",
    "Note: do not include the quotes when setting parameters\n",
    "</div>"
   ]
  },
  {
   "cell_type": "code",
   "execution_count": 4,
   "metadata": {
    "genepattern": {
     "description": "Scanpy preprocessing of an h5 single cell RNASeq dataset",
     "name": "ScanpyPreprocess",
     "param_values": {
      "annotate": null,
      "batch.correct.and.normalize": null,
      "cell.type.marker.file": null,
      "cells.max.counts": null,
      "cells.max.genes": null,
      "cells.min.counts": null,
      "cells.min.genes": null,
      "compute.tsne": null,
      "compute.umap": null,
      "data.file": null,
      "gene.annotation.database": null,
      "genes.max.cells": null,
      "genes.max.counts": null,
      "genes.min.cells": null,
      "genes.min.counts": null,
      "genome": null,
      "group.name": null,
      "job.cpuCount": null,
      "job.memory": null,
      "job.queue": null,
      "job.walltime": null,
      "n.high.variance.genes": null,
      "normalize": null,
      "output.basename": null,
      "output.filename": null
     },
     "type": "task"
    },
    "scrolled": false
   },
   "outputs": [
    {
     "data": {
      "application/vnd.jupyter.widget-view+json": {
       "model_id": "5383a524db7944be85f40cde14626fee",
       "version_major": 2,
       "version_minor": 0
      },
      "text/plain": [
       "GPTaskWidget(lsid='urn:lsid:broad.mit.edu:cancer.software.genepattern.module.analysis:00382')"
      ]
     },
     "metadata": {},
     "output_type": "display_data"
    },
    {
     "data": {
      "application/vnd.jupyter.widget-view+json": {
       "model_id": "64a04334e1a54e9dbd88eaf3a46a66f6",
       "version_major": 2,
       "version_minor": 0
      },
      "text/plain": [
       "GPJobWidget(job_number=100296)"
      ]
     },
     "metadata": {},
     "output_type": "display_data"
    }
   ],
   "source": [
    "scanpypreprocess_task = gp.GPTask(genepattern.session.get(0), 'urn:lsid:broad.mit.edu:cancer.software.genepattern.module.analysis:00382')\n",
    "scanpypreprocess_job_spec = scanpypreprocess_task.make_job_spec()\n",
    "scanpypreprocess_job_spec.set_parameter(\"data.file\", \"https://cloud.genepattern.org/gp/jobResults/100233/full_data_annotated.h5ad\")\n",
    "scanpypreprocess_job_spec.set_parameter(\"group.name\", \"GRCh38\")\n",
    "scanpypreprocess_job_spec.set_parameter(\"output.filename\", \"<data.file_basename>\")\n",
    "scanpypreprocess_job_spec.set_parameter(\"annotate\", \"0\")\n",
    "scanpypreprocess_job_spec.set_parameter(\"cells.min.counts\", \"1000\")\n",
    "scanpypreprocess_job_spec.set_parameter(\"cells.max.counts\", \"20000\")\n",
    "scanpypreprocess_job_spec.set_parameter(\"cells.min.genes\", \"500\")\n",
    "scanpypreprocess_job_spec.set_parameter(\"cells.max.genes\", \"\")\n",
    "scanpypreprocess_job_spec.set_parameter(\"genes.min.counts\", \"\")\n",
    "scanpypreprocess_job_spec.set_parameter(\"genes.max.counts\", \"\")\n",
    "scanpypreprocess_job_spec.set_parameter(\"genes.min.cells\", \"20\")\n",
    "scanpypreprocess_job_spec.set_parameter(\"genes.max.cells\", \"\")\n",
    "scanpypreprocess_job_spec.set_parameter(\"batch.correct.and.normalize\", \"False\")\n",
    "scanpypreprocess_job_spec.set_parameter(\"job.memory\", \"16 Gb\")\n",
    "scanpypreprocess_job_spec.set_parameter(\"job.queue\", \"gp-new-beta\")\n",
    "scanpypreprocess_job_spec.set_parameter(\"job.cpuCount\", \"4\")\n",
    "scanpypreprocess_job_spec.set_parameter(\"job.walltime\", \"02:00:00\")\n",
    "genepattern.display(scanpypreprocess_task)\n",
    "\n",
    "job100296 = gp.GPJob(genepattern.session.get(0), 100296)\n",
    "genepattern.display(job100296)"
   ]
  },
  {
   "cell_type": "markdown",
   "metadata": {},
   "source": [
    "Notice that there are two result files from this job, one for the cell filter and one for the gene filter. When running multiple sections of the *ScanpyUtilities* module, there will be a result file for each section. The sections are run in order, so in this case we want to download the gene filter as that will contain the results from both filters."
   ]
  },
  {
   "cell_type": "markdown",
   "metadata": {},
   "source": [
    "<div class=\"alert alert-info\">\n",
    "<b style=\"font-size:120%;\">DownloadJobResultFile</b><br>\n",
    "<b>Job File Url</b> select \"full_data_gene_filter.h5ad\" from the dropdown<br>\n",
    "<b>File Name</b> ica_cord_blood/full_data_filtered.h5ad\n",
    "</div>"
   ]
  },
  {
   "cell_type": "code",
   "execution_count": 36,
   "metadata": {
    "nbtools": {
     "description": "Download file from a GenePattern module job result.",
     "name": "DownloadJobResultFile",
     "param_values": {
      "File_Name": "ica_cord_blood/full_data_filtered.h5ad",
      "Job_File_Url": [
       "https://cloud.genepattern.org/gp/jobResults/100296/full_data_gene_filter.h5ad"
      ],
      "file_name": "ica_cord_blood/full_data_filtered.h5ad",
      "job_file_url": [
       "https://cloud.genepattern.org/gp/jobResults/100296/full_data_gene_filter.h5ad"
      ],
      "output_var": ""
     },
     "show_code": false,
     "type": "uibuilder"
    },
    "scrolled": false
   },
   "outputs": [
    {
     "data": {
      "application/vnd.jupyter.widget-view+json": {
       "model_id": "082aacd13c5e454e97617d94c72c3b93",
       "version_major": 2,
       "version_minor": 0
      },
      "text/plain": [
       "UIBuilder(description='Download file from a GenePattern module job result.', function_import='DownloadJobResul…"
      ]
     },
     "metadata": {},
     "output_type": "display_data"
    }
   ],
   "source": [
    "genepattern.GPUIBuilder(DownloadJobResultFile,\n",
    "                        description=DownloadJobResultFile_description,\n",
    "                        parameters=DownloadJobResultFile_parameters)"
   ]
  },
  {
   "cell_type": "markdown",
   "metadata": {},
   "source": [
    "## Remaining Cells\n",
    "<a href=#Table-of-Contents>back to top</a>  "
   ]
  },
  {
   "cell_type": "markdown",
   "metadata": {},
   "source": [
    "In this section we'll visualize the overall distribution of the remaining cells to see how well the filter worked. First we look at the original data. We make a scatter plot of the number of counts vs the number of genes expressed in each cell. This is informative since we expect a roughly linear trend so outliers will be easy to spot if they lie outside the main group. Interestingly, in the original data is seems like there is an entire sub-population of cells that have a high number of counts relative to how many genes they express. These are likely outliers and should be filtered out for this analysis\n",
    "\n",
    "We also take a look at a violin plot of the number of counts for each cell, grouped by donor. This gives us a rough look at the quality of samples we have from each donor. In this case, there is alot of noise of the quality varies quite a bit between each donor."
   ]
  },
  {
   "cell_type": "markdown",
   "metadata": {},
   "source": [
    "<div class=\"alert alert-info\">\n",
    "<b style=\"font-size:120%;\">CellScatterPlot</b><br>    \n",
    "<b>AnnData File</b> ica_cord_blood/full_data_annotated.h5ad<br>\n",
    "<b>x variable</b> n_counts<br>\n",
    "<b>y variable</b> n_genes<br>\n",
    "</div>"
   ]
  },
  {
   "cell_type": "code",
   "execution_count": 37,
   "metadata": {
    "nbtools": {
     "description": "Create a scatter plot of cell features.",
     "name": "CellScatterPlot",
     "param_values": {
      "AnnData_File": "ica_cord_blood/full_data_annotated.h5ad",
      "File_Name": "ica_cord_blood/full_data_annotated.h5ad",
      "features_or_samples": "samples",
      "lower_bound": "2500",
      "output_var": "",
      "plot_variable": "n_genes",
      "upper_bound": "",
      "which_axis": "samples",
      "x_variable": "n_counts",
      "y_variable": "n_genes"
     },
     "show_code": false,
     "type": "uibuilder"
    },
    "scrolled": true
   },
   "outputs": [
    {
     "data": {
      "application/vnd.jupyter.widget-view+json": {
       "model_id": "63ac69893a184169a4f8b633c825c56b",
       "version_major": 2,
       "version_minor": 0
      },
      "text/plain": [
       "UIBuilder(description='Create a scatter plot of cell features.', function_import='CellScatterPlot', name='Cell…"
      ]
     },
     "metadata": {},
     "output_type": "display_data"
    }
   ],
   "source": [
    "genepattern.GPUIBuilder(CellScatterPlot,\n",
    "                    description=CellScatterPlot_description,\n",
    "                    parameters=CellScatterPlot_parameters)  "
   ]
  },
  {
   "cell_type": "markdown",
   "metadata": {},
   "source": [
    "<div class=\"alert alert-info\">\n",
    "<b style=\"font-size:120%;\">ViolinPlot</b><br>    \n",
    "<b>AnnData File</b> ica_cord_blood/full_data_annotated.h5ad<br>\n",
    "<b>Plot Variable</b> n_counts<br>\n",
    "<b>Group Variable</b> donor\n",
    "</div>"
   ]
  },
  {
   "cell_type": "code",
   "execution_count": 38,
   "metadata": {
    "nbtools": {
     "description": "Create a violin plot from an AnnData object stored in a file.",
     "name": "ViolinPlot",
     "param_values": {
      "AnnData_File": "ica_cord_blood/full_data_annotated.h5ad",
      "File_Name": "ica_cord_blood/full_data_annotated.h5ad",
      "Group_Variable": "donor",
      "Plot_Variable": "n_counts",
      "group_variable": "donor",
      "output_var": "",
      "plot_variable": "n_counts"
     },
     "show_code": false,
     "type": "uibuilder"
    },
    "scrolled": true
   },
   "outputs": [
    {
     "data": {
      "application/vnd.jupyter.widget-view+json": {
       "model_id": "e9cab58e55e441ae8a96484db378888d",
       "version_major": 2,
       "version_minor": 0
      },
      "text/plain": [
       "UIBuilder(description='Create a violin plot from an AnnData object stored in a file.', function_import='Violin…"
      ]
     },
     "metadata": {},
     "output_type": "display_data"
    }
   ],
   "source": [
    "genepattern.GPUIBuilder(ViolinPlot,\n",
    "                    description=ViolinPlot_description,\n",
    "                    parameters=ViolinPlot_parameters)"
   ]
  },
  {
   "cell_type": "markdown",
   "metadata": {},
   "source": [
    "Now we do the same visualizations with the filtered data. We can see the the filters eliminated most of the outlier population in the scatter plot, and drastically smoothed out the distribution of counts for each donor. At this point, we can comfortably proceed on with the analysis."
   ]
  },
  {
   "cell_type": "markdown",
   "metadata": {},
   "source": [
    "<div class=\"alert alert-info\">\n",
    "<b style=\"font-size:120%;\">CellScatterPlot</b><br>    \n",
    "<b>AnnData File</b> ica_cord_blood/full_data_filtered.h5ad<br>\n",
    "<b>x variable</b> n_counts<br>\n",
    "<b>y variable</b> n_genes<br>\n",
    "</div>"
   ]
  },
  {
   "cell_type": "code",
   "execution_count": 39,
   "metadata": {
    "nbtools": {
     "description": "Create a scatter plot of cell features.",
     "name": "CellScatterPlot",
     "param_values": {
      "AnnData_File": "ica_cord_blood/full_data_filtered.h5ad",
      "File_Name": "ica_cord_blood/full_data_filtered.h5ad",
      "features_or_samples": "samples",
      "lower_bound": "2500",
      "output_var": "",
      "plot_variable": "n_genes",
      "upper_bound": "",
      "which_axis": "samples",
      "x_variable": "n_counts",
      "y_variable": "n_genes"
     },
     "show_code": false,
     "type": "uibuilder"
    },
    "scrolled": true
   },
   "outputs": [
    {
     "data": {
      "application/vnd.jupyter.widget-view+json": {
       "model_id": "4abecf970ded4b40b28245822886b841",
       "version_major": 2,
       "version_minor": 0
      },
      "text/plain": [
       "UIBuilder(description='Create a scatter plot of cell features.', function_import='CellScatterPlot', name='Cell…"
      ]
     },
     "metadata": {},
     "output_type": "display_data"
    }
   ],
   "source": [
    "genepattern.GPUIBuilder(CellScatterPlot,\n",
    "                    description=CellScatterPlot_description,\n",
    "                    parameters=CellScatterPlot_parameters)"
   ]
  },
  {
   "cell_type": "markdown",
   "metadata": {},
   "source": [
    "<div class=\"alert alert-info\">\n",
    "<b style=\"font-size:120%;\">ViolinPlot</b><br>    \n",
    "<b>AnnData File</b> ica_cord_blood/full_data_filtered.h5ad<br>\n",
    "<b>Plot Variable</b> n_counts<br>\n",
    "<b>Group Variable</b> donor\n",
    "</div>"
   ]
  },
  {
   "cell_type": "code",
   "execution_count": 40,
   "metadata": {
    "nbtools": {
     "description": "Create a violin plot from an AnnData object stored in a file.",
     "name": "ViolinPlot",
     "param_values": {
      "AnnData_File": "ica_cord_blood/full_data_filtered.h5ad",
      "File_Name": "ica_cord_blood/full_data_filtered.h5ad",
      "Group_Variable": "donor",
      "Plot_Variable": "n_counts",
      "group_variable": "donor",
      "output_var": "",
      "plot_variable": "n_counts"
     },
     "show_code": false,
     "type": "uibuilder"
    },
    "scrolled": true
   },
   "outputs": [
    {
     "data": {
      "application/vnd.jupyter.widget-view+json": {
       "model_id": "2dcd75a8f2b448a68cdb0dcbf7ba98a1",
       "version_major": 2,
       "version_minor": 0
      },
      "text/plain": [
       "UIBuilder(description='Create a violin plot from an AnnData object stored in a file.', function_import='Violin…"
      ]
     },
     "metadata": {},
     "output_type": "display_data"
    }
   ],
   "source": [
    "genepattern.GPUIBuilder(ViolinPlot,\n",
    "                    description=ViolinPlot_description,\n",
    "                    parameters=ViolinPlot_parameters)"
   ]
  },
  {
   "cell_type": "markdown",
   "metadata": {},
   "source": [
    "## Subset Data for Further Analysis\n",
    "<a href=#Table-of-Contents>back to top</a>"
   ]
  },
  {
   "cell_type": "markdown",
   "metadata": {},
   "source": [
    "At this point, we've filtered our data down to about 250,000 cells and 20,000 genes. However the 250,000 cells come from 8 donors. It is reasonable to expect a significant batch effect from these 8 donors and there are several methods for accounting for this. In this version of the notebook however, accounting for batch effects is considered out of scope. We will continue the analysis by selecting a single donor to analyze, and in future versions of the notebook we will discuss strategies for dealing with batch effects. In this section we subset down to donor 5, which has the most remaining cells after the filtering stage. Since this will remove so many cells, it is possible that some of the genes will now have zero expression and so we must do another round of gene filtering. This is done automatically in the \"SubsetData\" cell."
   ]
  },
  {
   "cell_type": "markdown",
   "metadata": {},
   "source": [
    "<div class=\"alert alert-info\">\n",
    "<b style=\"font-size:120%;\">CountCellByGroup</b><br>    \n",
    "<b>AnnData File</b> ica_cord_blood/full_data_filtered.h5ad<br>\n",
    "<b>Group Variable</b> donor<br>\n",
    "</div>"
   ]
  },
  {
   "cell_type": "code",
   "execution_count": 41,
   "metadata": {
    "nbtools": {
     "description": "Get cell counts split by group.",
     "name": "CountCellsByGroup",
     "param_values": {
      "AnnData_File": "ica_cord_blood/full_data_filtered.h5ad",
      "File_Name": "ica_cord_blood/full_data_filtered.h5ad",
      "Group_Variable": "donor",
      "data_file": "ica_cord_blood/full_data_filtered.h5ad",
      "group_variable": "donor",
      "output_var": ""
     },
     "show_code": false,
     "type": "uibuilder"
    },
    "scrolled": true
   },
   "outputs": [
    {
     "data": {
      "application/vnd.jupyter.widget-view+json": {
       "model_id": "14ddaaf77cbe4a6cad7b6fb1533fd8af",
       "version_major": 2,
       "version_minor": 0
      },
      "text/plain": [
       "UIBuilder(description='Get cell counts split by group.', function_import='CountCellsByGroup', name='CountCells…"
      ]
     },
     "metadata": {},
     "output_type": "display_data"
    }
   ],
   "source": [
    "genepattern.GPUIBuilder(CountCellsByGroup,\n",
    "                    description=CountCellsByGroup_description,\n",
    "                    parameters=CountCellsByGroup_parmeters)"
   ]
  },
  {
   "cell_type": "markdown",
   "metadata": {},
   "source": [
    "<div class=\"alert alert-info\">\n",
    "<b style=\"font-size:120%;\">SubsetData</b><br>    \n",
    "<b>AnnData File</b> ica_cord_blood/full_data_filtered.h5ad<br>\n",
    "<b>Output File</b> ica_cord_blood/donor_5_filtered.h5ad<br>\n",
    "<b>Group Variable</b> donor<br>\n",
    "<b>Group Value</b> 5\n",
    "</div>"
   ]
  },
  {
   "cell_type": "code",
   "execution_count": 42,
   "metadata": {
    "nbtools": {
     "description": "Subset a data set to only cells of a certain group.",
     "name": "SubsetData",
     "param_values": {
      "AnnData_File": "ica_cord_blood/full_data_filtered.h5ad",
      "File_Name": "ica_cord_blood/full_data_filtered.h5ad",
      "Group_Value": "5",
      "Group_Variable": "donor",
      "Output_File": "ica_cord_blood/donor_5_filtered.h5ad",
      "data_file": "ica_cord_blood/full_data_filtered.h5ad",
      "group_value": "5",
      "group_variable": "donor",
      "output_file_name": "ica_cord_blood/donor_5_filtered.h5ad",
      "output_var": ""
     },
     "show_code": false,
     "type": "uibuilder"
    },
    "scrolled": true
   },
   "outputs": [
    {
     "data": {
      "application/vnd.jupyter.widget-view+json": {
       "model_id": "a034abec0eac41088f66fe50bdaaea3f",
       "version_major": 2,
       "version_minor": 0
      },
      "text/plain": [
       "UIBuilder(description='Subset a data set to only cells of a certain group.', function_import='SubsetData', nam…"
      ]
     },
     "metadata": {},
     "output_type": "display_data"
    }
   ],
   "source": [
    "genepattern.GPUIBuilder(SubsetData,\n",
    "                    description=SubsetData_description,\n",
    "                    parameters=SubsetData_parameters)"
   ]
  },
  {
   "cell_type": "markdown",
   "metadata": {},
   "source": [
    "# Cell Type Identification\n",
    "<a href=#Table-of-Contents>back to top</a>  "
   ]
  },
  {
   "cell_type": "markdown",
   "metadata": {},
   "source": [
    "In this section, we walk through a cell type identification workflow which is a key part of any single-cell analysis. Typically cell types are identified by running a clustering algorithm, and then selecting a handful of marker genes from the literature and seeing if they are differentially expressed across clusters. Often, this is done by hand, examining the genes uniquely expressed in each cluster. Recently, however, there have been several tools published to automate this process. The R package **garnett**, which comes from the same developers as **monocle**, is one such tool.\n",
    "\n",
    "**garnett** works by training a classifier based on an input data set and a set of marker genes. In order to train a classifier, we first need to generate a marker file. The marker file contains a list of cell type definitions in text format. Each cell type definition starts with a `>` symbol and the cell type name, followed by definition lines. These definition lines begin with a keyword and a `:`. Keywords include `Expressed` and `Not expressed` followed by the relevant expression information for each cell type. Genes listed within the definition are separated by a comma. In our marker file we define several major immune cell types along with major subtype classifications. For more information about the **garnett** workflow, refer to the [documentation](https://cole-trapnell-lab.github.io/garnett/docs/).\n",
    "\n",
    "Once we have the marker file generated we can use the *ScanpyUtilities* module to run the **garnett** pipeline. The module will add an additional `cell_type` annotation to our \".h5ad\" file. We must pass the marker file and a gene annotation database. This can be either \"org.Hs.eg.db\" (docs [here](https://bioconductor.org/packages/release/data/annotation/html/org.Hs.eg.db.html)) or \"org.Mm.eg.db\" (docs [here](https://bioconductor.org/packages/release/data/annotation/html/org.Mm.eg.db.html)). This annotation database allows **garnett** to convert the gene names we've provided in the marker file to the gene ids we've used as the index in our data. It is also important to note that we must run **garnett** before the data has been normalized. "
   ]
  },
  {
   "cell_type": "code",
   "execution_count": 109,
   "metadata": {},
   "outputs": [],
   "source": [
    "## This is one way to create a text variable that we can pass to the GenerateTextFile cell.\n",
    "## marker_file_text is the name of the variable we are creating, and everything inside the \n",
    "## triple quotes we be stored as the text\n",
    "\n",
    "marker_file_text = \"\"\"\n",
    ">B cells\n",
    "expressed: CD19, CD38, CD24, CD34\n",
    "\n",
    ">T cells\n",
    "expressed: CD3D, CD3E, CD3G\n",
    "\n",
    ">CD4 T cells\n",
    "expressed: CD4, FOXP3, IL2RA, IL7R\n",
    "subtype of: T cells\n",
    "\n",
    ">CD8 T cells\n",
    "expressed: CD8A, CD8B\n",
    "subtype of: T cells\n",
    "\n",
    ">Neutrophils\n",
    "expressed: ITGAM, FCGR3A, ITGB2, FCGR2A, CD44, CD55 \n",
    "\n",
    ">NK cells\n",
    "expressed: NCAM1, FCGR3A, NCR1, KLRK1, NKG7\n",
    "\n",
    ">DCs\n",
    "expressed: CD1C, CLEC6A, CLEC7A\n",
    "\n",
    ">pDCs\n",
    "expressed: CLEC4C, NRP1, IL3RA\n",
    "subtype of: DCs\n",
    "\n",
    ">monocytes/macrophages\n",
    "expressed: ITGAM, CD163, CD33, ITGAX, CD14\n",
    "\"\"\""
   ]
  },
  {
   "cell_type": "markdown",
   "metadata": {},
   "source": [
    "<div class=\"alert alert-info\">\n",
    "<b style=\"font-size:120%;\">GenerateTextFile</b><br>    \n",
    "<b>Text</b> marker_file_text<br>\n",
    "<b>File Name</b> ica_cord_blood/markers.txt<br>\n",
    "</div>"
   ]
  },
  {
   "cell_type": "code",
   "execution_count": 43,
   "metadata": {
    "nbtools": {
     "description": "Create a text file.",
     "name": "GenerateTextFile",
     "param_values": {
      "File_Name": "ica_cord_blood/markers.txt",
      "Text": "marker_file_text",
      "file_name": "ica_cord_blood/markers.txt",
      "output_var": "",
      "text": "marker_file_text"
     },
     "show_code": false,
     "type": "uibuilder"
    }
   },
   "outputs": [
    {
     "data": {
      "application/vnd.jupyter.widget-view+json": {
       "model_id": "6f934da2c519454fa985ca4373392e9c",
       "version_major": 2,
       "version_minor": 0
      },
      "text/plain": [
       "UIBuilder(description='Create a text file.', function_import='GenerateTextFile', name='GenerateTextFile', para…"
      ]
     },
     "metadata": {},
     "output_type": "display_data"
    }
   ],
   "source": [
    "genepattern.GPUIBuilder(GenerateTextFile,\n",
    "                    description=GenerateTextFile_description,\n",
    "                    parameters=GenerateTextFile_parameters)"
   ]
  },
  {
   "cell_type": "markdown",
   "metadata": {},
   "source": [
    "<div class=\"alert alert-info\">\n",
    "<b style=\"font-size:120%;\">UploadFileToGenePatternServer</b><br>    \n",
    "<b>Local File</b> ica_cord_blood/donor_5_filtered.h5ad<br>\n",
    "<b>Remote File Name</b> ica_cord_blood_donor_5_filtered.h5ad<br>\n",
    "<b>variable name for url</b> data_url\n",
    "</div>"
   ]
  },
  {
   "cell_type": "code",
   "execution_count": 44,
   "metadata": {
    "nbtools": {
     "description": "Upload the local file onto the GenePattern server.",
     "name": "UploadFileToGenePatternServer",
     "param_values": {
      "Local_File": "ica_cord_blood/donor_5_filtered.h5ad",
      "Remote_File_Name": "ica_cord_blood_donor_5_filtered.h5ad",
      "local_file": "",
      "output_var": "",
      "remote_file_name": ""
     },
     "show_code": false,
     "type": "uibuilder"
    },
    "scrolled": true
   },
   "outputs": [
    {
     "data": {
      "application/vnd.jupyter.widget-view+json": {
       "model_id": "fd0039e1de6b4bb0a057ec8a231ef91b",
       "version_major": 2,
       "version_minor": 0
      },
      "text/plain": [
       "UIBuilder(description='Upload the local file onto the GenePattern server.', function_import='UploadFileToGeneP…"
      ]
     },
     "metadata": {},
     "output_type": "display_data"
    }
   ],
   "source": [
    "genepattern.GPUIBuilder(UploadFileToGenePatternServer,\n",
    "                        description=UploadFileToGenePatternServer_description,\n",
    "                        parameters=UploadFileToGenePatternServer_parameters)"
   ]
  },
  {
   "cell_type": "markdown",
   "metadata": {},
   "source": [
    "<div class=\"alert alert-info\">\n",
    "<b style=\"font-size:120%;\">UploadFileToGenePatternServer</b><br>    \n",
    "<b>Local File</b> ica_cord_blood/markers.txt<br>\n",
    "<b>Remote File Name</b> ica_cord_blood_markers.txt<br>\n",
    "<b>variable name for url</b> markers_url\n",
    "</div>"
   ]
  },
  {
   "cell_type": "code",
   "execution_count": 45,
   "metadata": {
    "nbtools": {
     "description": "Upload the local file onto the GenePattern server.",
     "name": "UploadFileToGenePatternServer",
     "param_values": {
      "Local_File": "ica_cord_blood/markers.txt",
      "Remote_File_Name": "ica_cord_blood_markers.txt",
      "local_file": "ica_cord_blood/markers.txt",
      "output_var": "",
      "remote_file_name": "ica_cord_blood_markers.txt"
     },
     "show_code": false,
     "type": "uibuilder"
    },
    "scrolled": false
   },
   "outputs": [
    {
     "data": {
      "application/vnd.jupyter.widget-view+json": {
       "model_id": "2372bdc1215a40b0818fb24b49958b63",
       "version_major": 2,
       "version_minor": 0
      },
      "text/plain": [
       "UIBuilder(description='Upload the local file onto the GenePattern server.', function_import='UploadFileToGeneP…"
      ]
     },
     "metadata": {},
     "output_type": "display_data"
    }
   ],
   "source": [
    "genepattern.GPUIBuilder(UploadFileToGenePatternServer,\n",
    "                        description=UploadFileToGenePatternServer_description,\n",
    "                        parameters=UploadFileToGenePatternServer_parameters)"
   ]
  },
  {
   "cell_type": "markdown",
   "metadata": {},
   "source": [
    "<div class=\"alert alert-info\">\n",
    "<h3 style=\"margin-top: 0;\"> ScanpyUtilities Module Instructions - Cell Type Identification<i class=\"fa fa-info-circle\"></i></h3>\n",
    "<ol>\n",
    "    <li>Under \"Input and Output\" set <b>data file</b> to \"{{ data_url }}\"</li>\n",
    "    <li>Under \"Input and Output\" set <b>output basename</b> to \"donor_5\"</li>\n",
    "    <li>Under \"Cell Type Identification\" set <b>cell type marker file</b> to \"{{ markers_url }}\"</li>\n",
    "    <li>Under \"Cell Type Identification\" set <b>gene annotation database</b> to \"org.Hs.eg.db\"</li>\n",
    "    <li>Everything else should be set to it's default (either blank or \"no\")</li>\n",
    "</ol>\n",
    "Note: do not include the quotes when setting parameters\n",
    "</div>"
   ]
  },
  {
   "cell_type": "code",
   "execution_count": 5,
   "metadata": {
    "genepattern": {
     "description": "Scanpy preprocessing of an h5 single cell RNASeq dataset",
     "name": "ScanpyUtilities",
     "param_values": {
      "annotate": null,
      "cell.type.marker.file": null,
      "cells.max.counts": null,
      "cells.max.genes": null,
      "cells.min.counts": null,
      "cells.min.genes": null,
      "compute.tsne": null,
      "compute.umap": null,
      "data.file": null,
      "gene.annotation.database": null,
      "genes.max.cells": null,
      "genes.max.counts": null,
      "genes.min.cells": null,
      "genes.min.counts": null,
      "genome": null,
      "job.cpuCount": null,
      "job.memory": null,
      "job.queue": null,
      "job.walltime": null,
      "n.high.variance.genes": null,
      "normalize": null,
      "output.basename": null
     },
     "type": "task"
    },
    "scrolled": false
   },
   "outputs": [
    {
     "data": {
      "application/vnd.jupyter.widget-view+json": {
       "model_id": "66286e40df654791a462c21daf0a376f",
       "version_major": 2,
       "version_minor": 0
      },
      "text/plain": [
       "GPTaskWidget(lsid='urn:lsid:broad.mit.edu:cancer.software.genepattern.module.analysis:00382')"
      ]
     },
     "metadata": {},
     "output_type": "display_data"
    },
    {
     "data": {
      "application/vnd.jupyter.widget-view+json": {
       "model_id": "747743a6cf9f4fc48830da8629154521",
       "version_major": 2,
       "version_minor": 0
      },
      "text/plain": [
       "GPJobWidget(job_number=99227)"
      ]
     },
     "metadata": {},
     "output_type": "display_data"
    }
   ],
   "source": [
    "scanpyutilities_task = gp.GPTask(genepattern.session.get(0), 'urn:lsid:broad.mit.edu:cancer.software.genepattern.module.analysis:00382')\n",
    "scanpyutilities_job_spec = scanpyutilities_task.make_job_spec()\n",
    "scanpyutilities_job_spec.set_parameter(\"data.file\", \"{{ data_url }}\")\n",
    "scanpyutilities_job_spec.set_parameter(\"output.basename\", \"donor_5\")\n",
    "scanpyutilities_job_spec.set_parameter(\"annotate\", \"0\")\n",
    "scanpyutilities_job_spec.set_parameter(\"cells.min.counts\", \"\")\n",
    "scanpyutilities_job_spec.set_parameter(\"cells.max.counts\", \"\")\n",
    "scanpyutilities_job_spec.set_parameter(\"cells.min.genes\", \"\")\n",
    "scanpyutilities_job_spec.set_parameter(\"cells.max.genes\", \"\")\n",
    "scanpyutilities_job_spec.set_parameter(\"genes.min.counts\", \"\")\n",
    "scanpyutilities_job_spec.set_parameter(\"genes.max.counts\", \"\")\n",
    "scanpyutilities_job_spec.set_parameter(\"genes.min.cells\", \"\")\n",
    "scanpyutilities_job_spec.set_parameter(\"genes.max.cells\", \"\")\n",
    "scanpyutilities_job_spec.set_parameter(\"cell.type.marker.file\", \"{{ markers_url }}\")\n",
    "scanpyutilities_job_spec.set_parameter(\"normalize\", \"0\")\n",
    "scanpyutilities_job_spec.set_parameter(\"n.high.variance.genes\", \"\")\n",
    "scanpyutilities_job_spec.set_parameter(\"compute.umap\", \"0\")\n",
    "scanpyutilities_job_spec.set_parameter(\"compute.tsne\", \"0\")\n",
    "scanpyutilities_job_spec.set_parameter(\"genome\", \"\")\n",
    "scanpyutilities_job_spec.set_parameter(\"gene.annotation.database\", \"org.Hs.eg.db\")\n",
    "scanpyutilities_job_spec.set_parameter(\"job.memory\", \"32 Gb\")\n",
    "scanpyutilities_job_spec.set_parameter(\"job.walltime\", \"02:00:00\")\n",
    "scanpyutilities_job_spec.set_parameter(\"job.cpuCount\", \"4\")\n",
    "genepattern.display(scanpyutilities_task)\n",
    "\n",
    "job99227 = gp.GPJob(genepattern.session.get(0), 99227)\n",
    "genepattern.display(job99227)"
   ]
  },
  {
   "cell_type": "markdown",
   "metadata": {},
   "source": [
    "# Final Pre-Processing Steps\n",
    "<a href=#Table-of-Contents>back to top</a>  "
   ]
  },
  {
   "cell_type": "markdown",
   "metadata": {},
   "source": [
    "Now that we have labeled the cell types with **garnett** there are just a few more preprocessing steps we need to do before running the **CoGAPS** analysis. The **CoGAPS** R package expects the data to be log normalized and also to have undergone library size normalization. Furthermore, we need to subset down to a set of highly variable genes to improve the run time of **CoGAPS**. Finally, we will want to compute the UMAP and TSNE coordinates of our data for visualizing our results.\n",
    "\n",
    "Each of these steps can be handled completely by the *ScanpyUtilities* module. When passing parameters for multiple sections in the module, the sections are run in the order they appear in the interface. In this case, the order will be 1) normalization 2) high variance genes 3) UMAP and TSNE calculations. After each of these sections the module will write the output to a file so we can inspect the intermediate results."
   ]
  },
  {
   "cell_type": "markdown",
   "metadata": {},
   "source": [
    "<div class=\"alert alert-info\">\n",
    "<h3 style=\"margin-top: 0;\"> ScanpyUtilities Module Instructions - Final Pre-Processing Steps<i class=\"fa fa-info-circle\"></i></h3>\n",
    "<ol>\n",
    "    <li>Under \"Input and Output\" select \"donor_5_cell_types\" from the <b>data file</b> dropdown </li>\n",
    "    <li>Under \"Input and Output\" set <b>output basename</b> to \"donor_5\"</li>\n",
    "    <li>Under \"Normalization\" set <b>normalize</b> to \"yes\"</li>\n",
    "    <li>Under \"High Variance Genes\" set <b>n high variance genes</b> to \"3000\"</li>\n",
    "    <li>Under \"Dimension Reduction\" set <b>compute umap</b> to \"yes\"</li>\n",
    "    <li>Under \"Dimension Reduction\" set <b>compute tsne</b> to \"yes\"</li>\n",
    "    <li>Everything else should be set to it's default (either blank or \"no\")</li>\n",
    "</ol>\n",
    "Note: do not include the quotes when setting parameters\n",
    "</div>"
   ]
  },
  {
   "cell_type": "code",
   "execution_count": 6,
   "metadata": {
    "genepattern": {
     "description": "Scanpy preprocessing of an h5 single cell RNASeq dataset",
     "name": "ScanpyPreprocess",
     "param_values": {
      "annotate": null,
      "cell.type.marker.file": null,
      "cells.max.counts": null,
      "cells.max.genes": null,
      "cells.min.counts": null,
      "cells.min.genes": null,
      "compute.tsne": null,
      "compute.umap": null,
      "data.file": null,
      "gene.annotation.database": null,
      "genes.max.cells": null,
      "genes.max.counts": null,
      "genes.min.cells": null,
      "genes.min.counts": null,
      "genome": null,
      "job.cpuCount": null,
      "job.memory": null,
      "job.queue": null,
      "job.walltime": null,
      "n.high.variance.genes": null,
      "normalize": null,
      "output.basename": null
     },
     "type": "task"
    },
    "scrolled": false
   },
   "outputs": [
    {
     "data": {
      "application/vnd.jupyter.widget-view+json": {
       "model_id": "9e51ca9ee5c24221abccf882f7f8758a",
       "version_major": 2,
       "version_minor": 0
      },
      "text/plain": [
       "GPTaskWidget(lsid='urn:lsid:broad.mit.edu:cancer.software.genepattern.module.analysis:00382')"
      ]
     },
     "metadata": {},
     "output_type": "display_data"
    },
    {
     "data": {
      "application/vnd.jupyter.widget-view+json": {
       "model_id": "f9558fb3e7c4460a8ea702928c11c568",
       "version_major": 2,
       "version_minor": 0
      },
      "text/plain": [
       "GPJobWidget(job_number=99247)"
      ]
     },
     "metadata": {},
     "output_type": "display_data"
    }
   ],
   "source": [
    "scanpypreprocess_task = gp.GPTask(genepattern.session.get(0), 'urn:lsid:broad.mit.edu:cancer.software.genepattern.module.analysis:00382')\n",
    "scanpypreprocess_job_spec = scanpypreprocess_task.make_job_spec()\n",
    "scanpypreprocess_job_spec.set_parameter(\"data.file\", \"https://cloud.genepattern.org/gp/jobResults/99227/donor_5_cell_types.h5ad\")\n",
    "scanpypreprocess_job_spec.set_parameter(\"output.basename\", \"donor_5\")\n",
    "scanpypreprocess_job_spec.set_parameter(\"annotate\", \"0\")\n",
    "scanpypreprocess_job_spec.set_parameter(\"cells.min.counts\", \"\")\n",
    "scanpypreprocess_job_spec.set_parameter(\"cells.max.counts\", \"\")\n",
    "scanpypreprocess_job_spec.set_parameter(\"cells.min.genes\", \"\")\n",
    "scanpypreprocess_job_spec.set_parameter(\"cells.max.genes\", \"\")\n",
    "scanpypreprocess_job_spec.set_parameter(\"genes.min.counts\", \"\")\n",
    "scanpypreprocess_job_spec.set_parameter(\"genes.max.counts\", \"\")\n",
    "scanpypreprocess_job_spec.set_parameter(\"genes.min.cells\", \"\")\n",
    "scanpypreprocess_job_spec.set_parameter(\"genes.max.cells\", \"\")\n",
    "scanpypreprocess_job_spec.set_parameter(\"normalize\", \"1\")\n",
    "scanpypreprocess_job_spec.set_parameter(\"n.high.variance.genes\", \"3000\")\n",
    "scanpypreprocess_job_spec.set_parameter(\"compute.umap\", \"1\")\n",
    "scanpypreprocess_job_spec.set_parameter(\"compute.tsne\", \"1\")\n",
    "scanpypreprocess_job_spec.set_parameter(\"genome\", \"\")\n",
    "scanpypreprocess_job_spec.set_parameter(\"job.memory\", \"64Gb\")\n",
    "scanpypreprocess_job_spec.set_parameter(\"job.queue\", \"gpbeta-default\")\n",
    "scanpypreprocess_job_spec.set_parameter(\"job.cpuCount\", \"4\")\n",
    "scanpypreprocess_job_spec.set_parameter(\"job.walltime\", \"04:00:00\")\n",
    "genepattern.display(scanpypreprocess_task)\n",
    "\n",
    "job99247 = gp.GPJob(genepattern.session.get(0), 99247)\n",
    "genepattern.display(job99247)"
   ]
  },
  {
   "cell_type": "markdown",
   "metadata": {},
   "source": [
    "As you can see there are two files returned after subsetting the highly variable genes. One is the full data set with the highly variable genes labeled, and the other is just the highly variable subset. When running multiple sections, this is the file that gets passed downstream. So, \"donor_5_dim_reduce.h5ad\" will be a small file with just the highly variable genes and the UMAP and TSNE coordinates already computed. This is the file we want to work with going forward and we will offically consider the pre-processing phase completed."
   ]
  },
  {
   "cell_type": "markdown",
   "metadata": {},
   "source": [
    "<div class=\"alert alert-info\">\n",
    "<b style=\"font-size:120%;\">DownloadJobResultFile</b><br>\n",
    "<b>Job File Url</b> select \"donor_5_dim_reduce.h5ad\" from the dropdown meny<br>\n",
    "<b>File Name</b> ica_cord_blood/donor_5_preprocessed.h5ad<br>\n",
    "</div>"
   ]
  },
  {
   "cell_type": "code",
   "execution_count": 46,
   "metadata": {
    "nbtools": {
     "description": "Download file from a GenePattern module job result.",
     "name": "DownloadJobResultFile",
     "param_values": {
      "File_Name": "ica_cord_blood/donor_5_preprocessed.h5ad",
      "Job_File_Url": [
       "https://cloud.genepattern.org/gp/jobResults/99247/donor_5_dim_reduce.h5ad"
      ],
      "file_name": "ica_cord_blood/donor_5_preprocessed.h5ad",
      "job_file_url": [
       "https://cloud.genepattern.org/gp/jobResults/99247/donor_5_dim_reduce.h5ad"
      ],
      "output_var": ""
     },
     "show_code": false,
     "type": "uibuilder"
    },
    "scrolled": true
   },
   "outputs": [
    {
     "data": {
      "application/vnd.jupyter.widget-view+json": {
       "model_id": "1308142a089d470c83bf9b6e5e3cb8bb",
       "version_major": 2,
       "version_minor": 0
      },
      "text/plain": [
       "UIBuilder(description='Download file from a GenePattern module job result.', function_import='DownloadJobResul…"
      ]
     },
     "metadata": {},
     "output_type": "display_data"
    }
   ],
   "source": [
    "genepattern.GPUIBuilder(DownloadJobResultFile,\n",
    "                        description=DownloadJobResultFile_description,\n",
    "                        parameters=DownloadJobResultFile_parameters)"
   ]
  },
  {
   "cell_type": "markdown",
   "metadata": {},
   "source": [
    "# Visualization\n",
    "<a href=#Table-of-Contents>back to top</a>  "
   ]
  },
  {
   "cell_type": "markdown",
   "metadata": {},
   "source": [
    "In this section we will be taking a preliminary look at the data now that we have the UMAP and T-SNE coordinates of the data. We can clearly see that there is separation between the different 10x channels and that some cell types are separated. However, these methods are primarily for visualization and more analytical methods are needed before we can make any claims. In the next section we explore a matrix factorization algorithm, **CoGAPS**, which helps identify the underlying biological processes which drive the signal in the data."
   ]
  },
  {
   "cell_type": "markdown",
   "metadata": {},
   "source": [
    "<div class=\"alert alert-info\">\n",
    "<b style=\"font-size:120%;\">TsnePlot</b><br>\n",
    "<b>AnnData File Url</b> ica_cord_blood/donor_5_preprocessed.h5ad<br>\n",
    "<b>Variable</b>channl<br>\n",
    "<b>Variable Subset</b> --leave blank--<br>\n",
    "</div>"
   ]
  },
  {
   "cell_type": "code",
   "execution_count": 47,
   "metadata": {
    "nbtools": {
     "description": "Create a t-sne plot of an AnnData object.",
     "name": "TsnePlot",
     "param_values": {
      "AnnData_File": "ica_cord_blood/donor_5_preprocessed.h5ad",
      "File_Name": "ica_cord_blood/donor_5_preprocessed.h5ad",
      "Variable": "channel",
      "Variable_Subset": "",
      "output_var": "",
      "plot_variable": "channel",
      "variable": "channel",
      "variable_subset": "1,2,3,4"
     },
     "show_code": false,
     "type": "uibuilder"
    }
   },
   "outputs": [
    {
     "data": {
      "application/vnd.jupyter.widget-view+json": {
       "model_id": "2c8cec5e24594515865598eed51c0710",
       "version_major": 2,
       "version_minor": 0
      },
      "text/plain": [
       "UIBuilder(description='Create a t-sne plot of an AnnData object.', function_import='TsnePlot', name='TsnePlot'…"
      ]
     },
     "metadata": {},
     "output_type": "display_data"
    }
   ],
   "source": [
    "genepattern.GPUIBuilder(TsnePlot,\n",
    "                    description=TsnePlot_description,\n",
    "                    parameters=TsnePlot_parameters)"
   ]
  },
  {
   "cell_type": "markdown",
   "metadata": {},
   "source": [
    "<div class=\"alert alert-info\">\n",
    "<b style=\"font-size:120%;\">TsnePlot</b><br>\n",
    "<b>AnnData File Url</b> ica_cord_blood/donor_5_preprocessed.h5ad<br>\n",
    "<b>Variable</b> channel<br>\n",
    "<b>Variable Subset</b> 1,2,3,4<br>\n",
    "</div>"
   ]
  },
  {
   "cell_type": "code",
   "execution_count": 48,
   "metadata": {
    "nbtools": {
     "description": "Create a t-sne plot of an AnnData object.",
     "name": "TsnePlot",
     "param_values": {
      "AnnData_File": "ica_cord_blood/donor_5_preprocessed.h5ad",
      "File_Name": "ica_cord_blood/donor_5_preprocessed.h5ad",
      "Variable": "channel",
      "Variable_Subset": "1,2,3,4",
      "output_var": "",
      "plot_variable": "channel",
      "variable": "channel",
      "variable_subset": "1,2,3,4"
     },
     "show_code": false,
     "type": "uibuilder"
    }
   },
   "outputs": [
    {
     "data": {
      "application/vnd.jupyter.widget-view+json": {
       "model_id": "0553ab5945064afaaeaffe66f3fa5566",
       "version_major": 2,
       "version_minor": 0
      },
      "text/plain": [
       "UIBuilder(description='Create a t-sne plot of an AnnData object.', function_import='TsnePlot', name='TsnePlot'…"
      ]
     },
     "metadata": {},
     "output_type": "display_data"
    }
   ],
   "source": [
    "genepattern.GPUIBuilder(TsnePlot,\n",
    "                    description=TsnePlot_description,\n",
    "                    parameters=TsnePlot_parameters)"
   ]
  },
  {
   "cell_type": "markdown",
   "metadata": {},
   "source": [
    "<div class=\"alert alert-info\">\n",
    "<b style=\"font-size:120%;\">TsnePlot</b><br>\n",
    "<b>AnnData File Url</b> ica_cord_blood/donor_5_preprocessed.h5ad<br>\n",
    "<b>Variable</b> channel<br>\n",
    "<b>Variable Subset</b> 5,6,7,8<br>\n",
    "</div>"
   ]
  },
  {
   "cell_type": "code",
   "execution_count": 49,
   "metadata": {
    "nbtools": {
     "description": "Create a t-sne plot of an AnnData object.",
     "name": "TsnePlot",
     "param_values": {
      "AnnData_File": "ica_cord_blood/donor_5_preprocessed.h5ad",
      "File_Name": "ica_cord_blood/donor_5_preprocessed.h5ad",
      "Variable": "channel",
      "Variable_Subset": "5,6,7,8",
      "output_var": "",
      "plot_variable": "channel",
      "variable": "channel",
      "variable_subset": "5,6,7,8"
     },
     "show_code": false,
     "type": "uibuilder"
    }
   },
   "outputs": [
    {
     "data": {
      "application/vnd.jupyter.widget-view+json": {
       "model_id": "c9f43ba6037b423f8c4d0f700b5db2c8",
       "version_major": 2,
       "version_minor": 0
      },
      "text/plain": [
       "UIBuilder(description='Create a t-sne plot of an AnnData object.', function_import='TsnePlot', name='TsnePlot'…"
      ]
     },
     "metadata": {},
     "output_type": "display_data"
    }
   ],
   "source": [
    "genepattern.GPUIBuilder(TsnePlot,\n",
    "                    description=TsnePlot_description,\n",
    "                    parameters=TsnePlot_parameters)"
   ]
  },
  {
   "cell_type": "markdown",
   "metadata": {},
   "source": [
    "We can also see how well UMAP and T-SNE visualizations can separate cell type."
   ]
  },
  {
   "cell_type": "markdown",
   "metadata": {},
   "source": [
    "<div class=\"alert alert-info\">\n",
    "<b style=\"font-size:120%;\">TsnePlot</b><br>\n",
    "<b>AnnData File Url</b> ica_cord_blood/donor_5_preprocessed.h5ad<br>\n",
    "<b>Variable</b> cell_type<br>\n",
    "<b>Variable Subset</b> B cells, CD4 T cells, CD8 T cells, DCs, NK cells, Neutrophils, T cells, monocytes/macrophages, pDCs<br>\n",
    "</div>"
   ]
  },
  {
   "cell_type": "code",
   "execution_count": 50,
   "metadata": {
    "nbtools": {
     "description": "Create a t-sne plot of an AnnData object.",
     "name": "TsnePlot",
     "param_values": {
      "AnnData_File": "ica_cord_blood/donor_5_preprocessed.h5ad",
      "File_Name": "ica_cord_blood/donor_5_preprocessed.h5ad",
      "Variable": "cell_type",
      "Variable_Subset": "B cells, CD4 T cells, CD8 T cells, DCs, NK cells, Neutrophils, T cells, monocytes/macrophages, pDCs",
      "output_var": "",
      "plot_variable": "channel",
      "variable": "channel",
      "variable_subset": "5,6,7,8"
     },
     "show_code": false,
     "type": "uibuilder"
    }
   },
   "outputs": [
    {
     "data": {
      "application/vnd.jupyter.widget-view+json": {
       "model_id": "3f8c6896bbca4534ad4565522e3e4669",
       "version_major": 2,
       "version_minor": 0
      },
      "text/plain": [
       "UIBuilder(description='Create a t-sne plot of an AnnData object.', function_import='TsnePlot', name='TsnePlot'…"
      ]
     },
     "metadata": {},
     "output_type": "display_data"
    }
   ],
   "source": [
    "genepattern.GPUIBuilder(TsnePlot,\n",
    "                    description=TsnePlot_description,\n",
    "                    parameters=TsnePlot_parameters)"
   ]
  },
  {
   "cell_type": "markdown",
   "metadata": {},
   "source": [
    "<div class=\"alert alert-info\">\n",
    "<b style=\"font-size:120%;\">UmapPlot</b><br>\n",
    "<b>AnnData File Url</b> ica_cord_blood/donor_5_preprocessed.h5ad<br>\n",
    "<b>Variable</b> cell_type<br>\n",
    "<b>Variable Subset</b> B cells, CD4 T cells, CD8 T cells, DCs, NK cells, Neutrophils, T cells, monocytes/macrophages, pDCs<br>\n",
    "</div>"
   ]
  },
  {
   "cell_type": "code",
   "execution_count": 51,
   "metadata": {
    "nbtools": {
     "description": "Create a UMAP plot of an AnnData object.",
     "name": "UmapPlot",
     "param_values": {
      "AnnData_File": "ica_cord_blood/donor_5_preprocessed.h5ad",
      "File_Name": "ica_cord_blood/donor_5_preprocessed.h5ad",
      "Variable": "cell_type",
      "Variable_Subset": "B cells, CD4 T cells, CD8 T cells, DCs, NK cells, Neutrophils, T cells, monocytes/macrophages, pDCs",
      "output_var": "",
      "variable": "cell_type",
      "variable_subset": "B cells, CD4 T cells, CD8 T cells, DCs, NK cells, Neutrophils, T cells, monocytes/macrophages, pDCs"
     },
     "show_code": false,
     "type": "uibuilder"
    }
   },
   "outputs": [
    {
     "data": {
      "application/vnd.jupyter.widget-view+json": {
       "model_id": "76f89cdd94454b8c8006300864acc5a4",
       "version_major": 2,
       "version_minor": 0
      },
      "text/plain": [
       "UIBuilder(description='Create a UMAP plot of an AnnData object.', function_import='UmapPlot', name='UmapPlot',…"
      ]
     },
     "metadata": {},
     "output_type": "display_data"
    }
   ],
   "source": [
    "genepattern.GPUIBuilder(UmapPlot,\n",
    "                    description=UmapPlot_description,\n",
    "                    parameters=UmapPlot_parameters)"
   ]
  },
  {
   "cell_type": "markdown",
   "metadata": {},
   "source": [
    "# CoGAPS Analysis\n",
    "<a href=#Table-of-Contents>back to top</a>  "
   ]
  },
  {
   "cell_type": "markdown",
   "metadata": {},
   "source": [
    "In this section we go through an entire **CoGAPS** workflow and carefully detail all of the considerations that need to be taken into account when running the algorithm. **CoGAPS** is a non-negative matrix factorization algorithm, which decomposes the original data into two lower-dimensional matrices. Matrix factorization methods in general rely on the principle that interrelated gene regulatory mechanisms, gene-gene interactions, and cellular interactions induce a low-dimensional structure within the fundamentally high-dimensional data produced with high-throughput technologies. Matrix Factorization techniques can learn this low-dimensional representation and have been successfully used in the past [7]. **CoGAPS** is similar to other non-negative matrix factorization algorithms, but it adds an additional sparsity constraint on the learned low-dimensional representation."
   ]
  },
  {
   "cell_type": "markdown",
   "metadata": {},
   "source": [
    "## Setting up a CoGAPS Run\n",
    "<a href=#Table-of-Contents>back to top</a>  "
   ]
  },
  {
   "cell_type": "markdown",
   "metadata": {},
   "source": [
    "We first use the next two cells to get an idea of the size and sparsity of the data. These are important numbers, since later on when setting the parameters for **CoGAPS** we need to understand the type of data we have."
   ]
  },
  {
   "cell_type": "markdown",
   "metadata": {},
   "source": [
    "<div class=\"alert alert-info\">\n",
    "<b style=\"font-size:120%;\">GetDataSize</b><br>\n",
    "<b>AnnData File Url</b> ica_cord_blood/donor_5_preprocessed.h5ad<br>\n",
    "</div>"
   ]
  },
  {
   "cell_type": "code",
   "execution_count": 52,
   "metadata": {
    "nbtools": {
     "description": "Display number of features/samples in a data set.",
     "name": "GetDataSize",
     "param_values": {
      "AnnData_File": "ica_cord_blood/donor_5_preprocessed.h5ad",
      "File_Name": "ica_cord_blood/donor_5_preprocessed.h5ad",
      "data_file": "ica_cord_blood/donor_5_preprocessed.h5ad",
      "output_var": ""
     },
     "show_code": false,
     "type": "uibuilder"
    }
   },
   "outputs": [
    {
     "data": {
      "application/vnd.jupyter.widget-view+json": {
       "model_id": "8e5530bc96114fc7833cb6083afab91f",
       "version_major": 2,
       "version_minor": 0
      },
      "text/plain": [
       "UIBuilder(description='Display number of features/samples in a data set.', function_import='GetDataSize', name…"
      ]
     },
     "metadata": {},
     "output_type": "display_data"
    }
   ],
   "source": [
    "genepattern.GPUIBuilder(GetDataSize,\n",
    "                    description=GetDataSize_description,\n",
    "                    parameters=GetDataSize_parameters)"
   ]
  },
  {
   "cell_type": "markdown",
   "metadata": {},
   "source": [
    "<div class=\"alert alert-info\">\n",
    "<b style=\"font-size:120%;\">GetDataSparsity</b><br>\n",
    "<b>AnnData File Url</b> ica_cord_blood/donor_5_preprocessed.h5ad<br>\n",
    "</div>"
   ]
  },
  {
   "cell_type": "code",
   "execution_count": 53,
   "metadata": {
    "nbtools": {
     "description": "Display percentage of data that is zero.",
     "name": "GetDataSparsity",
     "param_values": {
      "AnnData_File": "ica_cord_blood/donor_5_preprocessed.h5ad",
      "File_Name": "ica_cord_blood/donor_5_preprocessed.h5ad",
      "data_file": "ica_cord_blood/donor_5_preprocessed.h5ad",
      "output_var": ""
     },
     "show_code": false,
     "type": "uibuilder"
    }
   },
   "outputs": [
    {
     "data": {
      "application/vnd.jupyter.widget-view+json": {
       "model_id": "a44a71d0256147ee8b66f6442ad0a31e",
       "version_major": 2,
       "version_minor": 0
      },
      "text/plain": [
       "UIBuilder(description='Display percentage of data that is zero.', function_import='GetDataSparsity', name='Get…"
      ]
     },
     "metadata": {},
     "output_type": "display_data"
    }
   ],
   "source": [
    "genepattern.GPUIBuilder(GetDataSparsity,\n",
    "                    description=GetDataSparsity_description,\n",
    "                    parameters=GetDataSparsity_parameters)  "
   ]
  },
  {
   "cell_type": "markdown",
   "metadata": {},
   "source": [
    "These next two cells will extract the gene and sample names from the data and store them in variables. This allows us to pass those variables to **CoGAPS** so that our data points are labelled correctly. We use the \"RegexVariableNames\" cell here for convenience, and simply tell it to match the entire name for each gene and sample."
   ]
  },
  {
   "cell_type": "markdown",
   "metadata": {},
   "source": [
    "<div class=\"alert alert-info\">\n",
    "<b style=\"font-size:120%;\">RegexVariableNames</b><br>\n",
    "<b>AnnData File Url</b> ica_cord_blood/donor_5_preprocessed.h5ad<br>\n",
    "<b>Pattern</b> .*<br>\n",
    "<b>Which Axis</b> features<br>\n",
    "<b>variable name for regex output</b> gene_names<br>\n",
    "</div>"
   ]
  },
  {
   "cell_type": "code",
   "execution_count": 54,
   "metadata": {
    "nbtools": {
     "description": "Parse AnnData column using regex pattern.",
     "name": "RegexVariableNames",
     "param_values": {
      "AnnData_File": "ica_cord_blood/donor_5_preprocessed.h5ad",
      "File_Name": "ica_cord_blood/donor_5_preprocessed.h5ad",
      "Pattern": ".*",
      "Which_Axis": "features",
      "output_var": "",
      "pattern": ".*",
      "which_axis": "features"
     },
     "show_code": false,
     "type": "uibuilder"
    },
    "scrolled": false
   },
   "outputs": [
    {
     "data": {
      "application/vnd.jupyter.widget-view+json": {
       "model_id": "40f48c91b7444de38558b4bd28890b8f",
       "version_major": 2,
       "version_minor": 0
      },
      "text/plain": [
       "UIBuilder(description='Parse AnnData column using regex pattern.', function_import='RegexVariableNames', name=…"
      ]
     },
     "metadata": {},
     "output_type": "display_data"
    }
   ],
   "source": [
    "genepattern.GPUIBuilder(RegexVariableNames,\n",
    "                        description=RegexVariableNames_description,\n",
    "                        parameters=RegexVariableNames_parameters)"
   ]
  },
  {
   "cell_type": "markdown",
   "metadata": {},
   "source": [
    "<div class=\"alert alert-info\">\n",
    "<b style=\"font-size:120%;\">RegexVariableNames</b><br>\n",
    "<b>AnnData File Url</b> ica_cord_blood/donor_5_preprocessed.h5ad<br>\n",
    "<b>Pattern</b> .*<br>\n",
    "<b>Which Axis</b> samples<br>\n",
    "<b>variable name for regex output</b> sample_names<br>\n",
    "</div>"
   ]
  },
  {
   "cell_type": "code",
   "execution_count": 55,
   "metadata": {
    "nbtools": {
     "description": "Parse AnnData column using regex pattern.",
     "name": "RegexVariableNames",
     "param_values": {
      "AnnData_File": "ica_cord_blood/donor_5_preprocessed.h5ad",
      "File_Name": "ica_cord_blood/donor_5_preprocessed.h5ad",
      "Pattern": ".*",
      "Which_Axis": "samples",
      "output_var": "",
      "pattern": ".*",
      "which_axis": "samples"
     },
     "show_code": false,
     "type": "uibuilder"
    },
    "scrolled": false
   },
   "outputs": [
    {
     "data": {
      "application/vnd.jupyter.widget-view+json": {
       "model_id": "3eccd61907594b638cd70dee35875d18",
       "version_major": 2,
       "version_minor": 0
      },
      "text/plain": [
       "UIBuilder(description='Parse AnnData column using regex pattern.', function_import='RegexVariableNames', name=…"
      ]
     },
     "metadata": {},
     "output_type": "display_data"
    }
   ],
   "source": [
    "genepattern.GPUIBuilder(RegexVariableNames,\n",
    "                        description=RegexVariableNames_description,\n",
    "                        parameters=RegexVariableNames_parameters)"
   ]
  },
  {
   "cell_type": "markdown",
   "metadata": {},
   "source": [
    "There are two things we must do before starting a **CoGAPS** run. First we must create a Cogapps Parameters file and second we must convert our data to a format that **CoGAPS** accepts. In the case of single-cell data this will almost always be an `.mtx` file due to the sparsity of the data. We can use the next cell to create the parameters file. There are a handful of parameters to consider so we describe their relevance here.\n",
    "\n",
    "**Number of Patterns** - this is the most fundamental parameter. It controls the size of the low-dimensional representation of the data. The optimal value is not known and it is even debatable if there is a single best value for a given data set. It is likely that for different numbers of patterns , the underlying biological behavior will be learned at a different resolution. For this reason, it is common to run **CoGAPS** over a range of numbers of patterns and analyze the differences between the runs. In this case, we will start off with 20 patterns and see how the analysis goes. In future versions of the notebook we will explore a range of values for this parameter.\n",
    "\n",
    "**Number of Iterations** - this controls how many iterations the algorithm will run for. Determining when the algorithm has converged is not an exact science, so typically a large value in neighborhood of 50,000 iterations is recommended to be safe.\n",
    "\n",
    "**Random Seed** - this is the random seed, used for reproducibility\n",
    "\n",
    "**Single Cell Data** - this should be set to TRUE when running on single-cell data. It changes the underlying mathematics of the algorithm to account for the sparsity present in single-cell data.\n",
    "\n",
    "**Enable Sparse Optimization** - this has no effect on the mathematics of the algorithm and is purely used for improving the run time. It is recommended to set this to TRUE when the sparsity of the data is over 80% (i.e. 80% of the data is zero).\n",
    "\n",
    "**Feature Names** and **Sample Names** - this is an optional field for setting the gene and sample names of the data. Since an `.mtx` file contains no text data, it is required in our case. Some other file formats make it possible to infer these names.\n",
    "\n",
    "**Distributed Method** - this is perhaps the second most critical parameter to account for. By default, **CoGAPS** will run the factorization on the entire data set, using only a single cpu core. For large data sets, this makes it completely impractical to use since the run time is so long. When running on large data sets such as this one, this parameter enables a distributed version of the algorithm. This version of the algorithm splits the data into subsets and runs the standard algorithm on each subset in parallel. If the value of this parameter is \"genome-wide\" the data set is broken into subsets of genes, if the value is \"single-cell\" the data set is broken into subsets of cells. Once the parallel runs finish, there is an internal method for matching the common patterns between subsets and stitching them together to form a final result. This provides an additional benefit since patterns which are not robust across subsets are thrown out. In this way, the value for **Number of Patterns** is less critical since only robust patterns are kept [5].\n",
    "\n",
    "**Number of Sets** - this parameter controls how many subsets are run in parallel when using the distributed version of the algorithm. In this case we break the data into 12 sets which gives us about 3000 cells per subset. We want to make sure each subset has at least 1000 or 2000 cells in order give robust results, but ideally we would want as many cells per set as possible."
   ]
  },
  {
   "cell_type": "markdown",
   "metadata": {},
   "source": [
    "<div class=\"alert alert-info\">\n",
    "<b style=\"font-size:120%;\">CreateCogapsParameters</b><br>\n",
    "<b>Output File Name</b> ica_cord_blood/donor_5_cogaps_params<br>\n",
    "<b>Number of Patterns</b> 20<br>\n",
    "<b>Number of Iterations</b> 50000<br>\n",
    "<b>Random Seed</b> 42<br>\n",
    "<b>Single Cell Data</b> TRUE<br>\n",
    "<b>Enable Sparse Optimization</b> TRUE<br>\n",
    "<b>Feature Names</b> gene_names<br>\n",
    "<b>Sample Names</b> sample_names<br>\n",
    "<b>Distributed Method</b> single-cell<br>\n",
    "<b>Number of Sets</b> 12<br>\n",
    "</div>"
   ]
  },
  {
   "cell_type": "code",
   "execution_count": 56,
   "metadata": {
    "nbtools": {
     "description": "Create a CoGAPS parameters object and save it to a file.",
     "name": "CreateCogapsParameters",
     "param_values": {
      "Distributed_Method": "single-cell",
      "Enable_Sparse_Optimization": "true",
      "Feature_Names": "gene_names",
      "Gene_Names": "gene_names",
      "Number_Of_Iterations": "50000",
      "Number_Of_Patterns": "20",
      "Number_Of_Pattterns": "20",
      "Number_Of_Sets": "12",
      "Output_File": "ica_cord_blood/donor_5_cogaps_params",
      "Output_File_Name": "ica_cord_blood/donor_5_cogaps_params",
      "Random_Seed": "42",
      "Sample_Names": "sample_names",
      "Single_Cell_Data": "true",
      "distributed_method": "single-cell",
      "gene_names": "gene_names",
      "n_iterations": "50000",
      "n_patterns": "30",
      "num_iterations": "50000",
      "num_patterns": "20",
      "num_sets": "12",
      "output_var": "",
      "param_file_name": "ica_cord_blood/donor_5_cogaps_params",
      "sample_names": "sample_names",
      "seed": "42",
      "single_cell": "TRUE",
      "sparse_optimization": "TRUE"
     },
     "show_code": false,
     "type": "uibuilder"
    },
    "scrolled": false
   },
   "outputs": [
    {
     "data": {
      "application/vnd.jupyter.widget-view+json": {
       "model_id": "d1d2ad4be04541258db499aa23b73d17",
       "version_major": 2,
       "version_minor": 0
      },
      "text/plain": [
       "UIBuilder(description='Create a CoGAPS parameters object and save it to a file.', function_import='CreateCogap…"
      ]
     },
     "metadata": {},
     "output_type": "display_data"
    }
   ],
   "source": [
    "genepattern.GPUIBuilder(CreateCogapsParameters,\n",
    "                        description=CreateCogapsParameters_description,\n",
    "                        parameters=CreateCogapsParameters_parameters)"
   ]
  },
  {
   "cell_type": "markdown",
   "metadata": {},
   "source": [
    "Now that we have our parameters file, we just have to make sure our data is in the correct format and then we can upload both files to the GenePattern server. This next cell converts the data to an \".mtx\" file, and the following two cells handle the uploading."
   ]
  },
  {
   "cell_type": "markdown",
   "metadata": {},
   "source": [
    "<div class=\"alert alert-info\">\n",
    "<b style=\"font-size:120%;\">ConvertToMtx</b><br>\n",
    "<b>AnnData File</b> ica_cord_blood/donor_5_preprocessed.h5ad<br>\n",
    "<b>Mtx File</b> ica_cord_blood/donor_5_preprocessed.h5ad<br>\n",
    "</div>"
   ]
  },
  {
   "cell_type": "code",
   "execution_count": 57,
   "metadata": {
    "nbtools": {
     "description": "Convert AnnData file to mtx.",
     "name": "ConvertToMtx",
     "param_values": {
      "AnnData_File": "ica_cord_blood/donor_5_preprocessed.h5ad",
      "HDF5_File": "ica_cord_blood/donor_5_preprocessed.h5ad",
      "Mtx_File": "ica_cord_blood/donor_5_preprocessed.mtx",
      "hdf5_file": "ica_cord_blood/donor_5_preprocessed.h5ad",
      "output_file": "ica_cord_blood/donor_5_preprocessed.mtx",
      "output_var": ""
     },
     "show_code": false,
     "type": "uibuilder"
    },
    "scrolled": true
   },
   "outputs": [
    {
     "data": {
      "application/vnd.jupyter.widget-view+json": {
       "model_id": "643faad50d5f412b934bf0e871da3aab",
       "version_major": 2,
       "version_minor": 0
      },
      "text/plain": [
       "UIBuilder(description='Convert AnnData file to mtx.', function_import='ConvertToMtx', name='ConvertToMtx', par…"
      ]
     },
     "metadata": {},
     "output_type": "display_data"
    }
   ],
   "source": [
    "genepattern.GPUIBuilder(ConvertToMtx,\n",
    "                description=ConvertToMtx_description,\n",
    "                parameters=ConvertToMtx_parameters)  "
   ]
  },
  {
   "cell_type": "markdown",
   "metadata": {},
   "source": [
    "<div class=\"alert alert-info\">\n",
    "<b style=\"font-size:120%;\">UploadFileToGenePatternServer</b><br>\n",
    "<b>Local File</b> ica_cord_blood/donor_5_cogaps_params.rds<br>\n",
    "<b>Remote File Name</b> ica_cord_blood_donor_5_cogaps_params.rds<br>\n",
    "<b>varible name for url</b> param_url<br>\n",
    "</div>"
   ]
  },
  {
   "cell_type": "code",
   "execution_count": 58,
   "metadata": {
    "nbtools": {
     "description": "Upload the local file onto the GenePattern server.",
     "name": "UploadFileToGenePatternServer",
     "param_values": {
      "Local_File": "ica_cord_blood/donor_5_cogaps_params.rds",
      "Remote_File_Name": "ica_cord_blood_donor_5_cogaps_params.rds",
      "local_file": "ica_cord_blood/donor_5_cogaps_params.rds",
      "output_var": "",
      "remote_file_name": "ica_cord_blood_cogaps_params.rds"
     },
     "show_code": false,
     "type": "uibuilder"
    },
    "scrolled": false
   },
   "outputs": [
    {
     "data": {
      "application/vnd.jupyter.widget-view+json": {
       "model_id": "045bd158062b4ddcabe6cfc12e489a56",
       "version_major": 2,
       "version_minor": 0
      },
      "text/plain": [
       "UIBuilder(description='Upload the local file onto the GenePattern server.', function_import='UploadFileToGeneP…"
      ]
     },
     "metadata": {},
     "output_type": "display_data"
    }
   ],
   "source": [
    "genepattern.GPUIBuilder(UploadFileToGenePatternServer,\n",
    "                        description=UploadFileToGenePatternServer_description,\n",
    "                        parameters=UploadFileToGenePatternServer_parameters)"
   ]
  },
  {
   "cell_type": "markdown",
   "metadata": {},
   "source": [
    "<div class=\"alert alert-info\">\n",
    "<b style=\"font-size:120%;\">UploadFileToGenePatternServer</b><br>\n",
    "<b>Local File</b> ica_cord_blood/donor_5_preprocessed.mtx<br>\n",
    "<b>Remote File Name</b> ica_cord_blood_donor_5_preprocessed.mtx<br>\n",
    "<b>varible name for url</b> data_url<br>\n",
    "</div>"
   ]
  },
  {
   "cell_type": "code",
   "execution_count": 59,
   "metadata": {
    "nbtools": {
     "description": "Upload the local file onto the GenePattern server.",
     "name": "UploadFileToGenePatternServer",
     "param_values": {
      "Local_File": "ica_cord_blood/donor_5_preprocessed.mtx",
      "Remote_File_Name": "ica_cord_blood_donor_5_preprocessed.mtx",
      "local_file": "ica_cord_blood/donor_5_preprocessed.mtx",
      "output_var": "",
      "remote_file_name": "ica_cord_blood_donor_5_preprocessed.mtx"
     },
     "show_code": false,
     "type": "uibuilder"
    },
    "scrolled": false
   },
   "outputs": [
    {
     "data": {
      "application/vnd.jupyter.widget-view+json": {
       "model_id": "9b2d20c2962b447dbfae98bb8d8f6090",
       "version_major": 2,
       "version_minor": 0
      },
      "text/plain": [
       "UIBuilder(description='Upload the local file onto the GenePattern server.', function_import='UploadFileToGeneP…"
      ]
     },
     "metadata": {},
     "output_type": "display_data"
    }
   ],
   "source": [
    "genepattern.GPUIBuilder(UploadFileToGenePatternServer,\n",
    "                        description=UploadFileToGenePatternServer_description,\n",
    "                        parameters=UploadFileToGenePatternServer_parameters)"
   ]
  },
  {
   "cell_type": "markdown",
   "metadata": {},
   "source": [
    "Finally we're ready to launch a **CoGAPS** job using the GenePattern module below. Notice that this module requires setting the **num patterns** and **num iterations** parameters directly in the module. These values will overwrite the parameter file so it's important to set these correctly. There are also some considerations we have to make in the \"Job Options\" section. We will want to set the **job queue** to \"CoGAPS\" and the **job cpuCount** to \"12\" since this is how many sets we are using."
   ]
  },
  {
   "cell_type": "markdown",
   "metadata": {},
   "source": [
    "<div class=\"alert alert-info\">\n",
    "<h3 style=\"margin-top: 0;\"> CoGAPS Module Instructions<i class=\"fa fa-info-circle\"></i></h3>\n",
    "<ol>\n",
    "    <li>Under \"Basic Parameters\" set <b>data file</b> to \"{{ data_url }}\"</li>\n",
    "    <li>Under \"Basic Parameters\" set <b>output file</b> to \"donor-5-patterns-20-cogaps-result\"</li>\n",
    "    <li>Under \"Basic Parameters\" set <b>num patterns</b> to \"20\"</li>\n",
    "    <li>Under \"Basic Parameters\" set <b>num iterations</b> to \"50000\"</li>\n",
    "    <li>Under \"Parameter File\" set <b>param file</b> to \"{{ param_url }}\"</li>\n",
    "    <li>Under \"Miscellaneous\" set <b>transpose data</b> to \"False\"</li>\n",
    "    <li>In the top right corner click the settings icon and click \"Toggle Job Options\" to enable this section</li>\n",
    "    <li>Under \"Job Options\" set <b>job cpuCount</b> to \"12\"</li>\n",
    "    <li>Under \"Job Options\" set <b>job queue</b> to \"CoGAPS\"</li>\n",
    "</ol>\n",
    "Note: do not include the quotes when setting parameters\n",
    "</div>"
   ]
  },
  {
   "cell_type": "markdown",
   "metadata": {},
   "source": [
    "<div class=\"alert alert-warning\">\n",
    "<h3 style=\"margin-top: 0;\"> CoGAPS Running Time<i class=\"fa fa-info-circle\"></i></h3>\n",
    "This module launches a CoGAPS run that takes about 30 hours - it is recommended to use the pre-generated result if you are trying out the notebook.\n",
    "</div>"
   ]
  },
  {
   "cell_type": "code",
   "execution_count": 7,
   "metadata": {
    "genepattern": {
     "description": "Coordinated Gene Activity in Pattern Sets (CoGAPS) implements a Bayesian MCMC matrix factorization algorithm, GAPS, and links it to gene set statistic methods to infer biological process activity. It can be used to perform sparse matrix factorization on any data, and when this data represents biomolecules, to do gene set analysis.",
     "name": "CoGAPS",
     "param_values": {
      "data.file": null,
      "github.tag": null,
      "job.cpuCount": null,
      "job.memory": null,
      "job.queue": null,
      "job.walltime": null,
      "num.iterations": null,
      "num.patterns": null,
      "output.file": null,
      "param.file": null,
      "transpose.data": null
     },
     "show_code": false,
     "type": "task"
    },
    "scrolled": false
   },
   "outputs": [
    {
     "data": {
      "application/vnd.jupyter.widget-view+json": {
       "model_id": "0803ba13b822416fa3375f5504d8bc36",
       "version_major": 2,
       "version_minor": 0
      },
      "text/plain": [
       "GPTaskWidget(lsid='urn:lsid:broad.mit.edu:cancer.software.genepattern.module.analysis:00376')"
      ]
     },
     "metadata": {},
     "output_type": "display_data"
    },
    {
     "data": {
      "application/vnd.jupyter.widget-view+json": {
       "model_id": "fc0bb6c7ae474002802c588d3fd2c135",
       "version_major": 2,
       "version_minor": 0
      },
      "text/plain": [
       "GPJobWidget(job_number=116783)"
      ]
     },
     "metadata": {},
     "output_type": "display_data"
    }
   ],
   "source": [
    "cogaps_task = gp.GPTask(genepattern.session.get(0), 'urn:lsid:broad.mit.edu:cancer.software.genepattern.module.analysis:00376')\n",
    "cogaps_job_spec = cogaps_task.make_job_spec()\n",
    "cogaps_job_spec.set_parameter(\"data.file\", \"{{ data_url }}\")\n",
    "cogaps_job_spec.set_parameter(\"output.file\", \"donor-5-patterns-20-cogaps-result\")\n",
    "cogaps_job_spec.set_parameter(\"num.patterns\", \"20\")\n",
    "cogaps_job_spec.set_parameter(\"num.iterations\", \"1000\")\n",
    "cogaps_job_spec.set_parameter(\"param.file\", \"{{ param_url }}\")\n",
    "cogaps_job_spec.set_parameter(\"transpose.data\", \"FALSE\")\n",
    "cogaps_job_spec.set_parameter(\"github.tag\", \"\")\n",
    "cogaps_job_spec.set_parameter(\"job.memory\", \"32 Gb\")\n",
    "cogaps_job_spec.set_parameter(\"job.queue\", \"CoGAPS\")\n",
    "cogaps_job_spec.set_parameter(\"job.cpuCount\", \"12\")\n",
    "cogaps_job_spec.set_parameter(\"job.walltime\", \"\")\n",
    "genepattern.display(cogaps_task)\n",
    "\n",
    "job116783 = gp.GPJob(genepattern.session.get(0), 116783)\n",
    "genepattern.display(job116783)"
   ]
  },
  {
   "cell_type": "markdown",
   "metadata": {},
   "source": [
    "<div class=\"alert alert-info\">\n",
    "<b style=\"font-size:120%;\">DownloadJobResultFile</b><br>\n",
    "<b>Job File Url</b> select \"donor-5-patterns-20-cogaps-result.rds\" from the dropdown meny<br>\n",
    "<b>File Name</b> ica_cord_blood/donor_5_patterns_20_cogaps_result.rds<br>\n",
    "</div>"
   ]
  },
  {
   "cell_type": "code",
   "execution_count": 60,
   "metadata": {
    "nbtools": {
     "description": "Download file from a GenePattern module job result.",
     "name": "DownloadJobResultFile",
     "param_values": {
      "File_Name": "ica_cord_blood/donor_5_patterns_20_cogaps_result.rds",
      "Job_File_Url": [
       "https://cloud.genepattern.org/gp/jobResults/116783/donor-5-patterns-20-cogaps-result.rds"
      ],
      "file_name": "ica_cord_blood/donor_5_patterns_20_cogaps_result_2.rds",
      "job_file_url": [
       "https://cloud.genepattern.org/gp/jobResults/99260/donor-5-patterns-20-cogaps-result.rds"
      ],
      "output_var": ""
     },
     "show_code": false,
     "type": "uibuilder"
    },
    "scrolled": true
   },
   "outputs": [
    {
     "data": {
      "application/vnd.jupyter.widget-view+json": {
       "model_id": "46add1729b5a4d83aa40c3504a31ae21",
       "version_major": 2,
       "version_minor": 0
      },
      "text/plain": [
       "UIBuilder(description='Download file from a GenePattern module job result.', function_import='DownloadJobResul…"
      ]
     },
     "metadata": {},
     "output_type": "display_data"
    }
   ],
   "source": [
    "genepattern.GPUIBuilder(DownloadJobResultFile,\n",
    "                        description=DownloadJobResultFile_description,\n",
    "                        parameters=DownloadJobResultFile_parameters)"
   ]
  },
  {
   "cell_type": "markdown",
   "metadata": {},
   "source": [
    "## Processing the CoGAPS Result\n",
    "<a href=#Table-of-Contents>back to top</a>  "
   ]
  },
  {
   "cell_type": "markdown",
   "metadata": {},
   "source": [
    "Now that we have the results from the **CoGAPS** run, we will want to merge it into our original **AnnData** file. This will allow us to overlay the results on the data which can make some nice visualizations."
   ]
  },
  {
   "cell_type": "markdown",
   "metadata": {},
   "source": [
    "<div class=\"alert alert-info\">\n",
    "<b style=\"font-size:120%;\">ViewCogapsResult</b><br>\n",
    "<b>Result File</b> ica_cord_blood/donor_5_patterns_20_cogaps_result.rds<br>\n",
    "</div>"
   ]
  },
  {
   "cell_type": "code",
   "execution_count": 61,
   "metadata": {
    "nbtools": {
     "description": "View the properties of a Cogaps result file.",
     "name": "ViewCogapsResult",
     "param_values": {
      "Result_File": "ica_cord_blood/donor_5_patterns_20_cogaps_result.rds",
      "output_var": "",
      "result_file": "ica_cord_blood/donor_5_patterns_20_cogaps_result_2.rds"
     },
     "show_code": false,
     "type": "uibuilder"
    },
    "scrolled": false
   },
   "outputs": [
    {
     "data": {
      "application/vnd.jupyter.widget-view+json": {
       "model_id": "8cd56470ef964fe7b8d02b2512c064c9",
       "version_major": 2,
       "version_minor": 0
      },
      "text/plain": [
       "UIBuilder(description='View the properties of a Cogaps result file.', function_import='ViewCogapsResult', name…"
      ]
     },
     "metadata": {},
     "output_type": "display_data"
    }
   ],
   "source": [
    "genepattern.GPUIBuilder(ViewCogapsResult,\n",
    "                    description=ViewCogapsResult_description,\n",
    "                    parameters=ViewCogapsResult_parameters)"
   ]
  },
  {
   "cell_type": "markdown",
   "metadata": {},
   "source": [
    "<div class=\"alert alert-info\">\n",
    "<b style=\"font-size:120%;\">MergeCogapsResultWithAnnData</b><br>\n",
    "<b>AnnData File</b> ica_cord_blood/donor_5_preprocessed.h5ad<br>\n",
    "<b>Cogaps Result File</b> ica_cord_blood/donor_5_patterns_20_cogaps_result.rds<br>\n",
    "<b>Output File</b> ica_cord_blood/donor_5_cogaps_result.h5ad<br>\n",
    "</div>"
   ]
  },
  {
   "cell_type": "code",
   "execution_count": 62,
   "metadata": {
    "nbtools": {
     "description": "Adds the patterns from the Cogaps result to the AnnData file.",
     "name": "MergeCogapsResultWithAnnData",
     "param_values": {
      "AnnData_File": "ica_cord_blood/donor_5_preprocessed.h5ad",
      "Cogaps_Result_File": "ica_cord_blood/donor_5_patterns_20_cogaps_result.rds",
      "Output_File": "ica_cord_blood/donor_5_cogaps_result.h5ad",
      "adata_file": "",
      "output_file": "",
      "output_var": "",
      "result_file": ""
     },
     "show_code": false,
     "type": "uibuilder"
    }
   },
   "outputs": [
    {
     "data": {
      "application/vnd.jupyter.widget-view+json": {
       "model_id": "b3629d72d35e4b0fb60dcef913bf4850",
       "version_major": 2,
       "version_minor": 0
      },
      "text/plain": [
       "UIBuilder(description='Adds the patterns from the Cogaps result to the AnnData file.', function_import='MergeC…"
      ]
     },
     "metadata": {},
     "output_type": "display_data"
    }
   ],
   "source": [
    "genepattern.GPUIBuilder(MergeCogapsResultWithAnnData,\n",
    "                description=MergeCogapsResultWithAnnData_description,\n",
    "                parameters=MergeCogapsResultWithAnnData_parameters)"
   ]
  },
  {
   "cell_type": "markdown",
   "metadata": {},
   "source": [
    "## Visualizing Patterns\n",
    "<a href=#Table-of-Contents>back to top</a>  "
   ]
  },
  {
   "cell_type": "markdown",
   "metadata": {},
   "source": [
    "Visualizing the patterns learned from **CoGAPS** is an important task, but it is not enough to make definitive statements about the biological relevance of specific patterns - we will get to that in the next section. For now, we show some ways that patterns can visualized and point out some interesting examples. We note that this visualization can be applied to the results from all sample weight matrices learned from matrix factorization approaches [7]."
   ]
  },
  {
   "cell_type": "markdown",
   "metadata": {},
   "source": [
    "<div class=\"alert alert-info\">\n",
    "<b style=\"font-size:120%;\">PlotCogapsPatterns</b><br>\n",
    "<b>AnnData File</b> ica_cord_blood/donor_5_cogaps_result.h5ad<br>\n",
    "<b>Visualization Coordinates</b> T-SNE<br>\n",
    "<b>Patterns</b> --leave blank--<br>\n",
    "<b>Phenotype</b> --leave blank--<br>\n",
    "<b>Phenotype Values</b> --leave blank--<br>\n",
    "<b>Subset</b> FALSE<br>\n",
    "<b>Width</b> 4<br>\n",
    "    \n",
    "This will make a T-SNE plot of all CoGAPS patterns, with 4 plots per row.\n",
    "</div>"
   ]
  },
  {
   "cell_type": "code",
   "execution_count": 63,
   "metadata": {
    "nbtools": {
     "description": "Plots patterns overlaid on either a UMAP or TSNE plot of the original data.",
     "name": "PlotCogapsPatterns",
     "param_values": {
      "AnnData_File": "ica_cord_blood/donor_5_cogaps_result.h5ad",
      "Patterns": "",
      "Phenotype": "",
      "Phenotype_Values": "",
      "Subset": "false",
      "Visualization_Coordinates": "TSNE",
      "Width": "4",
      "adata_file": "ica_cord_blood/donor_5_cogaps_result.h5ad",
      "output_var": ""
     },
     "show_code": false,
     "type": "uibuilder"
    },
    "scrolled": false
   },
   "outputs": [
    {
     "data": {
      "application/vnd.jupyter.widget-view+json": {
       "model_id": "2540cbe2d23a4548b858fbf7d4714d09",
       "version_major": 2,
       "version_minor": 0
      },
      "text/plain": [
       "UIBuilder(description='Plots patterns overlaid on either a UMAP or TSNE plot of the original data.', function_…"
      ]
     },
     "metadata": {},
     "output_type": "display_data"
    }
   ],
   "source": [
    "genepattern.GPUIBuilder(PlotCogapsPatterns,\n",
    "                        description=PlotCogapsPatterns_description,\n",
    "                        parameters=PlotCogapsPatterns_parameters)"
   ]
  },
  {
   "cell_type": "markdown",
   "metadata": {},
   "source": [
    "The next two plots are interesting examples of patterns that seem to be strongly associated with a particular phenotype. In the next section we will make this association more precise, but it is worth looking at visualization like this to identify candidate patterns for later analysis."
   ]
  },
  {
   "cell_type": "markdown",
   "metadata": {},
   "source": [
    "<div class=\"alert alert-info\">\n",
    "<b style=\"font-size:120%;\">PlotCogapsPatterns</b><br>\n",
    "<b>AnnData File</b> ica_cord_blood/donor_5_cogaps_result.h5ad<br>\n",
    "<b>Visualization Coordinates</b> T-SNE<br>\n",
    "<b>Patterns</b> 10<br>\n",
    "<b>Phenotype</b> channel<br>\n",
    "<b>Phenotype Values</b> --leave blank--<br>\n",
    "<b>Subset</b> FALSE<br>\n",
    "<b>Width</b> 2<br>\n",
    "    \n",
    "This will make a side by side T-SNE plot colored by pattern 10 and the channel each sample comes from.\n",
    "</div>"
   ]
  },
  {
   "cell_type": "code",
   "execution_count": 64,
   "metadata": {
    "nbtools": {
     "description": "Plots patterns overlaid on either a UMAP or TSNE plot of the original data.",
     "name": "PlotCogapsPatterns",
     "param_values": {
      "AnnData_File": "ica_cord_blood/donor_5_cogaps_result.h5ad",
      "Patterns": "10",
      "Phenotype": "channel",
      "Phenotype_Values": "",
      "Phenotypes": "channel",
      "Subset": "false",
      "Visualization_Coordinates": "TSNE",
      "Width": "2",
      "adata_file": "ica_cord_blood/donor_5_cogaps_result.h5ad",
      "output_var": "",
      "pattern_num": "10",
      "phenotype": "channel"
     },
     "show_code": false,
     "type": "uibuilder"
    },
    "scrolled": false
   },
   "outputs": [
    {
     "data": {
      "application/vnd.jupyter.widget-view+json": {
       "model_id": "d60d9075a0334bea976756b6dfd6d04e",
       "version_major": 2,
       "version_minor": 0
      },
      "text/plain": [
       "UIBuilder(description='Plots patterns overlaid on either a UMAP or TSNE plot of the original data.', function_…"
      ]
     },
     "metadata": {},
     "output_type": "display_data"
    }
   ],
   "source": [
    "genepattern.GPUIBuilder(PlotCogapsPatterns,\n",
    "                        description=PlotCogapsPatterns_description,\n",
    "                        parameters=PlotCogapsPatterns_parameters)"
   ]
  },
  {
   "cell_type": "markdown",
   "metadata": {},
   "source": [
    "<div class=\"alert alert-info\">\n",
    "<b style=\"font-size:120%;\">PlotCogapsPatterns</b><br>\n",
    "<b>AnnData File</b> ica_cord_blood/donor_5_cogaps_result.h5ad<br>\n",
    "<b>Visualization Coordinates</b> UMAP<br>\n",
    "<b>Patterns</b> 4<br>\n",
    "<b>Phenotype</b> cell_type<br>\n",
    "<b>Phenotype Values</b> NK cells<br>\n",
    "<b>Subset</b> FALSE<br>\n",
    "<b>Width</b> 2<br>\n",
    "    \n",
    "This will make a side by side UMAP plot colored by pattern 4 and NK cells.\n",
    "</div>"
   ]
  },
  {
   "cell_type": "code",
   "execution_count": 65,
   "metadata": {
    "nbtools": {
     "description": "Plots patterns overlaid on either a UMAP or TSNE plot of the original data.",
     "name": "PlotCogapsPatterns",
     "param_values": {
      "AnnData_File": "ica_cord_blood/donor_5_cogaps_result.h5ad",
      "Patterns": "4",
      "Phenotype": "cell_type",
      "Phenotype_Values": "NK cells",
      "Subset": "false",
      "Visualization_Coordinates": "UMAP",
      "Width": "2",
      "adata_file": "ica_cord_blood/donor_5_cogaps_result.h5ad",
      "output_var": "",
      "pattern_num": "4",
      "phenotype": "cell_type"
     },
     "show_code": false,
     "type": "uibuilder"
    },
    "scrolled": false
   },
   "outputs": [
    {
     "data": {
      "application/vnd.jupyter.widget-view+json": {
       "model_id": "58b0a447fabc42daafe56fa9f9094e62",
       "version_major": 2,
       "version_minor": 0
      },
      "text/plain": [
       "UIBuilder(description='Plots patterns overlaid on either a UMAP or TSNE plot of the original data.', function_…"
      ]
     },
     "metadata": {},
     "output_type": "display_data"
    }
   ],
   "source": [
    "genepattern.GPUIBuilder(PlotCogapsPatterns,\n",
    "                        description=PlotCogapsPatterns_description,\n",
    "                        parameters=PlotCogapsPatterns_parameters)"
   ]
  },
  {
   "cell_type": "markdown",
   "metadata": {},
   "source": [
    "## Analyzing Patterns\n",
    "<a href=#Table-of-Contents>back to top</a>  "
   ]
  },
  {
   "cell_type": "markdown",
   "metadata": {},
   "source": [
    "In this section we dive into a more rigorous analysis of the patterns learned from **CoGAPS**. The types of analysis we might do breaks into several groups. First, when we have known phenotypes (e.g. donor, channel) we can directly see which patterns show a statistically significant separation of the phenotype. Second, we can do cell type identification using the marker genes we've previously described. By looking at which patterns are uniquely associated with the marker genes, we can label patterns as being an indicator for a given cell type. Finally, there are some patterns that aren't clearly associated with either of the former categories and so we must take a more exploratory approach to identifying their relevance."
   ]
  },
  {
   "cell_type": "markdown",
   "metadata": {},
   "source": [
    "### Known Phenotypes\n",
    "<a href=#Table-of-Contents>back to top</a>  "
   ]
  },
  {
   "cell_type": "markdown",
   "metadata": {},
   "source": [
    "In this case, we are trying to see if any patterns separate the different 10x channels. The null hypothesis would be that all 8 populations from the 8 different channels have the same distribution. We can test whether or not this is true with an ANOVA test. In this case, we use the non-parametric version of ANOVA, the Kruskal-Wallis test. We calculate the statistic and p-value for each of the patterns. Note that pattern 10, which was visually identified in the previous section, has a test statistic an order of magnitude larger than any other pattern. It seems clear that this pattern is separating the 10x channel, however the p-values for almost all patterns are \"significant\". Obviously, some correction needs to be used when calculating p-values in this manner and we will explore that in future versions of the notebook. For now, we justify the relevance of pattern 10 with the test statistic alone."
   ]
  },
  {
   "cell_type": "markdown",
   "metadata": {},
   "source": [
    "<div class=\"alert alert-info\">\n",
    "<b style=\"font-size:120%;\">KruskalWallisPatternTest</b><br>\n",
    "<b>AnnData File</b> ica_cord_blood/donor_5_cogaps_result.h5ad<br>\n",
    "<b>Phenotype</b> channel<br>\n",
    "</div>"
   ]
  },
  {
   "cell_type": "code",
   "execution_count": 66,
   "metadata": {
    "nbtools": {
     "description": "Runs a Kruskal-Wallis test for a categorical phenotype across all patterns.",
     "name": "KruskalWallisPatternTest",
     "param_values": {
      "AnnData_File": "ica_cord_blood/donor_5_cogaps_result.h5ad",
      "Phenotype": "channel",
      "adata_file": "ica_cord_blood/donor_5_cogaps_result.h5ad",
      "output_var": "",
      "phenotype": "channel"
     },
     "show_code": false,
     "type": "uibuilder"
    }
   },
   "outputs": [
    {
     "data": {
      "application/vnd.jupyter.widget-view+json": {
       "model_id": "dfea96b444644646a9ee3d7da915022a",
       "version_major": 2,
       "version_minor": 0
      },
      "text/plain": [
       "UIBuilder(description='Runs a Kruskal-Wallis test for a categorical phenotype across all patterns.', function_…"
      ]
     },
     "metadata": {},
     "output_type": "display_data"
    }
   ],
   "source": [
    "genepattern.GPUIBuilder(KruskalWallisPatternTest,\n",
    "                        description=KruskalWallisPatternTest_description,\n",
    "                        parameters=KruskalWallisPatternTest_parameters)"
   ]
  },
  {
   "cell_type": "markdown",
   "metadata": {},
   "source": [
    "Now that we've identified pattern 10 as separating the 10x channels, we can use a post-hoc test to see specifically which channels are separated. The [Dunn Test](https://cran.r-project.org/web/packages/dunn.test/dunn.test.pdf) is a non-parametric test designed to work in conjunction with the Kruskal-Wallis test. We can see that channels 1,2,3,4 are strongly separated from channels 5,6,7,8 - but within those groups there is not as much separation. This is something we had already seen visually in the UMAP/TSNE plots."
   ]
  },
  {
   "cell_type": "markdown",
   "metadata": {},
   "source": [
    "<div class=\"alert alert-info\">\n",
    "<b style=\"font-size:120%;\">DunnTest</b><br>\n",
    "<b>AnnData File</b> ica_cord_blood/donor_5_cogaps_result.h5ad<br>\n",
    "<b>Pattern</b> 10<br>\n",
    "<b>Phenotype</b> channel<br>\n",
    "</div>"
   ]
  },
  {
   "cell_type": "code",
   "execution_count": 67,
   "metadata": {
    "nbtools": {
     "description": "Runs a Dunn test for a categorical phenotype on a specific pattern.",
     "name": "DunnTest",
     "param_values": {
      "AnnData_File": "ica_cord_blood/donor_5_cogaps_result.h5ad",
      "Pattern": "10",
      "Phenotype": "channel",
      "adata_file": "ica_cord_blood/donor_5_cogaps_result.h5ad",
      "output_var": "",
      "pattern_num": "10",
      "phenotype": "channel"
     },
     "show_code": false,
     "type": "uibuilder"
    }
   },
   "outputs": [
    {
     "data": {
      "application/vnd.jupyter.widget-view+json": {
       "model_id": "1b70098e46ca468ba015018c4929ed7c",
       "version_major": 2,
       "version_minor": 0
      },
      "text/plain": [
       "UIBuilder(description='Runs a Dunn test for a categorical phenotype on a specific pattern.', function_import='…"
      ]
     },
     "metadata": {},
     "output_type": "display_data"
    }
   ],
   "source": [
    "\n",
    "genepattern.GPUIBuilder(DunnTest,\n",
    "                        description=DunnTest_description,\n",
    "                        parameters=DunnTest_parameters)"
   ]
  },
  {
   "cell_type": "markdown",
   "metadata": {},
   "source": [
    "### Cell Type Identification with CoGAPS\n",
    "<a href=#Table-of-Contents>back to top</a>  "
   ]
  },
  {
   "cell_type": "markdown",
   "metadata": {},
   "source": [
    "Here we do cell type identification by using the previously described marker genes. We can first take a look at the correlation between the pattern weights and the cell types found by **garnett**. This isn't necessarily informative since **garnett** cell types do not form a ground truth, but the comparison is still interesting. Only one pattern, 4, really seems associated with any of the **garnett** cell types (NK cells)."
   ]
  },
  {
   "cell_type": "markdown",
   "metadata": {},
   "source": [
    "<div class=\"alert alert-info\">\n",
    "<b style=\"font-size:120%;\">PlotCellTypePatternCorrelation</b><br>\n",
    "<b>AnnData File</b> ica_cord_blood/donor_5_cogaps_result.h5ad<br>\n",
    "</div>"
   ]
  },
  {
   "cell_type": "code",
   "execution_count": 68,
   "metadata": {
    "nbtools": {
     "description": "Plot a heatmap of corrlation between cell types and patterns.",
     "name": "PlotCellTypePatternCorrelation",
     "param_values": {
      "AnnData_File": "ica_cord_blood/donor_5_cogaps_result.h5ad",
      "adata_file": "ica_cord_blood/donor_5_cogaps_result.h5ad",
      "output_var": ""
     },
     "show_code": false,
     "type": "uibuilder"
    }
   },
   "outputs": [
    {
     "data": {
      "application/vnd.jupyter.widget-view+json": {
       "model_id": "1a68fa5cefda4d84a52907b850d6d894",
       "version_major": 2,
       "version_minor": 0
      },
      "text/plain": [
       "UIBuilder(description='Plot a heatmap of corrlation between cell types and patterns.', function_import='PlotCe…"
      ]
     },
     "metadata": {},
     "output_type": "display_data"
    }
   ],
   "source": [
    "genepattern.GPUIBuilder(PlotCellTypePatternCorrelation,\n",
    "    description=PlotCellTypePatternCorrelation_description,\n",
    "    parameters=PlotCellTypePatternCorrelation_parameters)"
   ]
  },
  {
   "cell_type": "markdown",
   "metadata": {},
   "source": [
    "Here we demonstrate the cell type identification process using marker genes. We print out the top 3 patterns by rank for each marker. Using this we can see the patterns which are most influenced by all marker genes for a particular type."
   ]
  },
  {
   "cell_type": "markdown",
   "metadata": {},
   "source": [
    "<div class=\"alert alert-info\">\n",
    "<b style=\"font-size:120%;\">CogapsCellTypeIdentification</b><br>\n",
    "<b>AnnData File</b> ica_cord_blood/donor_5_cogaps_result.h5ad<br>\n",
    "<b>Marker Genes File</b> ica_cord_blood/markers.txt<br>\n",
    "</div>"
   ]
  },
  {
   "cell_type": "code",
   "execution_count": 69,
   "metadata": {
    "nbtools": {
     "description": "Run cell type identification with Cogaps patterns.",
     "name": "CogapsCellTypeIdentification",
     "param_values": {
      "AnnData_File": "ica_cord_blood/donor_5_cogaps_result.h5ad",
      "Marker_Genes_File": "ica_cord_blood/markers.txt",
      "adata_file": "ica_cord_blood/donor_5_cogaps_result.h5ad",
      "marker_file": "ica_cord_blood/markers.txt",
      "output_var": ""
     },
     "show_code": false,
     "type": "uibuilder"
    }
   },
   "outputs": [
    {
     "data": {
      "application/vnd.jupyter.widget-view+json": {
       "model_id": "2ed25ff3a1084d98ae4bbc633fad2128",
       "version_major": 2,
       "version_minor": 0
      },
      "text/plain": [
       "UIBuilder(description='Run cell type identification with Cogaps patterns.', function_import='CogapsCellTypeIde…"
      ]
     },
     "metadata": {},
     "output_type": "display_data"
    }
   ],
   "source": [
    "genepattern.GPUIBuilder(CogapsCellTypeIdentification,\n",
    "                        description=CogapsCellTypeIdentification_description,\n",
    "                        parameters=CogapsCellTypeIdentification_parameters)        "
   ]
  },
  {
   "cell_type": "markdown",
   "metadata": {},
   "source": [
    "If we look at the marker genes for `NK cells` we can see that both marker genes have a high rank in pattern 4. This is consistent with what we saw visually and the correlation heatmap we made in the previous section. If we make a umap plot with just the `NK cells` from **garnett** highlighted, we can see a strong correlation with pattern 4. What's interesting is that the marker genes for `Neutrophils` also have a high rank in pattern 4, as well as pattern 11. However, if we plot those patterns on the `Neutrophils` generated by **garnett**, we can see there is little agreement. As is often the case, we have to do a deeper dive in order to get a sense of how cell types are related to patterns. This is done in the next section."
   ]
  },
  {
   "cell_type": "markdown",
   "metadata": {},
   "source": [
    "<div class=\"alert alert-info\">\n",
    "<b style=\"font-size:120%;\">PlotCogapsPatterns</b><br>\n",
    "<b>AnnData File</b> ica_cord_blood/donor_5_cogaps_result.h5ad<br>\n",
    "<b>Visualization Coordinates</b> UMAP<br>\n",
    "<b>Patterns</b> 4, 14<br>\n",
    "<b>Phenotype</b> cell_type<br>\n",
    "<b>Phenotype Values</b> NK cells, Neutrophils<br>\n",
    "<b>Subset</b> FALSE<br>\n",
    "<b>Width</b> 2<br>\n",
    "    \n",
    "This will make a side by side UMAP plot colored by pattern 4 and 14 as well NK cells and Neutrophils.\n",
    "</div>"
   ]
  },
  {
   "cell_type": "code",
   "execution_count": 70,
   "metadata": {
    "nbtools": {
     "description": "Plots patterns overlaid on either a UMAP or TSNE plot of the original data.",
     "name": "PlotCogapsPatterns",
     "param_values": {
      "AnnData_File": "ica_cord_blood/donor_5_cogaps_result.h5ad",
      "Patterns": "4, 14",
      "Phenotype": "cell_type",
      "Phenotype_Values": "NK cells, Neutrophils",
      "Subset": "false",
      "Visualization_Coordinates": "UMAP",
      "Width": "2",
      "adata_file": "ica_cord_blood/donor_5_cogaps_result.h5ad",
      "cell_type": "NK cells",
      "output_var": "",
      "pattern_num": "4"
     },
     "show_code": false,
     "type": "uibuilder"
    }
   },
   "outputs": [
    {
     "data": {
      "application/vnd.jupyter.widget-view+json": {
       "model_id": "1ee7942fcf45439a8a319a7a59a2c7df",
       "version_major": 2,
       "version_minor": 0
      },
      "text/plain": [
       "UIBuilder(description='Plots patterns overlaid on either a UMAP or TSNE plot of the original data.', function_…"
      ]
     },
     "metadata": {},
     "output_type": "display_data"
    }
   ],
   "source": [
    "genepattern.GPUIBuilder(PlotCogapsPatterns,\n",
    "                        description=PlotCogapsPatterns_description,\n",
    "                        parameters=PlotCogapsPatterns_parameters)"
   ]
  },
  {
   "cell_type": "markdown",
   "metadata": {},
   "source": [
    "### Exploring the Patterns\n",
    "<a href=#Table-of-Contents>back to top</a>  "
   ]
  },
  {
   "cell_type": "markdown",
   "metadata": {},
   "source": [
    "In most cases, the **CoGAPS** patterns will not so clearly identify groups such as the `NK cells` or the 10x channels. Part of a **CoGAPS** workflow is exploring the pattern space in order to determine the structure, or lack thereof, that it has learned from the original data. In this case, one interesting place to start would be pattern 14. It clearly is separating out a signal that was significant to the UMAP and TSNE algorithms, but that group of cells is not associated with any cell type or experimental condition. It is possible that it represents a phenotype that we haven't annotated yet, such a cell cycle. It could also be that **garnett** was inaccurate in labeling cell types or our marker file was incomplete. In either case, it makes sense to examine this more closely."
   ]
  },
  {
   "cell_type": "markdown",
   "metadata": {},
   "source": [
    "<div class=\"alert alert-info\">\n",
    "<b style=\"font-size:120%;\">PlotCogapsPatterns</b><br>\n",
    "<b>AnnData File</b> ica_cord_blood/donor_5_cogaps_result.h5ad<br>\n",
    "<b>Visualization Coordinates</b> UMAP<br>\n",
    "<b>Patterns</b> 14<br>\n",
    "<b>Phenotype</b> cell_type<br>\n",
    "<b>Phenotype Values</b> --leave blank--<br>\n",
    "<b>Subset</b> FALSE<br>\n",
    "<b>Width</b> 2<br>\n",
    "    \n",
    "This will make a UMAP colored by pattern 14 as well as cell type.\n",
    "</div>"
   ]
  },
  {
   "cell_type": "code",
   "execution_count": 71,
   "metadata": {
    "nbtools": {
     "description": "Plots patterns overlaid on either a UMAP or TSNE plot of the original data.",
     "name": "PlotCogapsPatterns",
     "param_values": {
      "AnnData_File": "ica_cord_blood/donor_5_cogaps_result.h5ad",
      "Patterns": "14",
      "Phenotype": "cell_type",
      "Phenotype_Values": "",
      "Subset": "false",
      "Visualization_Coordinates": "UMAP",
      "Width": "2",
      "adata_file": "ica_cord_blood/donor_5_cogaps_result.h5ad",
      "cell_type": "NK cells",
      "output_var": "",
      "pattern_num": "4"
     },
     "show_code": false,
     "type": "uibuilder"
    }
   },
   "outputs": [
    {
     "data": {
      "application/vnd.jupyter.widget-view+json": {
       "model_id": "a8bdad1e9f0d4261a87b23d7b532f911",
       "version_major": 2,
       "version_minor": 0
      },
      "text/plain": [
       "UIBuilder(description='Plots patterns overlaid on either a UMAP or TSNE plot of the original data.', function_…"
      ]
     },
     "metadata": {},
     "output_type": "display_data"
    }
   ],
   "source": [
    "genepattern.GPUIBuilder(PlotCogapsPatterns,\n",
    "                        description=PlotCogapsPatterns_description,\n",
    "                        parameters=PlotCogapsPatterns_parameters)"
   ]
  },
  {
   "cell_type": "markdown",
   "metadata": {},
   "source": [
    "Clearly there is not agreement between any single **garnett** cell type and pattern 14. However, if we look at the pattern ranks for our marker genes we can see that pattern 14 is strongly associated with the marker genes for B cells. Here we plot patterns 2 an 14, which have the highest marker ranks for B cells. It seems that **garnett** has some agreement in how to label `B cells`, but pattern 14 also has high weight in cells labeled `DCs` and `Neutrophils`. It is worth pointing out that these 3 cell types are the only ones to have any weight in pattern 14."
   ]
  },
  {
   "cell_type": "markdown",
   "metadata": {},
   "source": [
    "<div class=\"alert alert-info\">\n",
    "<b style=\"font-size:120%;\">PlotCogapsPatterns</b><br>\n",
    "<b>AnnData File</b> ica_cord_blood/donor_5_cogaps_result.h5ad<br>\n",
    "<b>Visualization Coordinates</b> UMAP<br>\n",
    "<b>Patterns</b> 2, 14<br>\n",
    "<b>Phenotype</b> cell_type<br>\n",
    "<b>Phenotype Values</b> B cells, DCs, Neutrophils<br>\n",
    "<b>Subset</b> TRUE<br>\n",
    "<b>Width</b> 3<br>\n",
    "    \n",
    "This will make a side by side UMAP plot colored by pattern 2 and 14 as well as B cells, DCs, and Neutrophils - only the samples belonging to those cell types will be shown.\n",
    "</div>"
   ]
  },
  {
   "cell_type": "code",
   "execution_count": 72,
   "metadata": {
    "nbtools": {
     "description": "Plots patterns overlaid on either a UMAP or TSNE plot of the original data.",
     "name": "PlotCogapsPatterns",
     "param_values": {
      "AnnData_File": "ica_cord_blood/donor_5_cogaps_result.h5ad",
      "Patterns": "2, 14",
      "Phenotype": "cell_type",
      "Phenotype_Values": "B cells, DCs, Neutrophils",
      "Subset": "true",
      "Visualization_Coordinates": "UMAP",
      "Width": "3",
      "adata_file": "ica_cord_blood/donor_5_cogaps_result.h5ad",
      "cell_type": "NK cells",
      "output_var": "",
      "pattern_num": "4"
     },
     "show_code": false,
     "type": "uibuilder"
    }
   },
   "outputs": [
    {
     "data": {
      "application/vnd.jupyter.widget-view+json": {
       "model_id": "db07bcc93e45499098b9df63d718dc4f",
       "version_major": 2,
       "version_minor": 0
      },
      "text/plain": [
       "UIBuilder(description='Plots patterns overlaid on either a UMAP or TSNE plot of the original data.', function_…"
      ]
     },
     "metadata": {},
     "output_type": "display_data"
    }
   ],
   "source": [
    "genepattern.GPUIBuilder(PlotCogapsPatterns,\n",
    "                        description=PlotCogapsPatterns_description,\n",
    "                        parameters=PlotCogapsPatterns_parameters)"
   ]
  },
  {
   "cell_type": "markdown",
   "metadata": {},
   "source": [
    "<div class=\"alert alert-info\">\n",
    "<b style=\"font-size:120%;\">PlotCogapsPatterns</b><br>\n",
    "<b>AnnData File</b> ica_cord_blood/donor_5_cogaps_result.h5ad<br>\n",
    "<b>Visualization Coordinates</b> UMAP<br>\n",
    "<b>Patterns</b> 2, 14<br>\n",
    "<b>Phenotype</b> cell_type<br>\n",
    "<b>Phenotype Values</b> CD4 T cells, CD8 T cells, T cells, NK cells, monocytes/macrophages<br>\n",
    "<b>Subset</b> TRUE<br>\n",
    "<b>Width</b> 3<br>\n",
    "    \n",
    "This will make a side by side UMAP plot colored by pattern 2 and 14 as well as CD4 T cells, CD8 T cells, T cells, NK cells, monocytes/macrophages - only the samples belonging to those cell types will be shown.\n",
    "</div>"
   ]
  },
  {
   "cell_type": "markdown",
   "metadata": {},
   "source": [
    "In the next plot we show that all other cell types have no weight in pattern 14, however pattern 2 still has weight in seemingly all cell types. This suggests pattern 2 is a larger effect not specific to a cell type, but that pattern 14 is pulling out something specific to `B cells`, `DCs`, and `Neutrophils`."
   ]
  },
  {
   "cell_type": "code",
   "execution_count": 73,
   "metadata": {
    "nbtools": {
     "description": "Plots patterns overlaid on either a UMAP or TSNE plot of the original data.",
     "name": "PlotCogapsPatterns",
     "param_values": {
      "AnnData_File": "ica_cord_blood/donor_5_cogaps_result.h5ad",
      "Patterns": "2, 14",
      "Phenotype": "cell_type",
      "Phenotype_Values": "CD4 T cells, CD8 T cells, T cells, NK cells, monocytes/macrophages",
      "Subset": "true",
      "Visualization_Coordinates": "UMAP",
      "Width": "3",
      "adata_file": "ica_cord_blood/donor_5_cogaps_result.h5ad",
      "cell_type": "NK cells",
      "output_var": "",
      "pattern_num": "4"
     },
     "show_code": false,
     "type": "uibuilder"
    }
   },
   "outputs": [
    {
     "data": {
      "application/vnd.jupyter.widget-view+json": {
       "model_id": "43d3ae3873b7482988a60e5a919b468e",
       "version_major": 2,
       "version_minor": 0
      },
      "text/plain": [
       "UIBuilder(description='Plots patterns overlaid on either a UMAP or TSNE plot of the original data.', function_…"
      ]
     },
     "metadata": {},
     "output_type": "display_data"
    }
   ],
   "source": [
    "genepattern.GPUIBuilder(PlotCogapsPatterns,\n",
    "                        description=PlotCogapsPatterns_description,\n",
    "                        parameters=PlotCogapsPatterns_parameters)"
   ]
  },
  {
   "cell_type": "markdown",
   "metadata": {},
   "source": [
    "The next three plots split the cell types up so there is no overlap in the UMAP. This allows us to see exactly which cell types UMAP can separate, and gives us some easy targets for finding **CoGAPS** patterns for. In future versions of the notebook we will do a complete accounting for all the patterns learned in **CoGAPS**. It will be interesting to see how well **CoGAPS** can separate the subtypes of T cells, something that is clearly not happening in the UMAP. We will also want to see if **CoGAPS** can separate the other cell types that overlap as well as any `Unknown` cell types, which make up roughly 1/3 of the total samples."
   ]
  },
  {
   "cell_type": "markdown",
   "metadata": {},
   "source": [
    "<div class=\"alert alert-info\">\n",
    "<b style=\"font-size:120%;\">UmapPlot</b><br>\n",
    "<b>AnnData File Url</b> ica_cord_blood/donor_5_preprocessed.h5ad<br>\n",
    "<b>Variable</b> cell_type<br>\n",
    "<b>Variable Subset</b> B cells, monocytes/macrophages<br>\n",
    "</div>"
   ]
  },
  {
   "cell_type": "code",
   "execution_count": 74,
   "metadata": {
    "nbtools": {
     "description": "Create a UMAP plot of an AnnData object.",
     "name": "UmapPlot",
     "param_values": {
      "AnnData_File": "ica_cord_blood/donor_5_preprocessed.h5ad",
      "File_Name": "ica_cord_blood/donor_5_cogaps_result.h5ad",
      "Variable": "cell_type",
      "Variable_Subset": "B cells, monocytes/macrophages",
      "output_var": ""
     },
     "show_code": false,
     "type": "uibuilder"
    }
   },
   "outputs": [
    {
     "data": {
      "application/vnd.jupyter.widget-view+json": {
       "model_id": "cd0841313950410cb80c3e459c984b2d",
       "version_major": 2,
       "version_minor": 0
      },
      "text/plain": [
       "UIBuilder(description='Create a UMAP plot of an AnnData object.', function_import='UmapPlot', name='UmapPlot',…"
      ]
     },
     "metadata": {},
     "output_type": "display_data"
    }
   ],
   "source": [
    "genepattern.GPUIBuilder(UmapPlot,\n",
    "                        description=UmapPlot_description,\n",
    "                        parameters=UmapPlot_parameters)"
   ]
  },
  {
   "cell_type": "markdown",
   "metadata": {},
   "source": [
    "<div class=\"alert alert-info\">\n",
    "<b style=\"font-size:120%;\">UmapPlot</b><br>\n",
    "<b>AnnData File Url</b> ica_cord_blood/donor_5_preprocessed.h5ad<br>\n",
    "<b>Variable</b> cell_type<br>\n",
    "<b>Variable Subset</b> CD4 T cells, CD8 T cells, T cells, pDCs Dcs<br>\n",
    "</div>"
   ]
  },
  {
   "cell_type": "code",
   "execution_count": 75,
   "metadata": {
    "nbtools": {
     "description": "Create a UMAP plot of an AnnData object.",
     "name": "UmapPlot",
     "param_values": {
      "AnnData_File": "ica_cord_blood/donor_5_preprocessed.h5ad",
      "File_Name": "ica_cord_blood/donor_5_cogaps_result.h5ad",
      "Variable": "cell_type",
      "Variable_Subset": "CD4 T cells, CD8 T cells, T cells, pDCs Dcs",
      "output_var": ""
     },
     "show_code": false,
     "type": "uibuilder"
    }
   },
   "outputs": [
    {
     "data": {
      "application/vnd.jupyter.widget-view+json": {
       "model_id": "88274c30f57745faa91b1ceb3248061e",
       "version_major": 2,
       "version_minor": 0
      },
      "text/plain": [
       "UIBuilder(description='Create a UMAP plot of an AnnData object.', function_import='UmapPlot', name='UmapPlot',…"
      ]
     },
     "metadata": {},
     "output_type": "display_data"
    }
   ],
   "source": [
    "genepattern.GPUIBuilder(UmapPlot,\n",
    "                        description=UmapPlot_description,\n",
    "                        parameters=UmapPlot_parameters)"
   ]
  },
  {
   "cell_type": "markdown",
   "metadata": {},
   "source": [
    "<div class=\"alert alert-info\">\n",
    "<b style=\"font-size:120%;\">UmapPlot</b><br>\n",
    "<b>AnnData File Url</b> ica_cord_blood/donor_5_preprocessed.h5ad<br>\n",
    "<b>Variable</b> cell_type<br>\n",
    "<b>Variable Subset</b> NK cells, Neutrophils<br>\n",
    "</div>"
   ]
  },
  {
   "cell_type": "code",
   "execution_count": 76,
   "metadata": {
    "nbtools": {
     "description": "Create a UMAP plot of an AnnData object.",
     "name": "UmapPlot",
     "param_values": {
      "AnnData_File": "ica_cord_blood/donor_5_preprocessed.h5ad",
      "File_Name": "ica_cord_blood/donor_5_cogaps_result.h5ad",
      "Variable": "cell_type",
      "Variable_Subset": "NK cells, Neutrophils",
      "output_var": ""
     },
     "show_code": false,
     "type": "uibuilder"
    }
   },
   "outputs": [
    {
     "data": {
      "application/vnd.jupyter.widget-view+json": {
       "model_id": "3b4a011fb5dd43fda739295c32561cff",
       "version_major": 2,
       "version_minor": 0
      },
      "text/plain": [
       "UIBuilder(description='Create a UMAP plot of an AnnData object.', function_import='UmapPlot', name='UmapPlot',…"
      ]
     },
     "metadata": {},
     "output_type": "display_data"
    }
   ],
   "source": [
    "genepattern.GPUIBuilder(UmapPlot,\n",
    "                        description=UmapPlot_description,\n",
    "                        parameters=UmapPlot_parameters)"
   ]
  },
  {
   "cell_type": "markdown",
   "metadata": {},
   "source": [
    "# References\n",
    "<a href=#Table-of-Contents>back to top</a>  "
   ]
  },
  {
   "cell_type": "markdown",
   "metadata": {},
   "source": [
    "1. Census of Immune Cells - Contributors: Bo Li, Monika S Kowalczyk, Danielle Dionne, Orr Ashenberg, Marcin Tabaka, Timothy Tickle, Jane Lee, Karthik Shekhar, Michal Slyper, Julia Waldman, Orit Rozenblatt-Rosen, Aviv Regev. Collaborating organisations: Broad Institute, Massachusetts Institute of Technology, Howard Hughes Medical Institute.\n",
    "\n",
    "2. Fertig, E.J., et al. (2010). CoGAPS: an R/C++ package to identify patterns and biological process activity in transcriptomic data. Bioinformatics 26: 2792-2793.\n",
    "\n",
    "3. Lun, A.T.L., et al. (2016). A step-by-step workflow for low-level analysis of single-cell RNA-seq data with Bioconductor. F1000Res., 5, 2122.\n",
    "\n",
    "4. Pliner, H.A., et al. (2019). Supervised classification enables rapid annotation of cell atlases. bioRxiv\n",
    "\n",
    "5. Stein-O'Brien, G.L. et al. (2017). PatternMarkers &amp; GWCoGAPS for novel data-driven biomarkers via whole transcriptome NMF. Bioinformatics 33(12): 1892-1894.\n",
    "\n",
    "6. Stein-O'Brien, G.L. et al. (2018). Decomposing cell identity for transfer learning across cellular measurements, platforms, tissues, and species. BioRxiv\n",
    "\n",
    "7. Stein-O'Brien, G.L. et al. (2018). Enter the Matrix: Factorization Uncovers Knowledge from Omics. Trends in Genetics, 34(10).\n",
    "\n",
    "8. Wolf, A.F., et al. (2018). SCANPY: large-scale single-cell gene expression data analysis. Genome Biology. 19:15"
   ]
  }
 ],
 "metadata": {
  "genepattern": {
   "repository_url": "http://notebook.genepattern.org/services/sharing/notebooks/355/"
  },
  "kernelspec": {
   "display_name": "Python 3.7",
   "language": "python",
   "name": "python3.7"
  },
  "language_info": {
   "codemirror_mode": {
    "name": "ipython",
    "version": 3
   },
   "file_extension": ".py",
   "mimetype": "text/x-python",
   "name": "python",
   "nbconvert_exporter": "python",
   "pygments_lexer": "ipython3",
   "version": "3.7.3"
  },
  "toc": {
   "base_numbering": 1,
   "nav_menu": {},
   "number_sections": false,
   "sideBar": true,
   "skip_h1_title": false,
   "title_cell": "Table of Contents",
   "title_sidebar": "Contents",
   "toc_cell": false,
   "toc_position": {},
   "toc_section_display": true,
   "toc_window_display": false
  }
 },
 "nbformat": 4,
 "nbformat_minor": 2
}
